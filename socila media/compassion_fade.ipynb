{
 "cells": [
  {
   "cell_type": "markdown",
   "metadata": {},
   "source": [
    "## Social Media analysis of top Influencers in Gaza\n",
    "We import data from instagram using the [APIFY website](https://console.apify.com) by passing the names of the four chosen influencers for our study, which are [Moataz](https://www.instagram.com/motaz_azaiza/), [Bysan](https://www.instagram.com/wizard_bisan1/), [Ahmed](https://www.instagram.com/ahmedhijazee/), and [Saleh](https://www.instagram.com/saleh_aljafarawi/). \n",
    "Data downloaded was totally in raw, we refine it by chosing the most important information for this little study. Our Objective from this study is to trace the evolution of the interactions during the war period. furthermore, we highlight the effects of temporary ceasefire on the global post and interactions. Moreover, our analisys include the skipped videos and not watched during different periods. "
   ]
  },
  {
   "cell_type": "markdown",
   "metadata": {},
   "source": [
    "#### Pre-processing of the Data"
   ]
  },
  {
   "cell_type": "code",
   "execution_count": null,
   "metadata": {},
   "outputs": [],
   "source": [
    "## Import all the packages \n",
    "import matplotlib.pyplot as plt\n",
    "from matplotlib.dates import DateFormatter, AutoDateLocator\n",
    "import pandas as pd\n",
    "from datetime import datetime\n",
    "import plotly.io as pio\n",
    "import kaleido\n",
    "import plotly.express as px\n",
    "from plotly.subplots import make_subplots\n",
    "import numpy as np\n",
    "import plotly.graph_objects as go\n",
    "import plotly.graph_objs as go\n",
    "import geopandas as gpd\n",
    "import matplotlib.patches as mpatches\n",
    "import seaborn as sns\n"
   ]
  },
  {
   "cell_type": "code",
   "execution_count": 1,
   "metadata": {},
   "outputs": [],
   "source": [
    "file_path = 'gaza.xlsx' ## Gaza file comports data in different sheet for each influencer\n",
    "\n",
    "xls = pd.ExcelFile(file_path)\n",
    "dfs = {sheet_name: xls.parse(sheet_name) for sheet_name in xls.sheet_names}\n",
    "# Access each DataFrame by its sheet name and  Create DataFrames with sheet names as variable names from the global environment\n",
    "for sheet_name, df in dfs.items():\n",
    "    globals()[sheet_name] = df  "
   ]
  },
  {
   "cell_type": "code",
   "execution_count": 2,
   "metadata": {},
   "outputs": [],
   "source": [
    "## Turn timestamp column to datetime\n",
    "saleh[\"timestamp\"] = saleh[\"timestamp\"].apply(lambda _: datetime.strptime(_,\"%Y-%m-%dT%H:%M:%S.%fZ\"))\n",
    "moataz[\"timestamp\"] = moataz[\"timestamp\"].apply(lambda _: datetime.strptime(_,\"%Y-%m-%dT%H:%M:%S.%fZ\"))\n",
    "bysan[\"timestamp\"] = bysan[\"timestamp\"].apply(lambda _: datetime.strptime(_,\"%Y-%m-%dT%H:%M:%S.%fZ\"))\n",
    "ahmed[\"timestamp\"] = ahmed[\"timestamp\"].apply(lambda _: datetime.strptime(_,\"%Y-%m-%dT%H:%M:%S.%fZ\"))"
   ]
  },
  {
   "cell_type": "code",
   "execution_count": 3,
   "metadata": {},
   "outputs": [
    {
     "name": "stdout",
     "output_type": "stream",
     "text": [
      "The number of similar values between the columns is: 0\n"
     ]
    }
   ],
   "source": [
    "## For making the sum of publications we assess the number of similar dates between Saleh and Bysan \n",
    "### You can try the other tests by changing the names with Moataz or Ahmed etc ...\n",
    "# Convert the columns to lists for comparison\n",
    "saleh_timestamp_list = saleh['timestamp'].tolist()\n",
    "ahmed_timestamp_list = bysan['timestamp'].tolist()\n",
    "\n",
    "# Count the number of similar values\n",
    "similar_values_count = sum(x == y for x, y in zip(saleh_timestamp_list, ahmed_timestamp_list))\n",
    "\n",
    "print(f\"The number of similar values between the columns is: {similar_values_count}\")\n"
   ]
  },
  {
   "cell_type": "code",
   "execution_count": 4,
   "metadata": {},
   "outputs": [],
   "source": [
    "merged_df = pd.merge(saleh, ahmed, on=list(ahmed.columns), how='outer')\n",
    "merged_df = pd.merge(merged_df, moataz, on=list(ahmed.columns), how='outer')\n",
    "merged_df = pd.merge(merged_df, bysan, on=list(ahmed.columns), how='outer')"
   ]
  },
  {
   "cell_type": "code",
   "execution_count": 5,
   "metadata": {},
   "outputs": [
    {
     "name": "stderr",
     "output_type": "stream",
     "text": [
      "C:\\Users\\alitr\\AppData\\Local\\Temp\\ipykernel_13704\\2505585733.py:4: SettingWithCopyWarning: \n",
      "A value is trying to be set on a copy of a slice from a DataFrame.\n",
      "Try using .loc[row_indexer,col_indexer] = value instead\n",
      "\n",
      "See the caveats in the documentation: https://pandas.pydata.org/pandas-docs/stable/user_guide/indexing.html#returning-a-view-versus-a-copy\n",
      "  df_saleh_tr['timestamp'] = pd.to_datetime(df_saleh_tr['timestamp']).dt.date\n",
      "C:\\Users\\alitr\\AppData\\Local\\Temp\\ipykernel_13704\\2505585733.py:17: SettingWithCopyWarning: \n",
      "A value is trying to be set on a copy of a slice from a DataFrame.\n",
      "Try using .loc[row_indexer,col_indexer] = value instead\n",
      "\n",
      "See the caveats in the documentation: https://pandas.pydata.org/pandas-docs/stable/user_guide/indexing.html#returning-a-view-versus-a-copy\n",
      "  filtered_data[\"saleh\"] = filtered_data[\"saleh\"] / 1000\n",
      "C:\\Users\\alitr\\AppData\\Local\\Temp\\ipykernel_13704\\2505585733.py:22: SettingWithCopyWarning: \n",
      "A value is trying to be set on a copy of a slice from a DataFrame.\n",
      "Try using .loc[row_indexer,col_indexer] = value instead\n",
      "\n",
      "See the caveats in the documentation: https://pandas.pydata.org/pandas-docs/stable/user_guide/indexing.html#returning-a-view-versus-a-copy\n",
      "  df_moataz_tr['timestamp'] = pd.to_datetime(df_moataz_tr['timestamp']).dt.date\n",
      "C:\\Users\\alitr\\AppData\\Local\\Temp\\ipykernel_13704\\2505585733.py:35: SettingWithCopyWarning: \n",
      "A value is trying to be set on a copy of a slice from a DataFrame.\n",
      "Try using .loc[row_indexer,col_indexer] = value instead\n",
      "\n",
      "See the caveats in the documentation: https://pandas.pydata.org/pandas-docs/stable/user_guide/indexing.html#returning-a-view-versus-a-copy\n",
      "  filtered_data1[\"moataz\"] = filtered_data1[\"moataz\"] / 1000\n",
      "C:\\Users\\alitr\\AppData\\Local\\Temp\\ipykernel_13704\\2505585733.py:40: SettingWithCopyWarning: \n",
      "A value is trying to be set on a copy of a slice from a DataFrame.\n",
      "Try using .loc[row_indexer,col_indexer] = value instead\n",
      "\n",
      "See the caveats in the documentation: https://pandas.pydata.org/pandas-docs/stable/user_guide/indexing.html#returning-a-view-versus-a-copy\n",
      "  df_ahmed_tr['timestamp'] = pd.to_datetime(df_ahmed_tr['timestamp']).dt.date\n",
      "C:\\Users\\alitr\\AppData\\Local\\Temp\\ipykernel_13704\\2505585733.py:53: SettingWithCopyWarning: \n",
      "A value is trying to be set on a copy of a slice from a DataFrame.\n",
      "Try using .loc[row_indexer,col_indexer] = value instead\n",
      "\n",
      "See the caveats in the documentation: https://pandas.pydata.org/pandas-docs/stable/user_guide/indexing.html#returning-a-view-versus-a-copy\n",
      "  filtered_data2[\"ahmed\"] = filtered_data2[\"ahmed\"] / 1000\n",
      "C:\\Users\\alitr\\AppData\\Local\\Temp\\ipykernel_13704\\2505585733.py:58: SettingWithCopyWarning: \n",
      "A value is trying to be set on a copy of a slice from a DataFrame.\n",
      "Try using .loc[row_indexer,col_indexer] = value instead\n",
      "\n",
      "See the caveats in the documentation: https://pandas.pydata.org/pandas-docs/stable/user_guide/indexing.html#returning-a-view-versus-a-copy\n",
      "  df_bysan_tr['timestamp'] = pd.to_datetime(df_bysan_tr['timestamp']).dt.date\n",
      "C:\\Users\\alitr\\AppData\\Local\\Temp\\ipykernel_13704\\2505585733.py:71: SettingWithCopyWarning: \n",
      "A value is trying to be set on a copy of a slice from a DataFrame.\n",
      "Try using .loc[row_indexer,col_indexer] = value instead\n",
      "\n",
      "See the caveats in the documentation: https://pandas.pydata.org/pandas-docs/stable/user_guide/indexing.html#returning-a-view-versus-a-copy\n",
      "  filtered_data3[\"bysan\"] = filtered_data3[\"bysan\"] / 1000\n"
     ]
    }
   ],
   "source": [
    "## Adjusting the data to the post of the events of 7th of October, which represent the main event\n",
    "\n",
    "df_saleh_tr = saleh[[\"timestamp\", \"totalreactions\"]]\n",
    "\n",
    "# Group by date and sum the values\n",
    "df_saleh_tr['timestamp'] = pd.to_datetime(df_saleh_tr['timestamp']).dt.date\n",
    "df_saleh_tr = df_saleh_tr.groupby('timestamp')['totalreactions'].agg(['sum', 'count']).reset_index()\n",
    "df_saleh_tr.columns = ['date', 'sum', 'count']\n",
    "\n",
    "# Sort the DataFrame by 'date'\n",
    "df_saleh_tr['date'] = pd.to_datetime(df_saleh_tr['date'])\n",
    "df_saleh_tr = df_saleh_tr.sort_values('date')\n",
    "\n",
    "# Filter data to retain entries from October 7, 2023, onwards\n",
    "condition = df_saleh_tr['date'] >= pd.to_datetime('2023-10-07')\n",
    "filtered_data = df_saleh_tr[condition]\n",
    "\n",
    "filtered_data.columns = [\"date\", \"saleh\", \"saleh_count\"]\n",
    "filtered_data[\"saleh\"] = filtered_data[\"saleh\"] / 1000\n",
    "\n",
    "df_moataz_tr = moataz[[\"timestamp\", \"totalreactions\"]]\n",
    "\n",
    "# Group by date and sum the values\n",
    "df_moataz_tr['timestamp'] = pd.to_datetime(df_moataz_tr['timestamp']).dt.date\n",
    "df_moataz_tr = df_moataz_tr.groupby('timestamp')['totalreactions'].agg(['sum', 'count']).reset_index()\n",
    "df_moataz_tr.columns = ['date', 'sum', 'count']\n",
    "\n",
    "# Sort the DataFrame by 'date'\n",
    "df_moataz_tr['date'] = pd.to_datetime(df_moataz_tr['date'])\n",
    "df_moataz_tr = df_moataz_tr.sort_values('date')\n",
    "\n",
    "# Filter data to retain entries from October 7, 2023, onwards\n",
    "condition = df_moataz_tr['date'] >= pd.to_datetime('2023-10-07')\n",
    "filtered_data1 = df_moataz_tr[condition]\n",
    "\n",
    "filtered_data1.columns = [\"date\", \"moataz\", \"moataz_count\"]\n",
    "filtered_data1[\"moataz\"] = filtered_data1[\"moataz\"] / 1000\n",
    "\n",
    "df_ahmed_tr = ahmed[[\"timestamp\", \"totalreactions\"]]\n",
    "\n",
    "# Group by date and sum the values\n",
    "df_ahmed_tr['timestamp'] = pd.to_datetime(df_ahmed_tr['timestamp']).dt.date\n",
    "df_ahmed_tr = df_ahmed_tr.groupby('timestamp')['totalreactions'].agg(['sum', 'count']).reset_index()\n",
    "df_ahmed_tr.columns = ['date', 'sum', 'count']\n",
    "\n",
    "# Sort the DataFrame by 'date'\n",
    "df_ahmed_tr['date'] = pd.to_datetime(df_ahmed_tr['date'])\n",
    "df_ahmed_tr = df_ahmed_tr.sort_values('date')\n",
    "\n",
    "# Filter data to retain entries from October 7, 2023, onwards\n",
    "condition = df_ahmed_tr['date'] >= pd.to_datetime('2023-10-07')\n",
    "filtered_data2 = df_ahmed_tr[condition]\n",
    "\n",
    "filtered_data2.columns = [\"date\", \"ahmed\", \"ahmed_count\"]\n",
    "filtered_data2[\"ahmed\"] = filtered_data2[\"ahmed\"] / 1000\n",
    "\n",
    "df_bysan_tr = bysan[[\"timestamp\", \"totalreactions\"]]\n",
    "\n",
    "# Group by date and sum the values\n",
    "df_bysan_tr['timestamp'] = pd.to_datetime(df_bysan_tr['timestamp']).dt.date\n",
    "df_bysan_tr = df_bysan_tr.groupby('timestamp')['totalreactions'].agg(['sum', 'count']).reset_index()\n",
    "df_bysan_tr.columns = ['date', 'sum', 'count']\n",
    "\n",
    "# Sort the DataFrame by 'date'\n",
    "df_bysan_tr['date'] = pd.to_datetime(df_bysan_tr['date'])\n",
    "df_bysan_tr = df_bysan_tr.sort_values('date')\n",
    "\n",
    "# Filter data to retain entries from October 7, 2023, onwards\n",
    "condition = df_bysan_tr['date'] >= pd.to_datetime('2023-10-07')\n",
    "filtered_data3 = df_bysan_tr[condition]\n",
    "\n",
    "filtered_data3.columns = [\"date\", \"bysan\", \"bysan_count\"]\n",
    "filtered_data3[\"bysan\"] = filtered_data3[\"bysan\"] / 1000"
   ]
  },
  {
   "cell_type": "code",
   "execution_count": 24,
   "metadata": {},
   "outputs": [],
   "source": [
    "### Merge the data into a list of dataframes\n",
    "condition = df_bysan_tr['date'] >= pd.to_datetime('2023-10-07')\n",
    "df_bysan_tr = df_bysan_tr[condition]\n",
    "condition = df_saleh_tr['date'] >= pd.to_datetime('2023-10-07')\n",
    "df_saleh_tr = df_saleh_tr[condition]\n",
    "condition = df_moataz_tr['date'] >= pd.to_datetime('2023-10-07')\n",
    "df_moataz_tr = df_moataz_tr[condition]\n",
    "condition = df_ahmed_tr['date'] >= pd.to_datetime('2023-10-07')\n",
    "df_ahmed_tr = df_ahmed_tr[condition]\n",
    "dfs_filtered = [filtered_data[[\"date\", \"saleh\"]], filtered_data1[[\"date\", \"moataz\"]], filtered_data2[[\"date\", \"ahmed\"]], \n",
    "       filtered_data3[[\"date\", \"bysan\"]]]\n",
    "dfs = [df_saleh_tr[[\"date\", \"sum\"]], df_moataz_tr[[\"date\", \"sum\"]], df_ahmed_tr[[\"date\", \"sum\"]], df_bysan_tr[[\"date\", \"sum\"]]]"
   ]
  },
  {
   "cell_type": "code",
   "execution_count": 7,
   "metadata": {},
   "outputs": [
    {
     "name": "stderr",
     "output_type": "stream",
     "text": [
      "C:\\Users\\alitr\\AppData\\Local\\Temp\\ipykernel_13704\\1036157167.py:3: FutureWarning: Passing 'suffixes' which cause duplicate columns {'sum_x'} in the result is deprecated and will raise a MergeError in a future version.\n",
      "  to_sum = pd.merge(to_sum, dfs[3], on='date', how='outer')\n"
     ]
    }
   ],
   "source": [
    "to_sum = pd.merge(dfs[0], dfs[1], on='date', how='outer')\n",
    "to_sum = pd.merge(to_sum, dfs[2], on='date', how='outer')\n",
    "to_sum = pd.merge(to_sum, dfs[3], on='date', how='outer')\n",
    "to_sum['sum_last_four'] = to_sum.iloc[:, 1:].sum(axis=1, skipna=True)\n",
    "to_sum = to_sum[['date', 'sum_last_four']]\n",
    "to_sum.columns = ['date', 'sum']\n",
    "\n",
    "to_sum = to_sum.sort_values(by='date')\n",
    "dfs.append(to_sum)"
   ]
  },
  {
   "cell_type": "code",
   "execution_count": 8,
   "metadata": {},
   "outputs": [
    {
     "name": "stderr",
     "output_type": "stream",
     "text": [
      "C:\\Users\\alitr\\AppData\\Local\\Temp\\ipykernel_13704\\2354149008.py:4: SettingWithCopyWarning: \n",
      "A value is trying to be set on a copy of a slice from a DataFrame.\n",
      "Try using .loc[row_indexer,col_indexer] = value instead\n",
      "\n",
      "See the caveats in the documentation: https://pandas.pydata.org/pandas-docs/stable/user_guide/indexing.html#returning-a-view-versus-a-copy\n",
      "  df_saleh_ahit['timestamp'] = pd.to_datetime(df_saleh_ahit['timestamp']).dt.date\n",
      "C:\\Users\\alitr\\AppData\\Local\\Temp\\ipykernel_13704\\2354149008.py:5: SettingWithCopyWarning: \n",
      "A value is trying to be set on a copy of a slice from a DataFrame.\n",
      "Try using .loc[row_indexer,col_indexer] = value instead\n",
      "\n",
      "See the caveats in the documentation: https://pandas.pydata.org/pandas-docs/stable/user_guide/indexing.html#returning-a-view-versus-a-copy\n",
      "  df_saleh_ahit['average_hit'] = df_saleh_ahit[\"videoViewCount\"] / df_saleh_ahit[\"videoPlayCount\"]\n",
      "C:\\Users\\alitr\\AppData\\Local\\Temp\\ipykernel_13704\\2354149008.py:18: SettingWithCopyWarning: \n",
      "A value is trying to be set on a copy of a slice from a DataFrame.\n",
      "Try using .loc[row_indexer,col_indexer] = value instead\n",
      "\n",
      "See the caveats in the documentation: https://pandas.pydata.org/pandas-docs/stable/user_guide/indexing.html#returning-a-view-versus-a-copy\n",
      "  filtered_data_ahit[\"saleh\"] = filtered_data_ahit[\"saleh\"]\n",
      "C:\\Users\\alitr\\AppData\\Local\\Temp\\ipykernel_13704\\2354149008.py:23: SettingWithCopyWarning: \n",
      "A value is trying to be set on a copy of a slice from a DataFrame.\n",
      "Try using .loc[row_indexer,col_indexer] = value instead\n",
      "\n",
      "See the caveats in the documentation: https://pandas.pydata.org/pandas-docs/stable/user_guide/indexing.html#returning-a-view-versus-a-copy\n",
      "  df_moataz_ahit['timestamp'] = pd.to_datetime(df_moataz_ahit['timestamp']).dt.date\n",
      "C:\\Users\\alitr\\AppData\\Local\\Temp\\ipykernel_13704\\2354149008.py:24: SettingWithCopyWarning: \n",
      "A value is trying to be set on a copy of a slice from a DataFrame.\n",
      "Try using .loc[row_indexer,col_indexer] = value instead\n",
      "\n",
      "See the caveats in the documentation: https://pandas.pydata.org/pandas-docs/stable/user_guide/indexing.html#returning-a-view-versus-a-copy\n",
      "  df_moataz_ahit['average_hit'] = df_moataz_ahit[\"videoViewCount\"] / df_moataz_ahit[\"videoPlayCount\"]\n",
      "C:\\Users\\alitr\\AppData\\Local\\Temp\\ipykernel_13704\\2354149008.py:37: SettingWithCopyWarning: \n",
      "A value is trying to be set on a copy of a slice from a DataFrame.\n",
      "Try using .loc[row_indexer,col_indexer] = value instead\n",
      "\n",
      "See the caveats in the documentation: https://pandas.pydata.org/pandas-docs/stable/user_guide/indexing.html#returning-a-view-versus-a-copy\n",
      "  filtered_data_ahit1[\"moataz\"] = filtered_data_ahit1[\"moataz\"]\n",
      "C:\\Users\\alitr\\AppData\\Local\\Temp\\ipykernel_13704\\2354149008.py:42: SettingWithCopyWarning: \n",
      "A value is trying to be set on a copy of a slice from a DataFrame.\n",
      "Try using .loc[row_indexer,col_indexer] = value instead\n",
      "\n",
      "See the caveats in the documentation: https://pandas.pydata.org/pandas-docs/stable/user_guide/indexing.html#returning-a-view-versus-a-copy\n",
      "  df_ahmed_ahit['timestamp'] = pd.to_datetime(df_ahmed_ahit['timestamp']).dt.date\n",
      "C:\\Users\\alitr\\AppData\\Local\\Temp\\ipykernel_13704\\2354149008.py:43: SettingWithCopyWarning: \n",
      "A value is trying to be set on a copy of a slice from a DataFrame.\n",
      "Try using .loc[row_indexer,col_indexer] = value instead\n",
      "\n",
      "See the caveats in the documentation: https://pandas.pydata.org/pandas-docs/stable/user_guide/indexing.html#returning-a-view-versus-a-copy\n",
      "  df_ahmed_ahit['average_hit'] = df_ahmed_ahit[\"videoViewCount\"] / df_ahmed_ahit[\"videoPlayCount\"]\n",
      "C:\\Users\\alitr\\AppData\\Local\\Temp\\ipykernel_13704\\2354149008.py:56: SettingWithCopyWarning: \n",
      "A value is trying to be set on a copy of a slice from a DataFrame.\n",
      "Try using .loc[row_indexer,col_indexer] = value instead\n",
      "\n",
      "See the caveats in the documentation: https://pandas.pydata.org/pandas-docs/stable/user_guide/indexing.html#returning-a-view-versus-a-copy\n",
      "  filtered_data_ahit2[\"ahmed\"] = filtered_data_ahit2[\"ahmed\"]\n",
      "C:\\Users\\alitr\\AppData\\Local\\Temp\\ipykernel_13704\\2354149008.py:62: SettingWithCopyWarning: \n",
      "A value is trying to be set on a copy of a slice from a DataFrame.\n",
      "Try using .loc[row_indexer,col_indexer] = value instead\n",
      "\n",
      "See the caveats in the documentation: https://pandas.pydata.org/pandas-docs/stable/user_guide/indexing.html#returning-a-view-versus-a-copy\n",
      "  df_bysan_ahit['timestamp'] = pd.to_datetime(df_bysan_ahit['timestamp']).dt.date\n",
      "C:\\Users\\alitr\\AppData\\Local\\Temp\\ipykernel_13704\\2354149008.py:63: SettingWithCopyWarning: \n",
      "A value is trying to be set on a copy of a slice from a DataFrame.\n",
      "Try using .loc[row_indexer,col_indexer] = value instead\n",
      "\n",
      "See the caveats in the documentation: https://pandas.pydata.org/pandas-docs/stable/user_guide/indexing.html#returning-a-view-versus-a-copy\n",
      "  df_bysan_ahit['average_hit'] = df_bysan_ahit[\"videoViewCount\"] / df_bysan_ahit[\"videoPlayCount\"]\n",
      "C:\\Users\\alitr\\AppData\\Local\\Temp\\ipykernel_13704\\2354149008.py:76: SettingWithCopyWarning: \n",
      "A value is trying to be set on a copy of a slice from a DataFrame.\n",
      "Try using .loc[row_indexer,col_indexer] = value instead\n",
      "\n",
      "See the caveats in the documentation: https://pandas.pydata.org/pandas-docs/stable/user_guide/indexing.html#returning-a-view-versus-a-copy\n",
      "  filtered_data_ahit3[\"bysan\"] = filtered_data_ahit3[\"bysan\"]\n"
     ]
    }
   ],
   "source": [
    "### To calculate the views per play or click(hit), we select from the main dataframes \n",
    "df_saleh_ahit = saleh[[\"timestamp\", \"videoViewCount\", \"videoPlayCount\"]]\n",
    "\n",
    "# Group by date and sum the values\n",
    "df_saleh_ahit['timestamp'] = pd.to_datetime(df_saleh_ahit['timestamp']).dt.date\n",
    "df_saleh_ahit['average_hit'] = df_saleh_ahit[\"videoViewCount\"] / df_saleh_ahit[\"videoPlayCount\"]\n",
    "df_saleh_ahit = df_saleh_ahit.groupby('timestamp')['average_hit'].agg(['mean', 'count']).reset_index()\n",
    "df_saleh_ahit.columns = ['date', 'mean', 'count']\n",
    "\n",
    "# Sort the DataFrame by 'date'\n",
    "df_saleh_ahit['date'] = pd.to_datetime(df_saleh_ahit['date'])\n",
    "df_saleh_ahit = df_saleh_ahit.sort_values('date')\n",
    "\n",
    "# Filter data to retain entries from October 7, 2023, onwards\n",
    "condition = df_saleh_ahit['date'] >= pd.to_datetime('2023-10-07')\n",
    "filtered_data_ahit = df_saleh_ahit[condition]\n",
    "\n",
    "filtered_data_ahit.columns = [\"date\", \"saleh\", \"saleh_count\"]\n",
    "filtered_data_ahit[\"saleh\"] = filtered_data_ahit[\"saleh\"]\n",
    "\n",
    "df_moataz_ahit = moataz[[\"timestamp\", \"videoViewCount\", \"videoPlayCount\"]]\n",
    "\n",
    "# Group by date and sum the values\n",
    "df_moataz_ahit['timestamp'] = pd.to_datetime(df_moataz_ahit['timestamp']).dt.date\n",
    "df_moataz_ahit['average_hit'] = df_moataz_ahit[\"videoViewCount\"] / df_moataz_ahit[\"videoPlayCount\"]\n",
    "df_moataz_ahit = df_moataz_ahit.groupby('timestamp')['average_hit'].agg(['mean', 'count']).reset_index()\n",
    "df_moataz_ahit.columns = ['date', 'mean', 'count']\n",
    "\n",
    "# Sort the DataFrame by 'date'\n",
    "df_moataz_ahit['date'] = pd.to_datetime(df_moataz_ahit['date'])\n",
    "df_moataz_ahit = df_moataz_ahit.sort_values('date')\n",
    "\n",
    "# Filter data to retain entries from October 7, 2023, onwards\n",
    "condition = df_moataz_ahit['date'] >= pd.to_datetime('2023-10-07')\n",
    "filtered_data_ahit1 = df_moataz_ahit[condition]\n",
    "\n",
    "filtered_data_ahit1.columns = [\"date\", \"moataz\", \"moataz_count\"]\n",
    "filtered_data_ahit1[\"moataz\"] = filtered_data_ahit1[\"moataz\"]\n",
    "\n",
    "df_ahmed_ahit = ahmed[[\"timestamp\", \"videoViewCount\", \"videoPlayCount\"]]\n",
    "\n",
    "# Group by date and sum the values\n",
    "df_ahmed_ahit['timestamp'] = pd.to_datetime(df_ahmed_ahit['timestamp']).dt.date\n",
    "df_ahmed_ahit['average_hit'] = df_ahmed_ahit[\"videoViewCount\"] / df_ahmed_ahit[\"videoPlayCount\"]\n",
    "df_ahmed_ahit = df_ahmed_ahit.groupby('timestamp')['average_hit'].agg(['mean', 'count']).reset_index()\n",
    "df_ahmed_ahit.columns = ['date', 'mean', 'count']\n",
    "\n",
    "# Sort the DataFrame by 'date'\n",
    "df_ahmed_ahit['date'] = pd.to_datetime(df_ahmed_ahit['date'])\n",
    "df_ahmed_ahit = df_ahmed_ahit.sort_values('date')\n",
    "\n",
    "# Filter data to retain entries from October 7, 2023, onwards\n",
    "condition = df_ahmed_ahit['date'] >= pd.to_datetime('2023-10-07')\n",
    "filtered_data_ahit2 = df_ahmed_ahit[condition]\n",
    "\n",
    "filtered_data_ahit2.columns = [\"date\", \"ahmed\", \"ahmed_count\"]\n",
    "filtered_data_ahit2[\"ahmed\"] = filtered_data_ahit2[\"ahmed\"]\n",
    "\n",
    "\n",
    "df_bysan_ahit = bysan[[\"timestamp\", \"videoViewCount\", \"videoPlayCount\"]]\n",
    "\n",
    "# Group by date and sum the values\n",
    "df_bysan_ahit['timestamp'] = pd.to_datetime(df_bysan_ahit['timestamp']).dt.date\n",
    "df_bysan_ahit['average_hit'] = df_bysan_ahit[\"videoViewCount\"] / df_bysan_ahit[\"videoPlayCount\"]\n",
    "df_bysan_ahit = df_bysan_ahit.groupby('timestamp')['average_hit'].agg(['mean', 'count']).reset_index()\n",
    "df_bysan_ahit.columns = ['date', 'mean', 'count']\n",
    "\n",
    "# Sort the DataFrame by 'date'\n",
    "df_bysan_ahit['date'] = pd.to_datetime(df_bysan_ahit['date'])\n",
    "df_bysan_ahit = df_bysan_ahit.sort_values('date')\n",
    "\n",
    "# Filter data to retain entries from October 7, 2023, onwards\n",
    "condition = df_bysan_ahit['date'] >= pd.to_datetime('2023-10-07')\n",
    "filtered_data_ahit3 = df_bysan_ahit[condition]\n",
    "\n",
    "filtered_data_ahit3.columns = [\"date\", \"bysan\", \"bysan_count\"]\n",
    "filtered_data_ahit3[\"bysan\"] = filtered_data_ahit3[\"bysan\"]"
   ]
  },
  {
   "cell_type": "code",
   "execution_count": 9,
   "metadata": {},
   "outputs": [],
   "source": [
    "### Make a list of dataframes for the play per click\n",
    "condition = df_bysan_ahit['date'] >= pd.to_datetime('2023-10-07')\n",
    "df_bysan_ahit = df_bysan_ahit[condition]\n",
    "condition = df_saleh_ahit['date'] >= pd.to_datetime('2023-10-07')\n",
    "df_saleh_ahit = df_saleh_ahit[condition]\n",
    "condition = df_moataz_ahit['date'] >= pd.to_datetime('2023-10-07')\n",
    "df_moataz_ahit = df_moataz_ahit[condition]\n",
    "condition = df_ahmed_ahit['date'] >= pd.to_datetime('2023-10-07')\n",
    "df_ahmed_ahit = df_ahmed_ahit[condition]\n",
    "dfs_filtered_hit = [filtered_data_ahit[[\"date\", \"saleh\"]], filtered_data_ahit1[[\"date\", \"moataz\"]], filtered_data_ahit2[[\"date\", \"ahmed\"]], \n",
    "       filtered_data_ahit3[[\"date\", \"bysan\"]]]\n",
    "dfs_hit = [df_saleh_ahit[[\"date\", \"mean\"]], df_moataz_ahit[[\"date\", \"mean\"]], df_ahmed_ahit[[\"date\", \"mean\"]], df_bysan_ahit[[\"date\", \"mean\"]]]"
   ]
  },
  {
   "cell_type": "code",
   "execution_count": 10,
   "metadata": {},
   "outputs": [
    {
     "name": "stderr",
     "output_type": "stream",
     "text": [
      "C:\\Users\\alitr\\AppData\\Local\\Temp\\ipykernel_13704\\2433116585.py:3: FutureWarning: Passing 'suffixes' which cause duplicate columns {'mean_x'} in the result is deprecated and will raise a MergeError in a future version.\n",
      "  to_mean = pd.merge(to_mean, dfs_hit[3], on='date', how='outer')\n"
     ]
    }
   ],
   "source": [
    "### Calculate the Mean for all the Influencers of global view per click\n",
    "to_mean = pd.merge(dfs_hit[0], dfs_hit[1], on='date', how='outer')\n",
    "to_mean = pd.merge(to_mean, dfs_hit[2], on='date', how='outer')\n",
    "to_mean = pd.merge(to_mean, dfs_hit[3], on='date', how='outer')\n",
    "to_mean['mean_last_four'] = to_mean.iloc[:, 1:].mean(axis=1, skipna=True)\n",
    "to_mean = to_mean[['date', 'mean_last_four']]\n",
    "to_mean.columns = ['date', 'mean']\n",
    "\n",
    "to_mean = to_mean.sort_values(by='date')\n",
    "dfs_hit.append(to_mean)"
   ]
  },
  {
   "cell_type": "markdown",
   "metadata": {},
   "source": [
    "### The bar plot for the number of publication per category during the three periods"
   ]
  },
  {
   "cell_type": "code",
   "execution_count": 44,
   "metadata": {},
   "outputs": [
    {
     "name": "stderr",
     "output_type": "stream",
     "text": [
      "C:\\Users\\alitr\\AppData\\Local\\Temp\\ipykernel_13704\\1787954471.py:3: SettingWithCopyWarning:\n",
      "\n",
      "\n",
      "A value is trying to be set on a copy of a slice from a DataFrame.\n",
      "Try using .loc[row_indexer,col_indexer] = value instead\n",
      "\n",
      "See the caveats in the documentation: https://pandas.pydata.org/pandas-docs/stable/user_guide/indexing.html#returning-a-view-versus-a-copy\n",
      "\n"
     ]
    },
    {
     "data": {
      "application/vnd.plotly.v1+json": {
       "config": {
        "plotlyServerURL": "https://plot.ly"
       },
       "data": [
        {
         "alignmentgroup": "True",
         "hovertemplate": "Type=%{x}<br>period=Before Truce<br>Number of Publications=%{y}<extra></extra>",
         "legendgroup": "Video",
         "marker": {
          "color": "#606c38",
          "line": {
           "color": "black",
           "width": 1
          },
          "pattern": {
           "shape": ""
          }
         },
         "name": "Video",
         "offsetgroup": "Video",
         "opacity": 0.7,
         "orientation": "v",
         "showlegend": true,
         "textposition": "auto",
         "type": "bar",
         "x": [
          "Video"
         ],
         "xaxis": "x",
         "y": [
          363
         ],
         "yaxis": "y"
        },
        {
         "alignmentgroup": "True",
         "hovertemplate": "Type=%{x}<br>period=During Truce<br>Number of Publications=%{y}<extra></extra>",
         "legendgroup": "Video",
         "marker": {
          "color": "#606c38",
          "line": {
           "color": "black",
           "width": 1
          },
          "pattern": {
           "shape": ""
          }
         },
         "name": "Video",
         "offsetgroup": "Video",
         "opacity": 0.7,
         "orientation": "v",
         "showlegend": false,
         "textposition": "auto",
         "type": "bar",
         "x": [
          "Video"
         ],
         "xaxis": "x2",
         "y": [
          18
         ],
         "yaxis": "y2"
        },
        {
         "alignmentgroup": "True",
         "hovertemplate": "Type=%{x}<br>period=After Truce<br>Number of Publications=%{y}<extra></extra>",
         "legendgroup": "Video",
         "marker": {
          "color": "#606c38",
          "line": {
           "color": "black",
           "width": 1
          },
          "pattern": {
           "shape": ""
          }
         },
         "name": "Video",
         "offsetgroup": "Video",
         "opacity": 0.7,
         "orientation": "v",
         "showlegend": false,
         "textposition": "auto",
         "type": "bar",
         "x": [
          "Video"
         ],
         "xaxis": "x3",
         "y": [
          124
         ],
         "yaxis": "y3"
        },
        {
         "alignmentgroup": "True",
         "hovertemplate": "Type=%{x}<br>period=Before Truce<br>Number of Publications=%{y}<extra></extra>",
         "legendgroup": "Sidecar",
         "marker": {
          "color": "#fefae0",
          "line": {
           "color": "black",
           "width": 1
          },
          "pattern": {
           "shape": ""
          }
         },
         "name": "Sidecar",
         "offsetgroup": "Sidecar",
         "opacity": 0.7,
         "orientation": "v",
         "showlegend": true,
         "textposition": "auto",
         "type": "bar",
         "x": [
          "Sidecar"
         ],
         "xaxis": "x",
         "y": [
          41
         ],
         "yaxis": "y"
        },
        {
         "alignmentgroup": "True",
         "hovertemplate": "Type=%{x}<br>period=During Truce<br>Number of Publications=%{y}<extra></extra>",
         "legendgroup": "Sidecar",
         "marker": {
          "color": "#fefae0",
          "line": {
           "color": "black",
           "width": 1
          },
          "pattern": {
           "shape": ""
          }
         },
         "name": "Sidecar",
         "offsetgroup": "Sidecar",
         "opacity": 0.7,
         "orientation": "v",
         "showlegend": false,
         "textposition": "auto",
         "type": "bar",
         "x": [
          "Sidecar"
         ],
         "xaxis": "x2",
         "y": [
          1
         ],
         "yaxis": "y2"
        },
        {
         "alignmentgroup": "True",
         "hovertemplate": "Type=%{x}<br>period=After Truce<br>Number of Publications=%{y}<extra></extra>",
         "legendgroup": "Sidecar",
         "marker": {
          "color": "#fefae0",
          "line": {
           "color": "black",
           "width": 1
          },
          "pattern": {
           "shape": ""
          }
         },
         "name": "Sidecar",
         "offsetgroup": "Sidecar",
         "opacity": 0.7,
         "orientation": "v",
         "showlegend": false,
         "textposition": "auto",
         "type": "bar",
         "x": [
          "Sidecar"
         ],
         "xaxis": "x3",
         "y": [
          14
         ],
         "yaxis": "y3"
        },
        {
         "alignmentgroup": "True",
         "hovertemplate": "Type=%{x}<br>period=Before Truce<br>Number of Publications=%{y}<extra></extra>",
         "legendgroup": "Image",
         "marker": {
          "color": "#bc6c25",
          "line": {
           "color": "black",
           "width": 1
          },
          "pattern": {
           "shape": ""
          }
         },
         "name": "Image",
         "offsetgroup": "Image",
         "opacity": 0.7,
         "orientation": "v",
         "showlegend": true,
         "textposition": "auto",
         "type": "bar",
         "x": [
          "Image"
         ],
         "xaxis": "x",
         "y": [
          39
         ],
         "yaxis": "y"
        },
        {
         "alignmentgroup": "True",
         "hovertemplate": "Type=%{x}<br>period=During Truce<br>Number of Publications=%{y}<extra></extra>",
         "legendgroup": "Image",
         "marker": {
          "color": "#bc6c25",
          "line": {
           "color": "black",
           "width": 1
          },
          "pattern": {
           "shape": ""
          }
         },
         "name": "Image",
         "offsetgroup": "Image",
         "opacity": 0.7,
         "orientation": "v",
         "showlegend": false,
         "textposition": "auto",
         "type": "bar",
         "x": [
          "Image"
         ],
         "xaxis": "x2",
         "y": [
          3
         ],
         "yaxis": "y2"
        },
        {
         "alignmentgroup": "True",
         "hovertemplate": "Type=%{x}<br>period=After Truce<br>Number of Publications=%{y}<extra></extra>",
         "legendgroup": "Image",
         "marker": {
          "color": "#bc6c25",
          "line": {
           "color": "black",
           "width": 1
          },
          "pattern": {
           "shape": ""
          }
         },
         "name": "Image",
         "offsetgroup": "Image",
         "opacity": 0.7,
         "orientation": "v",
         "showlegend": false,
         "textposition": "auto",
         "type": "bar",
         "x": [
          "Image"
         ],
         "xaxis": "x3",
         "y": [
          22
         ],
         "yaxis": "y3"
        }
       ],
       "layout": {
        "annotations": [
         {
          "font": {},
          "showarrow": false,
          "text": "period=Before Truce",
          "x": 0.15999999999999998,
          "xanchor": "center",
          "xref": "paper",
          "y": 1,
          "yanchor": "bottom",
          "yref": "paper"
         },
         {
          "font": {},
          "showarrow": false,
          "text": "period=During Truce",
          "x": 0.49999999999999994,
          "xanchor": "center",
          "xref": "paper",
          "y": 1,
          "yanchor": "bottom",
          "yref": "paper"
         },
         {
          "font": {},
          "showarrow": false,
          "text": "period=After Truce",
          "x": 0.8399999999999999,
          "xanchor": "center",
          "xref": "paper",
          "y": 1,
          "yanchor": "bottom",
          "yref": "paper"
         }
        ],
        "barmode": "relative",
        "font": {
         "color": "white",
         "family": "Fredoka One",
         "size": 21
        },
        "legend": {
         "title": {
          "text": "Type"
         },
         "tracegroupgap": 0
        },
        "margin": {
         "t": 60
        },
        "paper_bgcolor": "rgba(0, 0, 0, 0.5)",
        "plot_bgcolor": "rgba(0, 0, 0, 0.7)",
        "template": {
         "data": {
          "bar": [
           {
            "error_x": {
             "color": "#f2f5fa"
            },
            "error_y": {
             "color": "#f2f5fa"
            },
            "marker": {
             "line": {
              "color": "rgb(17,17,17)",
              "width": 0.5
             },
             "pattern": {
              "fillmode": "overlay",
              "size": 10,
              "solidity": 0.2
             }
            },
            "type": "bar"
           }
          ],
          "barpolar": [
           {
            "marker": {
             "line": {
              "color": "rgb(17,17,17)",
              "width": 0.5
             },
             "pattern": {
              "fillmode": "overlay",
              "size": 10,
              "solidity": 0.2
             }
            },
            "type": "barpolar"
           }
          ],
          "carpet": [
           {
            "aaxis": {
             "endlinecolor": "#A2B1C6",
             "gridcolor": "#506784",
             "linecolor": "#506784",
             "minorgridcolor": "#506784",
             "startlinecolor": "#A2B1C6"
            },
            "baxis": {
             "endlinecolor": "#A2B1C6",
             "gridcolor": "#506784",
             "linecolor": "#506784",
             "minorgridcolor": "#506784",
             "startlinecolor": "#A2B1C6"
            },
            "type": "carpet"
           }
          ],
          "choropleth": [
           {
            "colorbar": {
             "outlinewidth": 0,
             "ticks": ""
            },
            "type": "choropleth"
           }
          ],
          "contour": [
           {
            "colorbar": {
             "outlinewidth": 0,
             "ticks": ""
            },
            "colorscale": [
             [
              0,
              "#0d0887"
             ],
             [
              0.1111111111111111,
              "#46039f"
             ],
             [
              0.2222222222222222,
              "#7201a8"
             ],
             [
              0.3333333333333333,
              "#9c179e"
             ],
             [
              0.4444444444444444,
              "#bd3786"
             ],
             [
              0.5555555555555556,
              "#d8576b"
             ],
             [
              0.6666666666666666,
              "#ed7953"
             ],
             [
              0.7777777777777778,
              "#fb9f3a"
             ],
             [
              0.8888888888888888,
              "#fdca26"
             ],
             [
              1,
              "#f0f921"
             ]
            ],
            "type": "contour"
           }
          ],
          "contourcarpet": [
           {
            "colorbar": {
             "outlinewidth": 0,
             "ticks": ""
            },
            "type": "contourcarpet"
           }
          ],
          "heatmap": [
           {
            "colorbar": {
             "outlinewidth": 0,
             "ticks": ""
            },
            "colorscale": [
             [
              0,
              "#0d0887"
             ],
             [
              0.1111111111111111,
              "#46039f"
             ],
             [
              0.2222222222222222,
              "#7201a8"
             ],
             [
              0.3333333333333333,
              "#9c179e"
             ],
             [
              0.4444444444444444,
              "#bd3786"
             ],
             [
              0.5555555555555556,
              "#d8576b"
             ],
             [
              0.6666666666666666,
              "#ed7953"
             ],
             [
              0.7777777777777778,
              "#fb9f3a"
             ],
             [
              0.8888888888888888,
              "#fdca26"
             ],
             [
              1,
              "#f0f921"
             ]
            ],
            "type": "heatmap"
           }
          ],
          "heatmapgl": [
           {
            "colorbar": {
             "outlinewidth": 0,
             "ticks": ""
            },
            "colorscale": [
             [
              0,
              "#0d0887"
             ],
             [
              0.1111111111111111,
              "#46039f"
             ],
             [
              0.2222222222222222,
              "#7201a8"
             ],
             [
              0.3333333333333333,
              "#9c179e"
             ],
             [
              0.4444444444444444,
              "#bd3786"
             ],
             [
              0.5555555555555556,
              "#d8576b"
             ],
             [
              0.6666666666666666,
              "#ed7953"
             ],
             [
              0.7777777777777778,
              "#fb9f3a"
             ],
             [
              0.8888888888888888,
              "#fdca26"
             ],
             [
              1,
              "#f0f921"
             ]
            ],
            "type": "heatmapgl"
           }
          ],
          "histogram": [
           {
            "marker": {
             "pattern": {
              "fillmode": "overlay",
              "size": 10,
              "solidity": 0.2
             }
            },
            "type": "histogram"
           }
          ],
          "histogram2d": [
           {
            "colorbar": {
             "outlinewidth": 0,
             "ticks": ""
            },
            "colorscale": [
             [
              0,
              "#0d0887"
             ],
             [
              0.1111111111111111,
              "#46039f"
             ],
             [
              0.2222222222222222,
              "#7201a8"
             ],
             [
              0.3333333333333333,
              "#9c179e"
             ],
             [
              0.4444444444444444,
              "#bd3786"
             ],
             [
              0.5555555555555556,
              "#d8576b"
             ],
             [
              0.6666666666666666,
              "#ed7953"
             ],
             [
              0.7777777777777778,
              "#fb9f3a"
             ],
             [
              0.8888888888888888,
              "#fdca26"
             ],
             [
              1,
              "#f0f921"
             ]
            ],
            "type": "histogram2d"
           }
          ],
          "histogram2dcontour": [
           {
            "colorbar": {
             "outlinewidth": 0,
             "ticks": ""
            },
            "colorscale": [
             [
              0,
              "#0d0887"
             ],
             [
              0.1111111111111111,
              "#46039f"
             ],
             [
              0.2222222222222222,
              "#7201a8"
             ],
             [
              0.3333333333333333,
              "#9c179e"
             ],
             [
              0.4444444444444444,
              "#bd3786"
             ],
             [
              0.5555555555555556,
              "#d8576b"
             ],
             [
              0.6666666666666666,
              "#ed7953"
             ],
             [
              0.7777777777777778,
              "#fb9f3a"
             ],
             [
              0.8888888888888888,
              "#fdca26"
             ],
             [
              1,
              "#f0f921"
             ]
            ],
            "type": "histogram2dcontour"
           }
          ],
          "mesh3d": [
           {
            "colorbar": {
             "outlinewidth": 0,
             "ticks": ""
            },
            "type": "mesh3d"
           }
          ],
          "parcoords": [
           {
            "line": {
             "colorbar": {
              "outlinewidth": 0,
              "ticks": ""
             }
            },
            "type": "parcoords"
           }
          ],
          "pie": [
           {
            "automargin": true,
            "type": "pie"
           }
          ],
          "scatter": [
           {
            "marker": {
             "line": {
              "color": "#283442"
             }
            },
            "type": "scatter"
           }
          ],
          "scatter3d": [
           {
            "line": {
             "colorbar": {
              "outlinewidth": 0,
              "ticks": ""
             }
            },
            "marker": {
             "colorbar": {
              "outlinewidth": 0,
              "ticks": ""
             }
            },
            "type": "scatter3d"
           }
          ],
          "scattercarpet": [
           {
            "marker": {
             "colorbar": {
              "outlinewidth": 0,
              "ticks": ""
             }
            },
            "type": "scattercarpet"
           }
          ],
          "scattergeo": [
           {
            "marker": {
             "colorbar": {
              "outlinewidth": 0,
              "ticks": ""
             }
            },
            "type": "scattergeo"
           }
          ],
          "scattergl": [
           {
            "marker": {
             "line": {
              "color": "#283442"
             }
            },
            "type": "scattergl"
           }
          ],
          "scattermapbox": [
           {
            "marker": {
             "colorbar": {
              "outlinewidth": 0,
              "ticks": ""
             }
            },
            "type": "scattermapbox"
           }
          ],
          "scatterpolar": [
           {
            "marker": {
             "colorbar": {
              "outlinewidth": 0,
              "ticks": ""
             }
            },
            "type": "scatterpolar"
           }
          ],
          "scatterpolargl": [
           {
            "marker": {
             "colorbar": {
              "outlinewidth": 0,
              "ticks": ""
             }
            },
            "type": "scatterpolargl"
           }
          ],
          "scatterternary": [
           {
            "marker": {
             "colorbar": {
              "outlinewidth": 0,
              "ticks": ""
             }
            },
            "type": "scatterternary"
           }
          ],
          "surface": [
           {
            "colorbar": {
             "outlinewidth": 0,
             "ticks": ""
            },
            "colorscale": [
             [
              0,
              "#0d0887"
             ],
             [
              0.1111111111111111,
              "#46039f"
             ],
             [
              0.2222222222222222,
              "#7201a8"
             ],
             [
              0.3333333333333333,
              "#9c179e"
             ],
             [
              0.4444444444444444,
              "#bd3786"
             ],
             [
              0.5555555555555556,
              "#d8576b"
             ],
             [
              0.6666666666666666,
              "#ed7953"
             ],
             [
              0.7777777777777778,
              "#fb9f3a"
             ],
             [
              0.8888888888888888,
              "#fdca26"
             ],
             [
              1,
              "#f0f921"
             ]
            ],
            "type": "surface"
           }
          ],
          "table": [
           {
            "cells": {
             "fill": {
              "color": "#506784"
             },
             "line": {
              "color": "rgb(17,17,17)"
             }
            },
            "header": {
             "fill": {
              "color": "#2a3f5f"
             },
             "line": {
              "color": "rgb(17,17,17)"
             }
            },
            "type": "table"
           }
          ]
         },
         "layout": {
          "annotationdefaults": {
           "arrowcolor": "#f2f5fa",
           "arrowhead": 0,
           "arrowwidth": 1
          },
          "autotypenumbers": "strict",
          "coloraxis": {
           "colorbar": {
            "outlinewidth": 0,
            "ticks": ""
           }
          },
          "colorscale": {
           "diverging": [
            [
             0,
             "#8e0152"
            ],
            [
             0.1,
             "#c51b7d"
            ],
            [
             0.2,
             "#de77ae"
            ],
            [
             0.3,
             "#f1b6da"
            ],
            [
             0.4,
             "#fde0ef"
            ],
            [
             0.5,
             "#f7f7f7"
            ],
            [
             0.6,
             "#e6f5d0"
            ],
            [
             0.7,
             "#b8e186"
            ],
            [
             0.8,
             "#7fbc41"
            ],
            [
             0.9,
             "#4d9221"
            ],
            [
             1,
             "#276419"
            ]
           ],
           "sequential": [
            [
             0,
             "#0d0887"
            ],
            [
             0.1111111111111111,
             "#46039f"
            ],
            [
             0.2222222222222222,
             "#7201a8"
            ],
            [
             0.3333333333333333,
             "#9c179e"
            ],
            [
             0.4444444444444444,
             "#bd3786"
            ],
            [
             0.5555555555555556,
             "#d8576b"
            ],
            [
             0.6666666666666666,
             "#ed7953"
            ],
            [
             0.7777777777777778,
             "#fb9f3a"
            ],
            [
             0.8888888888888888,
             "#fdca26"
            ],
            [
             1,
             "#f0f921"
            ]
           ],
           "sequentialminus": [
            [
             0,
             "#0d0887"
            ],
            [
             0.1111111111111111,
             "#46039f"
            ],
            [
             0.2222222222222222,
             "#7201a8"
            ],
            [
             0.3333333333333333,
             "#9c179e"
            ],
            [
             0.4444444444444444,
             "#bd3786"
            ],
            [
             0.5555555555555556,
             "#d8576b"
            ],
            [
             0.6666666666666666,
             "#ed7953"
            ],
            [
             0.7777777777777778,
             "#fb9f3a"
            ],
            [
             0.8888888888888888,
             "#fdca26"
            ],
            [
             1,
             "#f0f921"
            ]
           ]
          },
          "colorway": [
           "#636efa",
           "#EF553B",
           "#00cc96",
           "#ab63fa",
           "#FFA15A",
           "#19d3f3",
           "#FF6692",
           "#B6E880",
           "#FF97FF",
           "#FECB52"
          ],
          "font": {
           "color": "#f2f5fa"
          },
          "geo": {
           "bgcolor": "rgb(17,17,17)",
           "lakecolor": "rgb(17,17,17)",
           "landcolor": "rgb(17,17,17)",
           "showlakes": true,
           "showland": true,
           "subunitcolor": "#506784"
          },
          "hoverlabel": {
           "align": "left"
          },
          "hovermode": "closest",
          "mapbox": {
           "style": "dark"
          },
          "paper_bgcolor": "rgb(17,17,17)",
          "plot_bgcolor": "rgb(17,17,17)",
          "polar": {
           "angularaxis": {
            "gridcolor": "#506784",
            "linecolor": "#506784",
            "ticks": ""
           },
           "bgcolor": "rgb(17,17,17)",
           "radialaxis": {
            "gridcolor": "#506784",
            "linecolor": "#506784",
            "ticks": ""
           }
          },
          "scene": {
           "xaxis": {
            "backgroundcolor": "rgb(17,17,17)",
            "gridcolor": "#506784",
            "gridwidth": 2,
            "linecolor": "#506784",
            "showbackground": true,
            "ticks": "",
            "zerolinecolor": "#C8D4E3"
           },
           "yaxis": {
            "backgroundcolor": "rgb(17,17,17)",
            "gridcolor": "#506784",
            "gridwidth": 2,
            "linecolor": "#506784",
            "showbackground": true,
            "ticks": "",
            "zerolinecolor": "#C8D4E3"
           },
           "zaxis": {
            "backgroundcolor": "rgb(17,17,17)",
            "gridcolor": "#506784",
            "gridwidth": 2,
            "linecolor": "#506784",
            "showbackground": true,
            "ticks": "",
            "zerolinecolor": "#C8D4E3"
           }
          },
          "shapedefaults": {
           "line": {
            "color": "#f2f5fa"
           }
          },
          "sliderdefaults": {
           "bgcolor": "#C8D4E3",
           "bordercolor": "rgb(17,17,17)",
           "borderwidth": 1,
           "tickwidth": 0
          },
          "ternary": {
           "aaxis": {
            "gridcolor": "#506784",
            "linecolor": "#506784",
            "ticks": ""
           },
           "baxis": {
            "gridcolor": "#506784",
            "linecolor": "#506784",
            "ticks": ""
           },
           "bgcolor": "rgb(17,17,17)",
           "caxis": {
            "gridcolor": "#506784",
            "linecolor": "#506784",
            "ticks": ""
           }
          },
          "title": {
           "x": 0.05
          },
          "updatemenudefaults": {
           "bgcolor": "#506784",
           "borderwidth": 0
          },
          "xaxis": {
           "automargin": true,
           "gridcolor": "#283442",
           "linecolor": "#506784",
           "ticks": "",
           "title": {
            "standoff": 15
           },
           "zerolinecolor": "#283442",
           "zerolinewidth": 2
          },
          "yaxis": {
           "automargin": true,
           "gridcolor": "#283442",
           "linecolor": "#506784",
           "ticks": "",
           "title": {
            "standoff": 15
           },
           "zerolinecolor": "#283442",
           "zerolinewidth": 2
          }
         }
        },
        "title": {
         "text": "Total Post Per Category"
        },
        "xaxis": {
         "anchor": "y",
         "categoryarray": [
          "Video",
          "Sidecar",
          "Image"
         ],
         "categoryorder": "array",
         "domain": [
          0,
          0.31999999999999995
         ],
         "title": {
          "text": "Type"
         },
         "visible": false
        },
        "xaxis2": {
         "anchor": "y2",
         "categoryarray": [
          "Video",
          "Sidecar",
          "Image"
         ],
         "categoryorder": "array",
         "domain": [
          0.33999999999999997,
          0.6599999999999999
         ],
         "matches": "x",
         "title": {
          "text": "Type"
         },
         "visible": false
        },
        "xaxis3": {
         "anchor": "y3",
         "categoryarray": [
          "Video",
          "Sidecar",
          "Image"
         ],
         "categoryorder": "array",
         "domain": [
          0.6799999999999999,
          0.9999999999999999
         ],
         "matches": "x",
         "title": {
          "text": "Type"
         },
         "visible": false
        },
        "yaxis": {
         "anchor": "x",
         "domain": [
          0,
          1
         ],
         "tickfont": {
          "family": "Arial",
          "size": 16
         },
         "title": {
          "text": "Total posts"
         }
        },
        "yaxis2": {
         "anchor": "x2",
         "domain": [
          0,
          1
         ],
         "matches": "y",
         "showticklabels": false
        },
        "yaxis3": {
         "anchor": "x3",
         "domain": [
          0,
          1
         ],
         "matches": "y",
         "showticklabels": false
        }
       }
      }
     },
     "metadata": {},
     "output_type": "display_data"
    }
   ],
   "source": [
    "# Creating DataFrame\n",
    "df = merged_df[[\"timestamp\", \"type\", \"videoDuration\"]]\n",
    "df['timestamp'] = pd.to_datetime(df['timestamp'])\n",
    "df = df[df['timestamp'] >= '2023-10-07']\n",
    "\n",
    "# Sorting dataframes by timestamp\n",
    "df = df.sort_values(by='timestamp')\n",
    "\n",
    "# Categorizing periods\n",
    "df['period'] = pd.cut(\n",
    "    df['timestamp'],\n",
    "    bins=[pd.Timestamp.min, pd.Timestamp('2023-11-24'), pd.Timestamp('2023-11-30'), pd.Timestamp.max],\n",
    "    labels=['Before Truce', 'During Truce', 'After Truce']\n",
    ")\n",
    "\n",
    "# Grouping by 'type' and counting the number of publications for each type for different periods\n",
    "type_counts = df.groupby(['type', 'period']).size().reset_index(name='count')\n",
    "color_map = {'Video': '#606c38', 'Sidecar': '#fefae0', 'Image': '#bc6c25'}\n",
    "\n",
    "# Creating a color map for video durations\n",
    "video_colors = px.colors.sequential.Viridis\n",
    "\n",
    "# Plotting with Plotly Express for different periods\n",
    "fig = px.bar(type_counts, x='type', y='count', color='type', facet_col='period',\n",
    "             labels={'count': 'Number of Publications', 'type': 'Type'},\n",
    "             category_orders={'type': ['Video', 'Sidecar', 'Image']},\n",
    "             color_discrete_map=color_map\n",
    "            )\n",
    "fig.update_traces(marker_line_color='black', marker_line_width=1, opacity=0.7)\n",
    "\n",
    "fig.update_layout(\n",
    "    title='Total Post Per Category',\n",
    "    yaxis=dict(title='Total posts', tickfont=dict(size=16, family='Arial')),  # Customize y-axis tick font\n",
    "    font=dict(family='Fredoka One', size=21, color='white'),  # Change font family, size, and color for the entire plot\n",
    "    template='plotly_dark',\n",
    "    plot_bgcolor='rgba(0, 0, 0, 0.7)',  # Adjust the background color's transparency\n",
    "    paper_bgcolor='rgba(0, 0, 0, 0.5)',  # Adjust the plot area's background color's transparency\n",
    "    #font=dict(color='white')  # Change font color to white for better contrast\n",
    ")\n",
    "\n",
    "# Remove x-axis for each subplot\n",
    "fig.update_xaxes(visible=False)\n",
    "\n",
    "pio.write_image(fig, \"bar_plot.jpeg\", width=1200, height=600)\n",
    "fig.show()"
   ]
  },
  {
   "cell_type": "markdown",
   "metadata": {},
   "source": [
    "### The bar plot for the number of publication per category during two periods\n",
    "#### Line Plot for the duration od the videos evolution per time"
   ]
  },
  {
   "cell_type": "code",
   "execution_count": 50,
   "metadata": {},
   "outputs": [
    {
     "name": "stderr",
     "output_type": "stream",
     "text": [
      "C:\\Users\\alitr\\AppData\\Local\\Temp\\ipykernel_13704\\411597981.py:8: SettingWithCopyWarning:\n",
      "\n",
      "\n",
      "A value is trying to be set on a copy of a slice from a DataFrame.\n",
      "Try using .loc[row_indexer,col_indexer] = value instead\n",
      "\n",
      "See the caveats in the documentation: https://pandas.pydata.org/pandas-docs/stable/user_guide/indexing.html#returning-a-view-versus-a-copy\n",
      "\n"
     ]
    },
    {
     "data": {
      "application/vnd.plotly.v1+json": {
       "config": {
        "plotlyServerURL": "https://plot.ly"
       },
       "data": [
        {
         "alignmentgroup": "True",
         "hovertemplate": "Type=%{x}<br>period=After 2023-11-24<br>Number of Publications=%{y}<extra></extra>",
         "legendgroup": "Video",
         "marker": {
          "color": [
           "#31688e",
           "#3e4989",
           "#6ece58",
           "#26828e",
           "#482878",
           "#3e4989",
           "#482878",
           "#31688e",
           "#482878",
           "#440154",
           "#31688e",
           "#482878",
           "#482878",
           "#3e4989",
           "#482878",
           "#482878",
           "#6ece58",
           "#482878",
           "#31688e",
           "#440154",
           "#482878",
           "#440154",
           "#440154",
           "#440154",
           "#3e4989",
           "#440154",
           "#440154",
           "#26828e",
           "#482878",
           "#3e4989",
           "#35b779",
           "#35b779",
           "#440154",
           "#482878",
           "#440154",
           "#440154",
           "#440154",
           "#482878",
           "#31688e",
           "#3e4989",
           "#440154",
           "#26828e",
           "#6ece58",
           "#b5de2b",
           "#31688e",
           "#35b779",
           "#440154",
           "#1f9e89",
           "#1f9e89",
           "#482878",
           "#1f9e89",
           "#440154",
           "#482878",
           "#6ece58",
           "#440154",
           "#35b779",
           "#35b779",
           "#1f9e89",
           "#35b779",
           "#35b779",
           "#482878",
           "#482878",
           "#31688e",
           "#440154",
           "#440154",
           "#26828e",
           "#1f9e89",
           "#482878",
           "#3e4989",
           "#440154",
           "#482878",
           "#440154",
           "#6ece58",
           "#3e4989",
           "#3e4989",
           "#1f9e89",
           "#31688e",
           "#3e4989",
           "#440154",
           "#1f9e89",
           "#35b779",
           "#440154",
           "#482878",
           "#440154",
           "#482878",
           "#31688e",
           "#3e4989",
           "#3e4989",
           "#3e4989",
           "#482878",
           "#3e4989",
           "#26828e",
           "#3e4989",
           "#1f9e89",
           "#482878",
           "#35b779",
           "#26828e",
           "#1f9e89",
           "#440154",
           "#440154",
           "#35b779",
           "#35b779",
           "#31688e",
           "#440154",
           "#3e4989",
           "#26828e",
           "#1f9e89",
           "#31688e",
           "#31688e",
           "#1f9e89",
           "#440154",
           "#26828e",
           "#440154",
           "#6ece58",
           "#3e4989",
           "#3e4989",
           "#26828e",
           "#6ece58",
           "#3e4989",
           "#482878",
           "#1f9e89",
           "#1f9e89",
           "#31688e",
           "#26828e",
           "#3e4989",
           "#3e4989",
           "#31688e",
           "#482878",
           "#3e4989",
           "#35b779",
           "#26828e",
           "#35b779",
           "#6ece58",
           "#31688e",
           "#26828e",
           "#482878",
           "#31688e",
           "#35b779",
           "#3e4989",
           "#26828e",
           "#6ece58",
           "#3e4989",
           "#1f9e89",
           "#3e4989",
           "#35b779",
           "#3e4989",
           "#35b779",
           "#1f9e89",
           "#482878",
           "#35b779",
           "#31688e",
           "#3e4989",
           "#440154",
           "#b5de2b",
           "#26828e",
           "#26828e",
           "#1f9e89",
           "#3e4989",
           "#3e4989",
           "#6ece58",
           "#1f9e89",
           "#482878",
           "#31688e",
           "#31688e",
           "#482878",
           "#482878",
           "#b5de2b",
           "#35b779",
           "#482878",
           "#482878",
           "#31688e",
           "#440154",
           "#26828e",
           "#6ece58",
           "#31688e",
           "#35b779",
           "#26828e",
           "#440154",
           "#6ece58",
           "#1f9e89",
           "#440154",
           "#26828e",
           "#26828e",
           "#1f9e89",
           "#482878",
           "#b5de2b",
           "#440154",
           "#1f9e89",
           "#31688e",
           "#35b779",
           "#3e4989",
           "#482878",
           "#fde725",
           "#b5de2b",
           "#3e4989",
           "#6ece58",
           "#3e4989",
           "#440154",
           "#26828e",
           "#35b779",
           "#35b779",
           "#440154",
           "#440154",
           "#35b779",
           "#440154",
           "#35b779",
           "#31688e",
           "#1f9e89",
           "#31688e",
           "#1f9e89",
           "#35b779",
           "#35b779",
           "#31688e",
           "#482878",
           "#26828e",
           "#b5de2b",
           "#31688e",
           "#482878",
           "#1f9e89",
           "#482878",
           "#26828e",
           "#31688e",
           "#440154",
           "#1f9e89",
           "#440154",
           "#26828e",
           "#35b779",
           "#35b779",
           "#3e4989",
           "#482878",
           "#26828e",
           "#3e4989",
           "#26828e",
           "#35b779",
           "#35b779",
           "#1f9e89",
           "#26828e",
           "#1f9e89",
           "#1f9e89",
           "#1f9e89",
           "#482878",
           "#440154",
           "#31688e",
           "#6ece58",
           "#1f9e89",
           "#6ece58",
           "#26828e",
           "#1f9e89",
           "#3e4989",
           "#35b779",
           "#6ece58",
           "#b5de2b",
           "#35b779",
           "#b5de2b",
           "#26828e",
           "#482878",
           "#3e4989",
           "#3e4989",
           "#3e4989",
           "#35b779",
           "#26828e",
           "#1f9e89",
           "#440154",
           "#35b779",
           "#482878",
           "#482878",
           "#31688e",
           "#31688e",
           "#31688e",
           "#440154",
           "#1f9e89",
           "#6ece58",
           "#1f9e89",
           "#1f9e89",
           "#35b779",
           "#6ece58",
           "#35b779",
           "#b5de2b",
           "#6ece58",
           "#26828e",
           "#26828e",
           "#3e4989",
           "#482878",
           "#6ece58",
           "#3e4989",
           "#3e4989",
           "#3e4989",
           "#482878",
           "#440154",
           "#6ece58",
           "#35b779",
           "#6ece58",
           "#1f9e89",
           "#1f9e89",
           "#26828e",
           "#440154",
           "#35b779",
           "#35b779",
           "#3e4989",
           "#35b779",
           "#35b779",
           "#35b779",
           "#35b779",
           "#b5de2b",
           "#b5de2b",
           "#35b779",
           "#1f9e89",
           "#35b779",
           "#b5de2b",
           "#31688e",
           "#6ece58",
           "#6ece58",
           "#482878",
           "#b5de2b",
           "#1f9e89",
           "#b5de2b",
           "#482878",
           "#6ece58",
           "#3e4989",
           "#26828e",
           "#31688e",
           "#b5de2b",
           "#35b779",
           "#6ece58",
           "#1f9e89",
           "#440154",
           "#26828e",
           "#6ece58",
           "#b5de2b",
           "#31688e",
           "#b5de2b",
           "#440154",
           "#b5de2b",
           "#b5de2b",
           "#31688e",
           "#35b779",
           "#1f9e89",
           "#1f9e89",
           "#440154",
           "#31688e",
           "#b5de2b",
           "#6ece58",
           "#3e4989",
           "#440154",
           "#b5de2b",
           "#1f9e89",
           "#35b779",
           "#35b779",
           "#1f9e89",
           "#6ece58",
           "#3e4989",
           "#482878",
           "#3e4989",
           "#6ece58",
           "#6ece58",
           "#1f9e89",
           "#26828e",
           "#440154",
           "#31688e",
           "#6ece58",
           "#b5de2b",
           "#6ece58",
           "#b5de2b",
           "#35b779",
           "#482878",
           "#6ece58",
           "#440154",
           "#3e4989",
           "#31688e",
           "#440154",
           "#6ece58",
           "#31688e",
           "#482878",
           "#b5de2b",
           "#26828e",
           "#1f9e89",
           "#b5de2b",
           "#b5de2b",
           "#6ece58",
           "#6ece58",
           "#31688e",
           "#1f9e89",
           "#6ece58",
           "#1f9e89",
           "#482878",
           "#b5de2b",
           "#31688e",
           "#6ece58",
           "#26828e",
           "#b5de2b",
           "#31688e",
           "#1f9e89",
           "#b5de2b",
           "#6ece58",
           "#1f9e89",
           "#6ece58",
           "#1f9e89",
           "#6ece58",
           "#b5de2b",
           "#b5de2b",
           "#1f9e89",
           "#31688e",
           "#3e4989",
           "#6ece58",
           "#1f9e89",
           "#b5de2b",
           "#26828e",
           "#31688e",
           "#31688e",
           "#31688e",
           "#31688e",
           "#482878",
           "#26828e",
           "#26828e",
           "#3e4989",
           "#1f9e89",
           "#b5de2b",
           "#26828e",
           "#3e4989",
           "#b5de2b",
           "#26828e",
           "#35b779",
           "#b5de2b",
           "#35b779",
           "#6ece58",
           "#3e4989",
           "#b5de2b",
           "#b5de2b",
           "#35b779",
           "#6ece58",
           "#6ece58",
           "#b5de2b",
           "#b5de2b",
           "#b5de2b",
           "#26828e",
           "#b5de2b",
           "#b5de2b",
           "#35b779",
           "#6ece58",
           "#482878",
           "#3e4989",
           "#3e4989",
           "#6ece58",
           "#b5de2b",
           "#31688e",
           "#31688e",
           "#26828e",
           "#26828e",
           "#31688e",
           "#31688e",
           "#6ece58",
           "#6ece58",
           "#b5de2b",
           "#6ece58",
           "#440154",
           "#440154",
           "#b5de2b",
           "#26828e",
           "#26828e",
           "#6ece58",
           "#1f9e89",
           "#1f9e89",
           "#35b779",
           "#3e4989",
           "#26828e",
           "#26828e",
           "#b5de2b",
           "#35b779",
           "#6ece58",
           "#b5de2b",
           "#31688e",
           "#31688e",
           "#b5de2b",
           "#440154",
           "#440154",
           "#482878",
           "#482878",
           "#482878",
           "#26828e",
           "#26828e",
           "#440154",
           "#b5de2b",
           "#b5de2b",
           "#482878",
           "#482878",
           "#b5de2b",
           "#b5de2b",
           "#26828e",
           "#26828e",
           "#440154",
           "#b5de2b",
           "#b5de2b",
           "#26828e",
           "#26828e",
           "#b5de2b",
           "#31688e",
           "#6ece58",
           "#6ece58",
           "#1f9e89",
           "#3e4989",
           "#b5de2b",
           "#6ece58",
           "#26828e",
           "#31688e",
           "#26828e"
          ],
          "line": {
           "color": "black",
           "width": 1
          },
          "pattern": {
           "shape": ""
          }
         },
         "name": "Video",
         "offsetgroup": "Video",
         "opacity": 0.7,
         "orientation": "v",
         "showlegend": true,
         "textposition": "auto",
         "type": "bar",
         "x": [
          "Video"
         ],
         "xaxis": "x",
         "y": [
          142
         ],
         "yaxis": "y"
        },
        {
         "alignmentgroup": "True",
         "hovertemplate": "Type=%{x}<br>period=Before 2023-11-24<br>Number of Publications=%{y}<extra></extra>",
         "legendgroup": "Video",
         "marker": {
          "color": [
           "#31688e",
           "#3e4989",
           "#6ece58",
           "#26828e",
           "#482878",
           "#3e4989",
           "#482878",
           "#31688e",
           "#482878",
           "#440154",
           "#31688e",
           "#482878",
           "#482878",
           "#3e4989",
           "#482878",
           "#482878",
           "#6ece58",
           "#482878",
           "#31688e",
           "#440154",
           "#482878",
           "#440154",
           "#440154",
           "#440154",
           "#3e4989",
           "#440154",
           "#440154",
           "#26828e",
           "#482878",
           "#3e4989",
           "#35b779",
           "#35b779",
           "#440154",
           "#482878",
           "#440154",
           "#440154",
           "#440154",
           "#482878",
           "#31688e",
           "#3e4989",
           "#440154",
           "#26828e",
           "#6ece58",
           "#b5de2b",
           "#31688e",
           "#35b779",
           "#440154",
           "#1f9e89",
           "#1f9e89",
           "#482878",
           "#1f9e89",
           "#440154",
           "#482878",
           "#6ece58",
           "#440154",
           "#35b779",
           "#35b779",
           "#1f9e89",
           "#35b779",
           "#35b779",
           "#482878",
           "#482878",
           "#31688e",
           "#440154",
           "#440154",
           "#26828e",
           "#1f9e89",
           "#482878",
           "#3e4989",
           "#440154",
           "#482878",
           "#440154",
           "#6ece58",
           "#3e4989",
           "#3e4989",
           "#1f9e89",
           "#31688e",
           "#3e4989",
           "#440154",
           "#1f9e89",
           "#35b779",
           "#440154",
           "#482878",
           "#440154",
           "#482878",
           "#31688e",
           "#3e4989",
           "#3e4989",
           "#3e4989",
           "#482878",
           "#3e4989",
           "#26828e",
           "#3e4989",
           "#1f9e89",
           "#482878",
           "#35b779",
           "#26828e",
           "#1f9e89",
           "#440154",
           "#440154",
           "#35b779",
           "#35b779",
           "#31688e",
           "#440154",
           "#3e4989",
           "#26828e",
           "#1f9e89",
           "#31688e",
           "#31688e",
           "#1f9e89",
           "#440154",
           "#26828e",
           "#440154",
           "#6ece58",
           "#3e4989",
           "#3e4989",
           "#26828e",
           "#6ece58",
           "#3e4989",
           "#482878",
           "#1f9e89",
           "#1f9e89",
           "#31688e",
           "#26828e",
           "#3e4989",
           "#3e4989",
           "#31688e",
           "#482878",
           "#3e4989",
           "#35b779",
           "#26828e",
           "#35b779",
           "#6ece58",
           "#31688e",
           "#26828e",
           "#482878",
           "#31688e",
           "#35b779",
           "#3e4989",
           "#26828e",
           "#6ece58",
           "#3e4989",
           "#1f9e89",
           "#3e4989",
           "#35b779",
           "#3e4989",
           "#35b779",
           "#1f9e89",
           "#482878",
           "#35b779",
           "#31688e",
           "#3e4989",
           "#440154",
           "#b5de2b",
           "#26828e",
           "#26828e",
           "#1f9e89",
           "#3e4989",
           "#3e4989",
           "#6ece58",
           "#1f9e89",
           "#482878",
           "#31688e",
           "#31688e",
           "#482878",
           "#482878",
           "#b5de2b",
           "#35b779",
           "#482878",
           "#482878",
           "#31688e",
           "#440154",
           "#26828e",
           "#6ece58",
           "#31688e",
           "#35b779",
           "#26828e",
           "#440154",
           "#6ece58",
           "#1f9e89",
           "#440154",
           "#26828e",
           "#26828e",
           "#1f9e89",
           "#482878",
           "#b5de2b",
           "#440154",
           "#1f9e89",
           "#31688e",
           "#35b779",
           "#3e4989",
           "#482878",
           "#fde725",
           "#b5de2b",
           "#3e4989",
           "#6ece58",
           "#3e4989",
           "#440154",
           "#26828e",
           "#35b779",
           "#35b779",
           "#440154",
           "#440154",
           "#35b779",
           "#440154",
           "#35b779",
           "#31688e",
           "#1f9e89",
           "#31688e",
           "#1f9e89",
           "#35b779",
           "#35b779",
           "#31688e",
           "#482878",
           "#26828e",
           "#b5de2b",
           "#31688e",
           "#482878",
           "#1f9e89",
           "#482878",
           "#26828e",
           "#31688e",
           "#440154",
           "#1f9e89",
           "#440154",
           "#26828e",
           "#35b779",
           "#35b779",
           "#3e4989",
           "#482878",
           "#26828e",
           "#3e4989",
           "#26828e",
           "#35b779",
           "#35b779",
           "#1f9e89",
           "#26828e",
           "#1f9e89",
           "#1f9e89",
           "#1f9e89",
           "#482878",
           "#440154",
           "#31688e",
           "#6ece58",
           "#1f9e89",
           "#6ece58",
           "#26828e",
           "#1f9e89",
           "#3e4989",
           "#35b779",
           "#6ece58",
           "#b5de2b",
           "#35b779",
           "#b5de2b",
           "#26828e",
           "#482878",
           "#3e4989",
           "#3e4989",
           "#3e4989",
           "#35b779",
           "#26828e",
           "#1f9e89",
           "#440154",
           "#35b779",
           "#482878",
           "#482878",
           "#31688e",
           "#31688e",
           "#31688e",
           "#440154",
           "#1f9e89",
           "#6ece58",
           "#1f9e89",
           "#1f9e89",
           "#35b779",
           "#6ece58",
           "#35b779",
           "#b5de2b",
           "#6ece58",
           "#26828e",
           "#26828e",
           "#3e4989",
           "#482878",
           "#6ece58",
           "#3e4989",
           "#3e4989",
           "#3e4989",
           "#482878",
           "#440154",
           "#6ece58",
           "#35b779",
           "#6ece58",
           "#1f9e89",
           "#1f9e89",
           "#26828e",
           "#440154",
           "#35b779",
           "#35b779",
           "#3e4989",
           "#35b779",
           "#35b779",
           "#35b779",
           "#35b779",
           "#b5de2b",
           "#b5de2b",
           "#35b779",
           "#1f9e89",
           "#35b779",
           "#b5de2b",
           "#31688e",
           "#6ece58",
           "#6ece58",
           "#482878",
           "#b5de2b",
           "#1f9e89",
           "#b5de2b",
           "#482878",
           "#6ece58",
           "#3e4989",
           "#26828e",
           "#31688e",
           "#b5de2b",
           "#35b779",
           "#6ece58",
           "#1f9e89",
           "#440154",
           "#26828e",
           "#6ece58",
           "#b5de2b",
           "#31688e",
           "#b5de2b",
           "#440154",
           "#b5de2b",
           "#b5de2b",
           "#31688e",
           "#35b779",
           "#1f9e89",
           "#1f9e89",
           "#440154",
           "#31688e",
           "#b5de2b",
           "#6ece58",
           "#3e4989",
           "#440154",
           "#b5de2b",
           "#1f9e89",
           "#35b779",
           "#35b779",
           "#1f9e89",
           "#6ece58",
           "#3e4989",
           "#482878",
           "#3e4989",
           "#6ece58",
           "#6ece58",
           "#1f9e89",
           "#26828e",
           "#440154",
           "#31688e",
           "#6ece58",
           "#b5de2b",
           "#6ece58",
           "#b5de2b",
           "#35b779",
           "#482878",
           "#6ece58",
           "#440154",
           "#3e4989",
           "#31688e",
           "#440154",
           "#6ece58",
           "#31688e",
           "#482878",
           "#b5de2b",
           "#26828e",
           "#1f9e89",
           "#b5de2b",
           "#b5de2b",
           "#6ece58",
           "#6ece58",
           "#31688e",
           "#1f9e89",
           "#6ece58",
           "#1f9e89",
           "#482878",
           "#b5de2b",
           "#31688e",
           "#6ece58",
           "#26828e",
           "#b5de2b",
           "#31688e",
           "#1f9e89",
           "#b5de2b",
           "#6ece58",
           "#1f9e89",
           "#6ece58",
           "#1f9e89",
           "#6ece58",
           "#b5de2b",
           "#b5de2b",
           "#1f9e89",
           "#31688e",
           "#3e4989",
           "#6ece58",
           "#1f9e89",
           "#b5de2b",
           "#26828e",
           "#31688e",
           "#31688e",
           "#31688e",
           "#31688e",
           "#482878",
           "#26828e",
           "#26828e",
           "#3e4989",
           "#1f9e89",
           "#b5de2b",
           "#26828e",
           "#3e4989",
           "#b5de2b",
           "#26828e",
           "#35b779",
           "#b5de2b",
           "#35b779",
           "#6ece58",
           "#3e4989",
           "#b5de2b",
           "#b5de2b",
           "#35b779",
           "#6ece58",
           "#6ece58",
           "#b5de2b",
           "#b5de2b",
           "#b5de2b",
           "#26828e",
           "#b5de2b",
           "#b5de2b",
           "#35b779",
           "#6ece58",
           "#482878",
           "#3e4989",
           "#3e4989",
           "#6ece58",
           "#b5de2b",
           "#31688e",
           "#31688e",
           "#26828e",
           "#26828e",
           "#31688e",
           "#31688e",
           "#6ece58",
           "#6ece58",
           "#b5de2b",
           "#6ece58",
           "#440154",
           "#440154",
           "#b5de2b",
           "#26828e",
           "#26828e",
           "#6ece58",
           "#1f9e89",
           "#1f9e89",
           "#35b779",
           "#3e4989",
           "#26828e",
           "#26828e",
           "#b5de2b",
           "#35b779",
           "#6ece58",
           "#b5de2b",
           "#31688e",
           "#31688e",
           "#b5de2b",
           "#440154",
           "#440154",
           "#482878",
           "#482878",
           "#482878",
           "#26828e",
           "#26828e",
           "#440154",
           "#b5de2b",
           "#b5de2b",
           "#482878",
           "#482878",
           "#b5de2b",
           "#b5de2b",
           "#26828e",
           "#26828e",
           "#440154",
           "#b5de2b",
           "#b5de2b",
           "#26828e",
           "#26828e",
           "#b5de2b",
           "#31688e",
           "#6ece58",
           "#6ece58",
           "#1f9e89",
           "#3e4989",
           "#b5de2b",
           "#6ece58",
           "#26828e",
           "#31688e",
           "#26828e"
          ],
          "line": {
           "color": "black",
           "width": 1
          },
          "pattern": {
           "shape": ""
          }
         },
         "name": "Video",
         "offsetgroup": "Video",
         "opacity": 0.7,
         "orientation": "v",
         "showlegend": false,
         "textposition": "auto",
         "type": "bar",
         "x": [
          "Video"
         ],
         "xaxis": "x2",
         "y": [
          363
         ],
         "yaxis": "y2"
        },
        {
         "alignmentgroup": "True",
         "hovertemplate": "Type=%{x}<br>period=After 2023-11-24<br>Number of Publications=%{y}<extra></extra>",
         "legendgroup": "Sidecar",
         "marker": {
          "color": "#EF553B",
          "line": {
           "color": "black",
           "width": 1
          },
          "pattern": {
           "shape": ""
          }
         },
         "name": "Sidecar",
         "offsetgroup": "Sidecar",
         "opacity": 0.7,
         "orientation": "v",
         "showlegend": true,
         "textposition": "auto",
         "type": "bar",
         "x": [
          "Sidecar"
         ],
         "xaxis": "x",
         "y": [
          15
         ],
         "yaxis": "y"
        },
        {
         "alignmentgroup": "True",
         "hovertemplate": "Type=%{x}<br>period=Before 2023-11-24<br>Number of Publications=%{y}<extra></extra>",
         "legendgroup": "Sidecar",
         "marker": {
          "color": "#EF553B",
          "line": {
           "color": "black",
           "width": 1
          },
          "pattern": {
           "shape": ""
          }
         },
         "name": "Sidecar",
         "offsetgroup": "Sidecar",
         "opacity": 0.7,
         "orientation": "v",
         "showlegend": false,
         "textposition": "auto",
         "type": "bar",
         "x": [
          "Sidecar"
         ],
         "xaxis": "x2",
         "y": [
          41
         ],
         "yaxis": "y2"
        },
        {
         "alignmentgroup": "True",
         "hovertemplate": "Type=%{x}<br>period=After 2023-11-24<br>Number of Publications=%{y}<extra></extra>",
         "legendgroup": "Image",
         "marker": {
          "color": "#00cc96",
          "line": {
           "color": "black",
           "width": 1
          },
          "pattern": {
           "shape": ""
          }
         },
         "name": "Image",
         "offsetgroup": "Image",
         "opacity": 0.7,
         "orientation": "v",
         "showlegend": true,
         "textposition": "auto",
         "type": "bar",
         "x": [
          "Image"
         ],
         "xaxis": "x",
         "y": [
          25
         ],
         "yaxis": "y"
        },
        {
         "alignmentgroup": "True",
         "hovertemplate": "Type=%{x}<br>period=Before 2023-11-24<br>Number of Publications=%{y}<extra></extra>",
         "legendgroup": "Image",
         "marker": {
          "color": "#00cc96",
          "line": {
           "color": "black",
           "width": 1
          },
          "pattern": {
           "shape": ""
          }
         },
         "name": "Image",
         "offsetgroup": "Image",
         "opacity": 0.7,
         "orientation": "v",
         "showlegend": false,
         "textposition": "auto",
         "type": "bar",
         "x": [
          "Image"
         ],
         "xaxis": "x2",
         "y": [
          39
         ],
         "yaxis": "y2"
        }
       ],
       "layout": {
        "annotations": [
         {
          "font": {},
          "showarrow": false,
          "text": "period=After 2023-11-24",
          "x": 0.245,
          "xanchor": "center",
          "xref": "paper",
          "y": 1,
          "yanchor": "bottom",
          "yref": "paper"
         },
         {
          "font": {},
          "showarrow": false,
          "text": "period=Before 2023-11-24",
          "x": 0.755,
          "xanchor": "center",
          "xref": "paper",
          "y": 1,
          "yanchor": "bottom",
          "yref": "paper"
         }
        ],
        "barmode": "relative",
        "font": {
         "color": "white"
        },
        "legend": {
         "title": {
          "text": "Type"
         },
         "tracegroupgap": 0
        },
        "margin": {
         "t": 60
        },
        "paper_bgcolor": "rgba(0, 0, 0, 0.5)",
        "plot_bgcolor": "rgba(0, 0, 0, 0.7)",
        "template": {
         "data": {
          "bar": [
           {
            "error_x": {
             "color": "#f2f5fa"
            },
            "error_y": {
             "color": "#f2f5fa"
            },
            "marker": {
             "line": {
              "color": "rgb(17,17,17)",
              "width": 0.5
             },
             "pattern": {
              "fillmode": "overlay",
              "size": 10,
              "solidity": 0.2
             }
            },
            "type": "bar"
           }
          ],
          "barpolar": [
           {
            "marker": {
             "line": {
              "color": "rgb(17,17,17)",
              "width": 0.5
             },
             "pattern": {
              "fillmode": "overlay",
              "size": 10,
              "solidity": 0.2
             }
            },
            "type": "barpolar"
           }
          ],
          "carpet": [
           {
            "aaxis": {
             "endlinecolor": "#A2B1C6",
             "gridcolor": "#506784",
             "linecolor": "#506784",
             "minorgridcolor": "#506784",
             "startlinecolor": "#A2B1C6"
            },
            "baxis": {
             "endlinecolor": "#A2B1C6",
             "gridcolor": "#506784",
             "linecolor": "#506784",
             "minorgridcolor": "#506784",
             "startlinecolor": "#A2B1C6"
            },
            "type": "carpet"
           }
          ],
          "choropleth": [
           {
            "colorbar": {
             "outlinewidth": 0,
             "ticks": ""
            },
            "type": "choropleth"
           }
          ],
          "contour": [
           {
            "colorbar": {
             "outlinewidth": 0,
             "ticks": ""
            },
            "colorscale": [
             [
              0,
              "#0d0887"
             ],
             [
              0.1111111111111111,
              "#46039f"
             ],
             [
              0.2222222222222222,
              "#7201a8"
             ],
             [
              0.3333333333333333,
              "#9c179e"
             ],
             [
              0.4444444444444444,
              "#bd3786"
             ],
             [
              0.5555555555555556,
              "#d8576b"
             ],
             [
              0.6666666666666666,
              "#ed7953"
             ],
             [
              0.7777777777777778,
              "#fb9f3a"
             ],
             [
              0.8888888888888888,
              "#fdca26"
             ],
             [
              1,
              "#f0f921"
             ]
            ],
            "type": "contour"
           }
          ],
          "contourcarpet": [
           {
            "colorbar": {
             "outlinewidth": 0,
             "ticks": ""
            },
            "type": "contourcarpet"
           }
          ],
          "heatmap": [
           {
            "colorbar": {
             "outlinewidth": 0,
             "ticks": ""
            },
            "colorscale": [
             [
              0,
              "#0d0887"
             ],
             [
              0.1111111111111111,
              "#46039f"
             ],
             [
              0.2222222222222222,
              "#7201a8"
             ],
             [
              0.3333333333333333,
              "#9c179e"
             ],
             [
              0.4444444444444444,
              "#bd3786"
             ],
             [
              0.5555555555555556,
              "#d8576b"
             ],
             [
              0.6666666666666666,
              "#ed7953"
             ],
             [
              0.7777777777777778,
              "#fb9f3a"
             ],
             [
              0.8888888888888888,
              "#fdca26"
             ],
             [
              1,
              "#f0f921"
             ]
            ],
            "type": "heatmap"
           }
          ],
          "heatmapgl": [
           {
            "colorbar": {
             "outlinewidth": 0,
             "ticks": ""
            },
            "colorscale": [
             [
              0,
              "#0d0887"
             ],
             [
              0.1111111111111111,
              "#46039f"
             ],
             [
              0.2222222222222222,
              "#7201a8"
             ],
             [
              0.3333333333333333,
              "#9c179e"
             ],
             [
              0.4444444444444444,
              "#bd3786"
             ],
             [
              0.5555555555555556,
              "#d8576b"
             ],
             [
              0.6666666666666666,
              "#ed7953"
             ],
             [
              0.7777777777777778,
              "#fb9f3a"
             ],
             [
              0.8888888888888888,
              "#fdca26"
             ],
             [
              1,
              "#f0f921"
             ]
            ],
            "type": "heatmapgl"
           }
          ],
          "histogram": [
           {
            "marker": {
             "pattern": {
              "fillmode": "overlay",
              "size": 10,
              "solidity": 0.2
             }
            },
            "type": "histogram"
           }
          ],
          "histogram2d": [
           {
            "colorbar": {
             "outlinewidth": 0,
             "ticks": ""
            },
            "colorscale": [
             [
              0,
              "#0d0887"
             ],
             [
              0.1111111111111111,
              "#46039f"
             ],
             [
              0.2222222222222222,
              "#7201a8"
             ],
             [
              0.3333333333333333,
              "#9c179e"
             ],
             [
              0.4444444444444444,
              "#bd3786"
             ],
             [
              0.5555555555555556,
              "#d8576b"
             ],
             [
              0.6666666666666666,
              "#ed7953"
             ],
             [
              0.7777777777777778,
              "#fb9f3a"
             ],
             [
              0.8888888888888888,
              "#fdca26"
             ],
             [
              1,
              "#f0f921"
             ]
            ],
            "type": "histogram2d"
           }
          ],
          "histogram2dcontour": [
           {
            "colorbar": {
             "outlinewidth": 0,
             "ticks": ""
            },
            "colorscale": [
             [
              0,
              "#0d0887"
             ],
             [
              0.1111111111111111,
              "#46039f"
             ],
             [
              0.2222222222222222,
              "#7201a8"
             ],
             [
              0.3333333333333333,
              "#9c179e"
             ],
             [
              0.4444444444444444,
              "#bd3786"
             ],
             [
              0.5555555555555556,
              "#d8576b"
             ],
             [
              0.6666666666666666,
              "#ed7953"
             ],
             [
              0.7777777777777778,
              "#fb9f3a"
             ],
             [
              0.8888888888888888,
              "#fdca26"
             ],
             [
              1,
              "#f0f921"
             ]
            ],
            "type": "histogram2dcontour"
           }
          ],
          "mesh3d": [
           {
            "colorbar": {
             "outlinewidth": 0,
             "ticks": ""
            },
            "type": "mesh3d"
           }
          ],
          "parcoords": [
           {
            "line": {
             "colorbar": {
              "outlinewidth": 0,
              "ticks": ""
             }
            },
            "type": "parcoords"
           }
          ],
          "pie": [
           {
            "automargin": true,
            "type": "pie"
           }
          ],
          "scatter": [
           {
            "marker": {
             "line": {
              "color": "#283442"
             }
            },
            "type": "scatter"
           }
          ],
          "scatter3d": [
           {
            "line": {
             "colorbar": {
              "outlinewidth": 0,
              "ticks": ""
             }
            },
            "marker": {
             "colorbar": {
              "outlinewidth": 0,
              "ticks": ""
             }
            },
            "type": "scatter3d"
           }
          ],
          "scattercarpet": [
           {
            "marker": {
             "colorbar": {
              "outlinewidth": 0,
              "ticks": ""
             }
            },
            "type": "scattercarpet"
           }
          ],
          "scattergeo": [
           {
            "marker": {
             "colorbar": {
              "outlinewidth": 0,
              "ticks": ""
             }
            },
            "type": "scattergeo"
           }
          ],
          "scattergl": [
           {
            "marker": {
             "line": {
              "color": "#283442"
             }
            },
            "type": "scattergl"
           }
          ],
          "scattermapbox": [
           {
            "marker": {
             "colorbar": {
              "outlinewidth": 0,
              "ticks": ""
             }
            },
            "type": "scattermapbox"
           }
          ],
          "scatterpolar": [
           {
            "marker": {
             "colorbar": {
              "outlinewidth": 0,
              "ticks": ""
             }
            },
            "type": "scatterpolar"
           }
          ],
          "scatterpolargl": [
           {
            "marker": {
             "colorbar": {
              "outlinewidth": 0,
              "ticks": ""
             }
            },
            "type": "scatterpolargl"
           }
          ],
          "scatterternary": [
           {
            "marker": {
             "colorbar": {
              "outlinewidth": 0,
              "ticks": ""
             }
            },
            "type": "scatterternary"
           }
          ],
          "surface": [
           {
            "colorbar": {
             "outlinewidth": 0,
             "ticks": ""
            },
            "colorscale": [
             [
              0,
              "#0d0887"
             ],
             [
              0.1111111111111111,
              "#46039f"
             ],
             [
              0.2222222222222222,
              "#7201a8"
             ],
             [
              0.3333333333333333,
              "#9c179e"
             ],
             [
              0.4444444444444444,
              "#bd3786"
             ],
             [
              0.5555555555555556,
              "#d8576b"
             ],
             [
              0.6666666666666666,
              "#ed7953"
             ],
             [
              0.7777777777777778,
              "#fb9f3a"
             ],
             [
              0.8888888888888888,
              "#fdca26"
             ],
             [
              1,
              "#f0f921"
             ]
            ],
            "type": "surface"
           }
          ],
          "table": [
           {
            "cells": {
             "fill": {
              "color": "#506784"
             },
             "line": {
              "color": "rgb(17,17,17)"
             }
            },
            "header": {
             "fill": {
              "color": "#2a3f5f"
             },
             "line": {
              "color": "rgb(17,17,17)"
             }
            },
            "type": "table"
           }
          ]
         },
         "layout": {
          "annotationdefaults": {
           "arrowcolor": "#f2f5fa",
           "arrowhead": 0,
           "arrowwidth": 1
          },
          "autotypenumbers": "strict",
          "coloraxis": {
           "colorbar": {
            "outlinewidth": 0,
            "ticks": ""
           }
          },
          "colorscale": {
           "diverging": [
            [
             0,
             "#8e0152"
            ],
            [
             0.1,
             "#c51b7d"
            ],
            [
             0.2,
             "#de77ae"
            ],
            [
             0.3,
             "#f1b6da"
            ],
            [
             0.4,
             "#fde0ef"
            ],
            [
             0.5,
             "#f7f7f7"
            ],
            [
             0.6,
             "#e6f5d0"
            ],
            [
             0.7,
             "#b8e186"
            ],
            [
             0.8,
             "#7fbc41"
            ],
            [
             0.9,
             "#4d9221"
            ],
            [
             1,
             "#276419"
            ]
           ],
           "sequential": [
            [
             0,
             "#0d0887"
            ],
            [
             0.1111111111111111,
             "#46039f"
            ],
            [
             0.2222222222222222,
             "#7201a8"
            ],
            [
             0.3333333333333333,
             "#9c179e"
            ],
            [
             0.4444444444444444,
             "#bd3786"
            ],
            [
             0.5555555555555556,
             "#d8576b"
            ],
            [
             0.6666666666666666,
             "#ed7953"
            ],
            [
             0.7777777777777778,
             "#fb9f3a"
            ],
            [
             0.8888888888888888,
             "#fdca26"
            ],
            [
             1,
             "#f0f921"
            ]
           ],
           "sequentialminus": [
            [
             0,
             "#0d0887"
            ],
            [
             0.1111111111111111,
             "#46039f"
            ],
            [
             0.2222222222222222,
             "#7201a8"
            ],
            [
             0.3333333333333333,
             "#9c179e"
            ],
            [
             0.4444444444444444,
             "#bd3786"
            ],
            [
             0.5555555555555556,
             "#d8576b"
            ],
            [
             0.6666666666666666,
             "#ed7953"
            ],
            [
             0.7777777777777778,
             "#fb9f3a"
            ],
            [
             0.8888888888888888,
             "#fdca26"
            ],
            [
             1,
             "#f0f921"
            ]
           ]
          },
          "colorway": [
           "#636efa",
           "#EF553B",
           "#00cc96",
           "#ab63fa",
           "#FFA15A",
           "#19d3f3",
           "#FF6692",
           "#B6E880",
           "#FF97FF",
           "#FECB52"
          ],
          "font": {
           "color": "#f2f5fa"
          },
          "geo": {
           "bgcolor": "rgb(17,17,17)",
           "lakecolor": "rgb(17,17,17)",
           "landcolor": "rgb(17,17,17)",
           "showlakes": true,
           "showland": true,
           "subunitcolor": "#506784"
          },
          "hoverlabel": {
           "align": "left"
          },
          "hovermode": "closest",
          "mapbox": {
           "style": "dark"
          },
          "paper_bgcolor": "rgb(17,17,17)",
          "plot_bgcolor": "rgb(17,17,17)",
          "polar": {
           "angularaxis": {
            "gridcolor": "#506784",
            "linecolor": "#506784",
            "ticks": ""
           },
           "bgcolor": "rgb(17,17,17)",
           "radialaxis": {
            "gridcolor": "#506784",
            "linecolor": "#506784",
            "ticks": ""
           }
          },
          "scene": {
           "xaxis": {
            "backgroundcolor": "rgb(17,17,17)",
            "gridcolor": "#506784",
            "gridwidth": 2,
            "linecolor": "#506784",
            "showbackground": true,
            "ticks": "",
            "zerolinecolor": "#C8D4E3"
           },
           "yaxis": {
            "backgroundcolor": "rgb(17,17,17)",
            "gridcolor": "#506784",
            "gridwidth": 2,
            "linecolor": "#506784",
            "showbackground": true,
            "ticks": "",
            "zerolinecolor": "#C8D4E3"
           },
           "zaxis": {
            "backgroundcolor": "rgb(17,17,17)",
            "gridcolor": "#506784",
            "gridwidth": 2,
            "linecolor": "#506784",
            "showbackground": true,
            "ticks": "",
            "zerolinecolor": "#C8D4E3"
           }
          },
          "shapedefaults": {
           "line": {
            "color": "#f2f5fa"
           }
          },
          "sliderdefaults": {
           "bgcolor": "#C8D4E3",
           "bordercolor": "rgb(17,17,17)",
           "borderwidth": 1,
           "tickwidth": 0
          },
          "ternary": {
           "aaxis": {
            "gridcolor": "#506784",
            "linecolor": "#506784",
            "ticks": ""
           },
           "baxis": {
            "gridcolor": "#506784",
            "linecolor": "#506784",
            "ticks": ""
           },
           "bgcolor": "rgb(17,17,17)",
           "caxis": {
            "gridcolor": "#506784",
            "linecolor": "#506784",
            "ticks": ""
           }
          },
          "title": {
           "x": 0.05
          },
          "updatemenudefaults": {
           "bgcolor": "#506784",
           "borderwidth": 0
          },
          "xaxis": {
           "automargin": true,
           "gridcolor": "#283442",
           "linecolor": "#506784",
           "ticks": "",
           "title": {
            "standoff": 15
           },
           "zerolinecolor": "#283442",
           "zerolinewidth": 2
          },
          "yaxis": {
           "automargin": true,
           "gridcolor": "#283442",
           "linecolor": "#506784",
           "ticks": "",
           "title": {
            "standoff": 15
           },
           "zerolinecolor": "#283442",
           "zerolinewidth": 2
          }
         }
        },
        "xaxis": {
         "anchor": "y",
         "categoryarray": [
          "Video",
          "Sidecar",
          "Image"
         ],
         "categoryorder": "array",
         "domain": [
          0,
          0.49
         ],
         "title": {
          "text": "Type"
         }
        },
        "xaxis2": {
         "anchor": "y2",
         "categoryarray": [
          "Video",
          "Sidecar",
          "Image"
         ],
         "categoryorder": "array",
         "domain": [
          0.51,
          1
         ],
         "matches": "x",
         "title": {
          "text": "Type"
         }
        },
        "yaxis": {
         "anchor": "x",
         "domain": [
          0,
          1
         ],
         "title": {
          "text": "Number of Publications"
         }
        },
        "yaxis2": {
         "anchor": "x2",
         "domain": [
          0,
          1
         ],
         "matches": "y",
         "showticklabels": false
        }
       }
      }
     },
     "metadata": {},
     "output_type": "display_data"
    },
    {
     "data": {
      "application/vnd.plotly.v1+json": {
       "config": {
        "plotlyServerURL": "https://plot.ly"
       },
       "data": [
        {
         "hovertemplate": "timestamp=%{x}<br>videoDuration=%{y}<extra></extra>",
         "legendgroup": "",
         "line": {
          "color": "#dda15e",
          "dash": "solid"
         },
         "marker": {
          "line": {
           "color": "black",
           "width": 1
          },
          "symbol": "circle"
         },
         "mode": "lines",
         "name": "",
         "opacity": 0.7,
         "orientation": "v",
         "showlegend": false,
         "type": "scatter",
         "x": [
          "2023-10-07T05:08:49",
          "2023-10-07T15:51:24",
          "2023-10-07T16:23:14",
          "2023-10-07T18:03:26",
          "2023-10-07T22:16:41",
          "2023-10-07T22:56:53",
          "2023-10-08T07:11:06",
          "2023-10-08T07:53:45",
          "2023-10-08T12:23:46",
          "2023-10-08T14:43:58",
          "2023-10-08T16:10:54",
          "2023-10-08T17:36:10",
          "2023-10-09T05:04:31",
          "2023-10-09T09:43:10",
          "2023-10-09T10:53:39",
          "2023-10-09T11:02:33",
          "2023-10-09T15:38:22",
          "2023-10-09T17:07:22",
          "2023-10-10T00:11:23",
          "2023-10-10T05:25:55",
          "2023-10-10T09:30:02",
          "2023-10-10T09:56:08",
          "2023-10-10T10:12:32",
          "2023-10-10T10:15:17",
          "2023-10-10T10:25:22",
          "2023-10-10T10:28:36",
          "2023-10-10T11:22:33",
          "2023-10-10T11:30:26",
          "2023-10-10T14:11:38",
          "2023-10-10T16:47:40",
          "2023-10-10T17:17:00",
          "2023-10-10T17:27:24",
          "2023-10-10T17:53:53",
          "2023-10-10T18:04:25",
          "2023-10-10T18:34:04",
          "2023-10-10T20:29:30",
          "2023-10-10T22:42:37",
          "2023-10-10T23:03:16",
          "2023-10-11T10:00:39",
          "2023-10-11T10:48:42",
          "2023-10-11T12:14:19",
          "2023-10-11T12:30:23",
          "2023-10-11T13:24:41",
          "2023-10-11T14:52:28",
          "2023-10-11T17:13:30",
          "2023-10-11T17:21:16",
          "2023-10-11T17:45:21",
          "2023-10-11T18:57:59",
          "2023-10-11T19:00:19",
          "2023-10-11T20:04:51",
          "2023-10-11T20:47:31",
          "2023-10-11T21:51:49",
          "2023-10-12T05:55:44",
          "2023-10-12T08:08:11",
          "2023-10-12T08:25:30",
          "2023-10-12T08:32:05",
          "2023-10-12T11:26:58",
          "2023-10-12T11:43:14",
          "2023-10-12T13:21:40",
          "2023-10-12T13:21:40",
          "2023-10-12T13:22:43",
          "2023-10-12T14:28:29",
          "2023-10-12T16:09:38",
          "2023-10-12T19:54:47",
          "2023-10-12T20:52:12",
          "2023-10-12T21:52:00",
          "2023-10-12T22:49:11",
          "2023-10-12T23:02:34",
          "2023-10-12T23:24:58",
          "2023-10-13T03:54:01",
          "2023-10-13T05:22:23",
          "2023-10-13T08:50:55",
          "2023-10-13T09:47:22",
          "2023-10-13T11:02:33",
          "2023-10-13T11:07:49",
          "2023-10-13T11:29:58",
          "2023-10-13T12:23:58",
          "2023-10-13T14:00:00",
          "2023-10-13T14:43:45",
          "2023-10-13T15:00:00",
          "2023-10-13T15:07:00",
          "2023-10-13T15:36:56",
          "2023-10-13T15:46:41",
          "2023-10-13T16:43:17",
          "2023-10-13T20:01:10",
          "2023-10-13T22:52:21",
          "2023-10-14T09:35:26",
          "2023-10-14T09:59:01",
          "2023-10-14T10:51:38",
          "2023-10-14T14:10:01",
          "2023-10-14T14:48:21",
          "2023-10-14T14:50:06",
          "2023-10-14T15:25:18",
          "2023-10-14T15:36:48",
          "2023-10-14T15:45:22",
          "2023-10-14T16:56:05",
          "2023-10-14T18:40:39",
          "2023-10-15T10:19:35",
          "2023-10-15T11:50:00",
          "2023-10-15T13:03:30",
          "2023-10-15T16:28:50",
          "2023-10-15T16:33:01",
          "2023-10-15T17:30:15",
          "2023-10-15T17:57:07",
          "2023-10-15T18:05:37",
          "2023-10-15T21:10:36",
          "2023-10-15T23:21:29",
          "2023-10-15T23:31:30",
          "2023-10-16T00:04:33",
          "2023-10-16T09:12:33",
          "2023-10-16T09:24:03",
          "2023-10-16T12:46:56",
          "2023-10-16T13:43:34",
          "2023-10-16T14:15:30",
          "2023-10-16T20:20:45",
          "2023-10-16T20:21:36",
          "2023-10-17T07:13:12",
          "2023-10-17T08:16:20",
          "2023-10-17T08:46:24",
          "2023-10-17T08:51:20",
          "2023-10-17T10:48:32",
          "2023-10-17T12:41:08",
          "2023-10-17T12:47:48",
          "2023-10-17T15:13:57",
          "2023-10-17T16:48:25",
          "2023-10-17T17:07:39",
          "2023-10-17T17:46:51",
          "2023-10-17T18:53:08",
          "2023-10-17T21:27:35",
          "2023-10-18T05:54:14",
          "2023-10-18T05:58:31",
          "2023-10-18T09:30:00",
          "2023-10-18T10:37:19",
          "2023-10-18T14:35:18",
          "2023-10-18T14:53:06",
          "2023-10-18T15:18:22",
          "2023-10-18T17:50:45",
          "2023-10-18T21:02:15",
          "2023-10-18T21:48:51",
          "2023-10-18T21:57:22",
          "2023-10-19T07:18:34",
          "2023-10-19T07:29:54",
          "2023-10-19T07:34:02",
          "2023-10-19T14:54:48",
          "2023-10-19T15:32:29",
          "2023-10-20T05:07:04",
          "2023-10-20T05:29:04",
          "2023-10-20T05:31:39",
          "2023-10-20T07:00:00",
          "2023-10-20T07:11:53",
          "2023-10-20T10:20:15",
          "2023-10-20T10:43:42",
          "2023-10-20T11:00:00",
          "2023-10-20T13:57:50",
          "2023-10-20T21:06:31",
          "2023-10-21T10:45:30",
          "2023-10-21T10:59:32",
          "2023-10-21T11:04:37",
          "2023-10-22T09:15:47",
          "2023-10-22T13:55:36",
          "2023-10-22T15:08:42",
          "2023-10-22T18:09:55",
          "2023-10-22T23:36:28",
          "2023-10-23T09:58:16",
          "2023-10-23T11:24:30",
          "2023-10-23T12:44:16",
          "2023-10-23T12:49:55",
          "2023-10-23T12:58:54",
          "2023-10-23T13:10:51",
          "2023-10-23T13:54:22",
          "2023-10-23T15:00:28",
          "2023-10-23T15:01:43",
          "2023-10-23T15:50:25",
          "2023-10-23T17:29:38",
          "2023-10-23T23:34:09",
          "2023-10-24T07:06:28",
          "2023-10-24T07:27:51",
          "2023-10-24T10:34:21",
          "2023-10-24T12:05:43",
          "2023-10-24T14:48:07",
          "2023-10-24T15:10:31",
          "2023-10-24T17:41:53",
          "2023-10-25T05:45:43",
          "2023-10-25T06:54:12",
          "2023-10-25T07:24:39",
          "2023-10-25T11:17:28",
          "2023-10-25T12:17:36",
          "2023-10-25T12:57:03",
          "2023-10-25T13:38:13",
          "2023-10-25T14:39:16",
          "2023-10-25T15:13:22",
          "2023-10-25T15:16:29",
          "2023-10-25T15:19:56",
          "2023-10-25T16:17:23",
          "2023-10-25T16:27:37",
          "2023-10-25T17:44:44",
          "2023-10-25T19:00:30",
          "2023-10-26T05:14:48",
          "2023-10-26T16:21:21",
          "2023-10-26T17:24:51",
          "2023-10-26T17:31:49",
          "2023-10-27T00:29:06",
          "2023-10-27T08:13:59",
          "2023-10-27T10:23:19",
          "2023-10-27T13:25:48",
          "2023-10-27T14:35:00",
          "2023-10-28T08:27:58",
          "2023-10-28T14:19:01",
          "2023-10-29T06:06:38",
          "2023-10-29T09:47:55",
          "2023-10-29T09:48:26",
          "2023-10-29T09:54:57",
          "2023-10-29T12:03:11",
          "2023-10-29T14:03:18",
          "2023-10-29T14:20:03",
          "2023-10-29T15:36:21",
          "2023-10-29T17:53:58",
          "2023-10-30T12:02:03",
          "2023-10-30T14:16:55",
          "2023-10-30T17:06:12",
          "2023-10-30T18:30:31",
          "2023-10-30T18:33:31",
          "2023-10-30T19:02:19",
          "2023-10-31T08:59:42",
          "2023-10-31T09:02:23",
          "2023-10-31T11:39:57",
          "2023-10-31T13:42:29",
          "2023-10-31T14:56:45",
          "2023-10-31T15:06:12",
          "2023-10-31T18:28:42",
          "2023-11-01T13:47:33",
          "2023-11-01T19:21:43",
          "2023-11-01T20:29:49",
          "2023-11-02T06:53:49",
          "2023-11-02T07:09:35",
          "2023-11-02T07:50:35",
          "2023-11-02T13:05:49",
          "2023-11-02T16:02:59",
          "2023-11-03T09:46:06",
          "2023-11-03T11:14:32",
          "2023-11-03T11:16:51",
          "2023-11-03T13:04:35",
          "2023-11-03T13:37:15",
          "2023-11-03T13:40:09",
          "2023-11-03T14:41:42",
          "2023-11-03T14:47:05",
          "2023-11-03T14:58:05",
          "2023-11-03T15:16:44",
          "2023-11-03T17:43:34",
          "2023-11-03T17:58:31",
          "2023-11-03T18:40:45",
          "2023-11-03T22:40:47",
          "2023-11-04T09:05:21",
          "2023-11-04T09:16:59",
          "2023-11-04T17:45:48",
          "2023-11-05T13:17:51",
          "2023-11-05T13:26:22",
          "2023-11-05T13:36:09",
          "2023-11-05T13:45:22",
          "2023-11-05T13:55:28",
          "2023-11-05T14:09:02",
          "2023-11-05T14:24:20",
          "2023-11-06T07:02:49",
          "2023-11-06T08:16:33",
          "2023-11-06T08:46:50",
          "2023-11-06T09:17:53",
          "2023-11-06T14:12:41",
          "2023-11-06T18:04:27",
          "2023-11-07T08:07:54",
          "2023-11-07T08:18:23",
          "2023-11-07T13:13:55",
          "2023-11-07T20:00:12",
          "2023-11-07T20:48:38",
          "2023-11-08T13:32:36",
          "2023-11-08T16:47:24",
          "2023-11-08T17:40:55",
          "2023-11-08T19:58:32",
          "2023-11-09T08:43:51",
          "2023-11-09T13:28:48",
          "2023-11-09T13:37:17",
          "2023-11-09T18:47:42",
          "2023-11-09T22:30:54",
          "2023-11-09T23:15:14",
          "2023-11-10T03:01:26",
          "2023-11-10T07:04:40",
          "2023-11-10T07:05:02",
          "2023-11-10T07:12:55",
          "2023-11-10T12:00:19",
          "2023-11-10T13:04:52",
          "2023-11-10T14:55:44",
          "2023-11-10T15:33:46",
          "2023-11-10T17:30:52",
          "2023-11-10T18:58:46",
          "2023-11-11T14:39:16",
          "2023-11-11T14:45:42",
          "2023-11-11T14:55:18",
          "2023-11-11T17:03:46",
          "2023-11-11T18:57:00",
          "2023-11-11T19:12:36",
          "2023-11-12T06:52:45",
          "2023-11-12T07:03:44",
          "2023-11-12T07:14:20",
          "2023-11-12T09:11:29",
          "2023-11-12T17:53:17",
          "2023-11-13T13:03:24",
          "2023-11-13T14:11:01",
          "2023-11-13T14:25:54",
          "2023-11-13T16:58:21",
          "2023-11-13T17:57:56",
          "2023-11-14T11:41:57",
          "2023-11-14T12:13:41",
          "2023-11-14T14:17:53",
          "2023-11-14T17:05:59",
          "2023-11-14T19:00:34",
          "2023-11-14T23:50:34",
          "2023-11-15T08:51:26",
          "2023-11-15T10:41:38",
          "2023-11-15T11:18:56",
          "2023-11-15T13:32:38",
          "2023-11-15T14:14:27",
          "2023-11-15T15:49:40",
          "2023-11-15T20:44:59",
          "2023-11-16T09:28:26",
          "2023-11-16T12:29:54",
          "2023-11-16T14:41:30",
          "2023-11-16T14:59:33",
          "2023-11-16T16:34:33",
          "2023-11-16T17:39:14",
          "2023-11-16T18:51:14",
          "2023-11-17T10:58:18",
          "2023-11-17T12:14:44",
          "2023-11-17T15:55:27",
          "2023-11-17T15:58:45",
          "2023-11-17T21:27:02",
          "2023-11-18T14:10:18",
          "2023-11-18T16:39:41",
          "2023-11-18T17:30:36",
          "2023-11-18T18:32:40",
          "2023-11-18T19:25:58",
          "2023-11-18T22:23:08",
          "2023-11-19T08:05:48",
          "2023-11-19T15:51:55",
          "2023-11-19T16:49:44",
          "2023-11-19T16:56:34",
          "2023-11-19T17:48:41",
          "2023-11-20T10:58:53",
          "2023-11-20T12:09:06",
          "2023-11-20T12:18:22",
          "2023-11-21T12:37:40",
          "2023-11-21T15:40:06",
          "2023-11-21T16:28:20",
          "2023-11-21T21:29:31",
          "2023-11-22T06:37:49",
          "2023-11-22T07:09:15",
          "2023-11-22T14:47:20",
          "2023-11-22T15:32:20",
          "2023-11-22T18:12:13",
          "2023-11-22T19:46:18",
          "2023-11-22T20:56:39",
          "2023-11-22T22:31:46",
          "2023-11-23T15:36:18",
          "2023-11-23T19:40:57",
          "2023-11-23T21:54:14",
          "2023-11-24T10:20:10",
          "2023-11-24T17:06:18",
          "2023-11-24T19:23:40",
          "2023-11-24T20:46:16",
          "2023-11-25T12:23:02",
          "2023-11-25T13:11:18",
          "2023-11-25T16:55:03",
          "2023-11-25T19:55:16",
          "2023-11-26T09:02:39",
          "2023-11-26T15:13:21",
          "2023-11-26T15:30:31",
          "2023-11-27T16:38:40",
          "2023-11-27T17:36:52",
          "2023-11-28T14:48:44",
          "2023-11-28T19:41:49",
          "2023-11-29T19:32:00",
          "2023-11-29T20:46:48",
          "2023-11-29T22:06:53",
          "2023-11-30T16:16:59",
          "2023-11-30T18:05:53",
          "2023-11-30T21:12:07",
          "2023-11-30T21:21:21",
          "2023-11-30T22:23:09",
          "2023-12-01T08:51:37",
          "2023-12-01T13:12:12",
          "2023-12-01T17:18:04",
          "2023-12-01T17:32:29",
          "2023-12-01T20:26:58",
          "2023-12-01T21:29:38",
          "2023-12-01T22:19:42",
          "2023-12-02T08:24:58",
          "2023-12-02T08:54:02",
          "2023-12-02T08:58:12",
          "2023-12-02T14:02:51",
          "2023-12-02T14:08:49",
          "2023-12-02T19:37:09",
          "2023-12-02T19:37:09",
          "2023-12-03T06:00:10",
          "2023-12-03T09:42:30",
          "2023-12-03T10:24:25",
          "2023-12-03T13:55:57",
          "2023-12-03T18:43:39",
          "2023-12-03T19:15:45",
          "2023-12-03T21:47:25",
          "2023-12-03T21:53:57",
          "2023-12-03T21:53:57",
          "2023-12-04T09:27:11",
          "2023-12-04T09:27:11",
          "2023-12-04T10:33:47",
          "2023-12-04T11:37:19",
          "2023-12-04T14:24:57",
          "2023-12-04T15:53:17",
          "2023-12-04T15:59:14",
          "2023-12-04T17:08:01",
          "2023-12-05T06:59:00",
          "2023-12-05T08:04:59",
          "2023-12-05T10:54:12",
          "2023-12-05T11:37:30",
          "2023-12-05T11:45:54",
          "2023-12-05T15:09:35",
          "2023-12-05T19:43:01",
          "2023-12-06T10:30:53",
          "2023-12-06T14:25:36",
          "2023-12-06T19:46:57",
          "2023-12-07T15:41:11",
          "2023-12-07T15:53:42",
          "2023-12-07T17:10:30",
          "2023-12-08T11:30:59",
          "2023-12-08T13:42:50",
          "2023-12-08T16:02:03",
          "2023-12-08T17:56:21",
          "2023-12-08T18:47:11",
          "2023-12-08T20:28:29",
          "2023-12-08T20:45:45",
          "2023-12-10T10:00:32",
          "2023-12-10T10:46:35",
          "2023-12-10T12:48:19",
          "2023-12-10T16:42:02",
          "2023-12-10T16:42:02",
          "2023-12-11T10:53:35",
          "2023-12-11T12:21:37",
          "2023-12-11T16:21:04",
          "2023-12-11T16:21:04",
          "2023-12-12T18:55:19",
          "2023-12-12T18:55:19",
          "2023-12-12T19:23:06",
          "2023-12-12T19:23:06",
          "2023-12-13T08:00:38",
          "2023-12-13T08:00:38",
          "2023-12-13T08:09:21",
          "2023-12-13T11:29:00",
          "2023-12-13T12:14:58",
          "2023-12-13T12:14:58",
          "2023-12-13T14:59:23",
          "2023-12-13T15:07:37",
          "2023-12-13T23:04:29",
          "2023-12-14T08:21:00",
          "2023-12-15T06:13:41",
          "2023-12-15T06:13:41",
          "2023-12-15T07:03:10",
          "2023-12-15T07:49:53",
          "2023-12-15T16:43:58",
          "2023-12-15T16:43:58",
          "2023-12-15T16:47:01",
          "2023-12-16T06:41:24",
          "2023-12-16T07:14:30",
          "2023-12-16T11:15:51",
          "2023-12-16T17:41:45",
          "2023-12-16T17:41:45",
          "2023-12-17T15:00:22",
          "2023-12-17T18:35:56",
          "2023-12-17T18:35:56",
          "2023-12-17T18:42:54",
          "2023-12-17T18:42:54",
          "2023-12-17T20:20:32",
          "2023-12-17T20:29:58",
          "2023-12-17T20:29:58",
          "2023-12-18T07:43:43",
          "2023-12-18T15:45:06",
          "2023-12-18T20:01:01",
          "2023-12-19T09:55:43",
          "2023-12-19T17:07:33",
          "2023-12-19T18:36:46",
          "2023-12-19T21:03:10",
          "2023-12-20T05:36:57",
          "2023-12-20T05:36:57",
          "2023-12-20T08:31:24",
          "2023-12-20T11:53:11",
          "2023-12-20T11:53:11",
          "2023-12-20T12:23:15",
          "2023-12-20T12:23:15",
          "2023-12-20T19:58:56",
          "2023-12-21T17:04:59",
          "2023-12-22T08:44:03",
          "2023-12-22T10:53:17",
          "2023-12-22T14:40:46",
          "2023-12-22T18:28:59",
          "2023-12-23T08:51:17",
          "2023-12-23T09:55:53",
          "2023-12-23T11:48:23",
          "2023-12-23T21:28:48",
          "2023-12-24T11:24:41"
         ],
         "xaxis": "x",
         "y": [
          59.7,
          42.561,
          103.567,
          69.636,
          38.033,
          48.734,
          37.174,
          58.769,
          36.2,
          25.843,
          57.608,
          34.202,
          29.674,
          46.391,
          32.1,
          37.173,
          90.116,
          36.129,
          60.185,
          26.238,
          38.358,
          20.711,
          24.032,
          25.077,
          42.376,
          15.487,
          25.913,
          65.851,
          39.473,
          46.36,
          86.933,
          84.984,
          25.704,
          42.334,
          16.126,
          24.022,
          24.496,
          36.567,
          54.659,
          43.467,
          5.334,
          68.48,
          94.834,
          204.9,
          52.8,
          86.702,
          23.646,
          82.662,
          73.1,
          38.902,
          84.567,
          23.065,
          35.794,
          117.171,
          23.467,
          90.034,
          87.167,
          75.8,
          90.023,
          90.023,
          33.234,
          41.865,
          56.057,
          17.2,
          25.897,
          60.767,
          81.234,
          36.9,
          49.643,
          18.811,
          33.902,
          15.38,
          103.2,
          48,
          50.934,
          77.507,
          59.489,
          48.134,
          24.734,
          77.786,
          86.518,
          14.906,
          31.509,
          18.725,
          35.534,
          55.936,
          50.863,
          45.267,
          49.62,
          38.534,
          50.067,
          62.252,
          51.64,
          83.5,
          33,
          90.024,
          60.208,
          75.334,
          15.51,
          7.828,
          85.966,
          84.634,
          55.034,
          18.067,
          47.334,
          68.639,
          75.267,
          59.134,
          58.606,
          79.483,
          22.639,
          71.609,
          17.809,
          112.759,
          49.179,
          47.667,
          60.794,
          116.217,
          45.734,
          35.236,
          84.52,
          76.134,
          57.834,
          70.552,
          47.469,
          51.687,
          59.6,
          37.828,
          45.023,
          89.558,
          63.414,
          85.8,
          126.834,
          57.725,
          69.752,
          42.213,
          59.473,
          88.723,
          47.567,
          62.534,
          164.999,
          50.897,
          77.725,
          47.67,
          89.725,
          45.324,
          89.794,
          81.621,
          28.69,
          90.023,
          57.747,
          44.8,
          15.067,
          179.7,
          64.269,
          66.621,
          80.247,
          49.483,
          46.414,
          94.6,
          83.614,
          28.267,
          52.834,
          58.4,
          28.48,
          38.289,
          191.52,
          90.035,
          39.84,
          28.351,
          54.3,
          22.9,
          61.794,
          145.658,
          59.837,
          89.273,
          62.345,
          19.156,
          114.868,
          81.509,
          26.957,
          68.84,
          60.696,
          74.424,
          36.988,
          403.04,
          25.621,
          84.414,
          58.22,
          90.023,
          47.863,
          39.587,
          900.004,
          183.193,
          47.897,
          136.92,
          44.979,
          22.634,
          64.574,
          90.024,
          89.434,
          25.402,
          25.552,
          90.035,
          13.534,
          90.035,
          52.621,
          82.639,
          56.4,
          75.311,
          90,
          88.518,
          53.134,
          30.487,
          65.414,
          308.964,
          59.634,
          41.4,
          74.918,
          41.759,
          68.475,
          60.069,
          18.667,
          77.403,
          6.454,
          62.483,
          88.5,
          90.034,
          44.071,
          41.959,
          68.824,
          45.534,
          65.167,
          89.967,
          88.94,
          82.7,
          71.379,
          80.552,
          75.767,
          78.345,
          36.587,
          22.667,
          56,
          103.515,
          79.667,
          116.034,
          62.311,
          84.035,
          44.235,
          88.04,
          116.16,
          485.96,
          86.726,
          402.122,
          70.077,
          34.771,
          48.7,
          45.673,
          42.434,
          88.049,
          63.761,
          78.136,
          14.7,
          90.023,
          35.08,
          38.9,
          52.634,
          56.518,
          55.311,
          11.005,
          72.585,
          119.52,
          77.634,
          81.16,
          85.634,
          128.383,
          88.52,
          230.022,
          139.274,
          68.12,
          60.487,
          50.967,
          40.007,
          129.479,
          42.414,
          48.807,
          50.735,
          27.8,
          27.234,
          130.449,
          85.216,
          136.811,
          73.934,
          72.658,
          64.291,
          17.809,
          90.067,
          90.067,
          45.603,
          90.034,
          90.031,
          90.034,
          90.023,
          171.387,
          184.4,
          88.469,
          79.691,
          90.024,
          425.18,
          56.534,
          147.9,
          137.805,
          41.145,
          218.094,
          81.222,
          408.415,
          30.022,
          95.969,
          44.7,
          69.916,
          58.7,
          223.76,
          90.034,
          96.897,
          84.498,
          25.959,
          71.414,
          133.718,
          234.268,
          57.377,
          170.421,
          25.873,
          169.9,
          502.336,
          54.009,
          90.023,
          73.072,
          78.434,
          6.834,
          57.876,
          166.302,
          165.332,
          50.804,
          23.287,
          193.77,
          80.665,
          90.034,
          84.68,
          71.624,
          100.52,
          51.04,
          38.229,
          44.12,
          103.514,
          148.434,
          79.877,
          63.204,
          23.967,
          55.6,
          163.48,
          336.57,
          157.758,
          534.201,
          86.044,
          33.234,
          148.734,
          20.5,
          52.36,
          58.68,
          16.752,
          128.497,
          57.367,
          40.047,
          873.174,
          61.823,
          80.734,
          184.81,
          291.992,
          128.104,
          141.676,
          56.6,
          74.061,
          98.04,
          83.169,
          28.3,
          268.169,
          54.52,
          124.319,
          60.208,
          169.737,
          56.567,
          75.603,
          479.98,
          137.275,
          76.257,
          156.124,
          83.414,
          102.817,
          207.667,
          207.667,
          79.157,
          59.267,
          51.153,
          112.167,
          79.534,
          367.668,
          69.009,
          54.5,
          54.5,
          56.867,
          56.867,
          39.543,
          68.9,
          63.367,
          50.27,
          71.8,
          233.367,
          66.1,
          47.367,
          166.267,
          68.467,
          89.003,
          365.733,
          87.8,
          145.449,
          48.97,
          272.74,
          385.319,
          90.023,
          155.134,
          114.342,
          473.174,
          181.549,
          264.428,
          69.6,
          628.36,
          215.182,
          89.56,
          91.767,
          33.622,
          52.2,
          52.2,
          109.449,
          173.641,
          53.753,
          53.753,
          67.634,
          67.634,
          53.173,
          53.173,
          124.75,
          124.75,
          203.104,
          124.713,
          16.999,
          16.999,
          427.461,
          67.326,
          66.919,
          111.571,
          78.329,
          78.329,
          84.659,
          51.896,
          61.068,
          61.068,
          234.104,
          90.034,
          101.308,
          204.522,
          53.367,
          53.367,
          437.271,
          18.645,
          18.645,
          36.449,
          36.449,
          40.588,
          71.145,
          71.145,
          25.587,
          216.92,
          520.821,
          38.219,
          30.234,
          421.96,
          180.414,
          68.73,
          68.73,
          5.971,
          315.04,
          315.04,
          66.605,
          66.605,
          210.628,
          57.667,
          150.759,
          164.6,
          76.867,
          51.571,
          180.104,
          124.25,
          62.275,
          57.034,
          62.621
         ],
         "yaxis": "y"
        }
       ],
       "layout": {
        "font": {
         "color": "white",
         "size": 18
        },
        "legend": {
         "tracegroupgap": 0
        },
        "margin": {
         "t": 60
        },
        "paper_bgcolor": "rgba(0, 0, 0, 0.5)",
        "plot_bgcolor": "rgba(0, 0, 0, 0.7)",
        "template": {
         "data": {
          "bar": [
           {
            "error_x": {
             "color": "#f2f5fa"
            },
            "error_y": {
             "color": "#f2f5fa"
            },
            "marker": {
             "line": {
              "color": "rgb(17,17,17)",
              "width": 0.5
             },
             "pattern": {
              "fillmode": "overlay",
              "size": 10,
              "solidity": 0.2
             }
            },
            "type": "bar"
           }
          ],
          "barpolar": [
           {
            "marker": {
             "line": {
              "color": "rgb(17,17,17)",
              "width": 0.5
             },
             "pattern": {
              "fillmode": "overlay",
              "size": 10,
              "solidity": 0.2
             }
            },
            "type": "barpolar"
           }
          ],
          "carpet": [
           {
            "aaxis": {
             "endlinecolor": "#A2B1C6",
             "gridcolor": "#506784",
             "linecolor": "#506784",
             "minorgridcolor": "#506784",
             "startlinecolor": "#A2B1C6"
            },
            "baxis": {
             "endlinecolor": "#A2B1C6",
             "gridcolor": "#506784",
             "linecolor": "#506784",
             "minorgridcolor": "#506784",
             "startlinecolor": "#A2B1C6"
            },
            "type": "carpet"
           }
          ],
          "choropleth": [
           {
            "colorbar": {
             "outlinewidth": 0,
             "ticks": ""
            },
            "type": "choropleth"
           }
          ],
          "contour": [
           {
            "colorbar": {
             "outlinewidth": 0,
             "ticks": ""
            },
            "colorscale": [
             [
              0,
              "#0d0887"
             ],
             [
              0.1111111111111111,
              "#46039f"
             ],
             [
              0.2222222222222222,
              "#7201a8"
             ],
             [
              0.3333333333333333,
              "#9c179e"
             ],
             [
              0.4444444444444444,
              "#bd3786"
             ],
             [
              0.5555555555555556,
              "#d8576b"
             ],
             [
              0.6666666666666666,
              "#ed7953"
             ],
             [
              0.7777777777777778,
              "#fb9f3a"
             ],
             [
              0.8888888888888888,
              "#fdca26"
             ],
             [
              1,
              "#f0f921"
             ]
            ],
            "type": "contour"
           }
          ],
          "contourcarpet": [
           {
            "colorbar": {
             "outlinewidth": 0,
             "ticks": ""
            },
            "type": "contourcarpet"
           }
          ],
          "heatmap": [
           {
            "colorbar": {
             "outlinewidth": 0,
             "ticks": ""
            },
            "colorscale": [
             [
              0,
              "#0d0887"
             ],
             [
              0.1111111111111111,
              "#46039f"
             ],
             [
              0.2222222222222222,
              "#7201a8"
             ],
             [
              0.3333333333333333,
              "#9c179e"
             ],
             [
              0.4444444444444444,
              "#bd3786"
             ],
             [
              0.5555555555555556,
              "#d8576b"
             ],
             [
              0.6666666666666666,
              "#ed7953"
             ],
             [
              0.7777777777777778,
              "#fb9f3a"
             ],
             [
              0.8888888888888888,
              "#fdca26"
             ],
             [
              1,
              "#f0f921"
             ]
            ],
            "type": "heatmap"
           }
          ],
          "heatmapgl": [
           {
            "colorbar": {
             "outlinewidth": 0,
             "ticks": ""
            },
            "colorscale": [
             [
              0,
              "#0d0887"
             ],
             [
              0.1111111111111111,
              "#46039f"
             ],
             [
              0.2222222222222222,
              "#7201a8"
             ],
             [
              0.3333333333333333,
              "#9c179e"
             ],
             [
              0.4444444444444444,
              "#bd3786"
             ],
             [
              0.5555555555555556,
              "#d8576b"
             ],
             [
              0.6666666666666666,
              "#ed7953"
             ],
             [
              0.7777777777777778,
              "#fb9f3a"
             ],
             [
              0.8888888888888888,
              "#fdca26"
             ],
             [
              1,
              "#f0f921"
             ]
            ],
            "type": "heatmapgl"
           }
          ],
          "histogram": [
           {
            "marker": {
             "pattern": {
              "fillmode": "overlay",
              "size": 10,
              "solidity": 0.2
             }
            },
            "type": "histogram"
           }
          ],
          "histogram2d": [
           {
            "colorbar": {
             "outlinewidth": 0,
             "ticks": ""
            },
            "colorscale": [
             [
              0,
              "#0d0887"
             ],
             [
              0.1111111111111111,
              "#46039f"
             ],
             [
              0.2222222222222222,
              "#7201a8"
             ],
             [
              0.3333333333333333,
              "#9c179e"
             ],
             [
              0.4444444444444444,
              "#bd3786"
             ],
             [
              0.5555555555555556,
              "#d8576b"
             ],
             [
              0.6666666666666666,
              "#ed7953"
             ],
             [
              0.7777777777777778,
              "#fb9f3a"
             ],
             [
              0.8888888888888888,
              "#fdca26"
             ],
             [
              1,
              "#f0f921"
             ]
            ],
            "type": "histogram2d"
           }
          ],
          "histogram2dcontour": [
           {
            "colorbar": {
             "outlinewidth": 0,
             "ticks": ""
            },
            "colorscale": [
             [
              0,
              "#0d0887"
             ],
             [
              0.1111111111111111,
              "#46039f"
             ],
             [
              0.2222222222222222,
              "#7201a8"
             ],
             [
              0.3333333333333333,
              "#9c179e"
             ],
             [
              0.4444444444444444,
              "#bd3786"
             ],
             [
              0.5555555555555556,
              "#d8576b"
             ],
             [
              0.6666666666666666,
              "#ed7953"
             ],
             [
              0.7777777777777778,
              "#fb9f3a"
             ],
             [
              0.8888888888888888,
              "#fdca26"
             ],
             [
              1,
              "#f0f921"
             ]
            ],
            "type": "histogram2dcontour"
           }
          ],
          "mesh3d": [
           {
            "colorbar": {
             "outlinewidth": 0,
             "ticks": ""
            },
            "type": "mesh3d"
           }
          ],
          "parcoords": [
           {
            "line": {
             "colorbar": {
              "outlinewidth": 0,
              "ticks": ""
             }
            },
            "type": "parcoords"
           }
          ],
          "pie": [
           {
            "automargin": true,
            "type": "pie"
           }
          ],
          "scatter": [
           {
            "marker": {
             "line": {
              "color": "#283442"
             }
            },
            "type": "scatter"
           }
          ],
          "scatter3d": [
           {
            "line": {
             "colorbar": {
              "outlinewidth": 0,
              "ticks": ""
             }
            },
            "marker": {
             "colorbar": {
              "outlinewidth": 0,
              "ticks": ""
             }
            },
            "type": "scatter3d"
           }
          ],
          "scattercarpet": [
           {
            "marker": {
             "colorbar": {
              "outlinewidth": 0,
              "ticks": ""
             }
            },
            "type": "scattercarpet"
           }
          ],
          "scattergeo": [
           {
            "marker": {
             "colorbar": {
              "outlinewidth": 0,
              "ticks": ""
             }
            },
            "type": "scattergeo"
           }
          ],
          "scattergl": [
           {
            "marker": {
             "line": {
              "color": "#283442"
             }
            },
            "type": "scattergl"
           }
          ],
          "scattermapbox": [
           {
            "marker": {
             "colorbar": {
              "outlinewidth": 0,
              "ticks": ""
             }
            },
            "type": "scattermapbox"
           }
          ],
          "scatterpolar": [
           {
            "marker": {
             "colorbar": {
              "outlinewidth": 0,
              "ticks": ""
             }
            },
            "type": "scatterpolar"
           }
          ],
          "scatterpolargl": [
           {
            "marker": {
             "colorbar": {
              "outlinewidth": 0,
              "ticks": ""
             }
            },
            "type": "scatterpolargl"
           }
          ],
          "scatterternary": [
           {
            "marker": {
             "colorbar": {
              "outlinewidth": 0,
              "ticks": ""
             }
            },
            "type": "scatterternary"
           }
          ],
          "surface": [
           {
            "colorbar": {
             "outlinewidth": 0,
             "ticks": ""
            },
            "colorscale": [
             [
              0,
              "#0d0887"
             ],
             [
              0.1111111111111111,
              "#46039f"
             ],
             [
              0.2222222222222222,
              "#7201a8"
             ],
             [
              0.3333333333333333,
              "#9c179e"
             ],
             [
              0.4444444444444444,
              "#bd3786"
             ],
             [
              0.5555555555555556,
              "#d8576b"
             ],
             [
              0.6666666666666666,
              "#ed7953"
             ],
             [
              0.7777777777777778,
              "#fb9f3a"
             ],
             [
              0.8888888888888888,
              "#fdca26"
             ],
             [
              1,
              "#f0f921"
             ]
            ],
            "type": "surface"
           }
          ],
          "table": [
           {
            "cells": {
             "fill": {
              "color": "#506784"
             },
             "line": {
              "color": "rgb(17,17,17)"
             }
            },
            "header": {
             "fill": {
              "color": "#2a3f5f"
             },
             "line": {
              "color": "rgb(17,17,17)"
             }
            },
            "type": "table"
           }
          ]
         },
         "layout": {
          "annotationdefaults": {
           "arrowcolor": "#f2f5fa",
           "arrowhead": 0,
           "arrowwidth": 1
          },
          "autotypenumbers": "strict",
          "coloraxis": {
           "colorbar": {
            "outlinewidth": 0,
            "ticks": ""
           }
          },
          "colorscale": {
           "diverging": [
            [
             0,
             "#8e0152"
            ],
            [
             0.1,
             "#c51b7d"
            ],
            [
             0.2,
             "#de77ae"
            ],
            [
             0.3,
             "#f1b6da"
            ],
            [
             0.4,
             "#fde0ef"
            ],
            [
             0.5,
             "#f7f7f7"
            ],
            [
             0.6,
             "#e6f5d0"
            ],
            [
             0.7,
             "#b8e186"
            ],
            [
             0.8,
             "#7fbc41"
            ],
            [
             0.9,
             "#4d9221"
            ],
            [
             1,
             "#276419"
            ]
           ],
           "sequential": [
            [
             0,
             "#0d0887"
            ],
            [
             0.1111111111111111,
             "#46039f"
            ],
            [
             0.2222222222222222,
             "#7201a8"
            ],
            [
             0.3333333333333333,
             "#9c179e"
            ],
            [
             0.4444444444444444,
             "#bd3786"
            ],
            [
             0.5555555555555556,
             "#d8576b"
            ],
            [
             0.6666666666666666,
             "#ed7953"
            ],
            [
             0.7777777777777778,
             "#fb9f3a"
            ],
            [
             0.8888888888888888,
             "#fdca26"
            ],
            [
             1,
             "#f0f921"
            ]
           ],
           "sequentialminus": [
            [
             0,
             "#0d0887"
            ],
            [
             0.1111111111111111,
             "#46039f"
            ],
            [
             0.2222222222222222,
             "#7201a8"
            ],
            [
             0.3333333333333333,
             "#9c179e"
            ],
            [
             0.4444444444444444,
             "#bd3786"
            ],
            [
             0.5555555555555556,
             "#d8576b"
            ],
            [
             0.6666666666666666,
             "#ed7953"
            ],
            [
             0.7777777777777778,
             "#fb9f3a"
            ],
            [
             0.8888888888888888,
             "#fdca26"
            ],
            [
             1,
             "#f0f921"
            ]
           ]
          },
          "colorway": [
           "#636efa",
           "#EF553B",
           "#00cc96",
           "#ab63fa",
           "#FFA15A",
           "#19d3f3",
           "#FF6692",
           "#B6E880",
           "#FF97FF",
           "#FECB52"
          ],
          "font": {
           "color": "#f2f5fa"
          },
          "geo": {
           "bgcolor": "rgb(17,17,17)",
           "lakecolor": "rgb(17,17,17)",
           "landcolor": "rgb(17,17,17)",
           "showlakes": true,
           "showland": true,
           "subunitcolor": "#506784"
          },
          "hoverlabel": {
           "align": "left"
          },
          "hovermode": "closest",
          "mapbox": {
           "style": "dark"
          },
          "paper_bgcolor": "rgb(17,17,17)",
          "plot_bgcolor": "rgb(17,17,17)",
          "polar": {
           "angularaxis": {
            "gridcolor": "#506784",
            "linecolor": "#506784",
            "ticks": ""
           },
           "bgcolor": "rgb(17,17,17)",
           "radialaxis": {
            "gridcolor": "#506784",
            "linecolor": "#506784",
            "ticks": ""
           }
          },
          "scene": {
           "xaxis": {
            "backgroundcolor": "rgb(17,17,17)",
            "gridcolor": "#506784",
            "gridwidth": 2,
            "linecolor": "#506784",
            "showbackground": true,
            "ticks": "",
            "zerolinecolor": "#C8D4E3"
           },
           "yaxis": {
            "backgroundcolor": "rgb(17,17,17)",
            "gridcolor": "#506784",
            "gridwidth": 2,
            "linecolor": "#506784",
            "showbackground": true,
            "ticks": "",
            "zerolinecolor": "#C8D4E3"
           },
           "zaxis": {
            "backgroundcolor": "rgb(17,17,17)",
            "gridcolor": "#506784",
            "gridwidth": 2,
            "linecolor": "#506784",
            "showbackground": true,
            "ticks": "",
            "zerolinecolor": "#C8D4E3"
           }
          },
          "shapedefaults": {
           "line": {
            "color": "#f2f5fa"
           }
          },
          "sliderdefaults": {
           "bgcolor": "#C8D4E3",
           "bordercolor": "rgb(17,17,17)",
           "borderwidth": 1,
           "tickwidth": 0
          },
          "ternary": {
           "aaxis": {
            "gridcolor": "#506784",
            "linecolor": "#506784",
            "ticks": ""
           },
           "baxis": {
            "gridcolor": "#506784",
            "linecolor": "#506784",
            "ticks": ""
           },
           "bgcolor": "rgb(17,17,17)",
           "caxis": {
            "gridcolor": "#506784",
            "linecolor": "#506784",
            "ticks": ""
           }
          },
          "title": {
           "x": 0.05
          },
          "updatemenudefaults": {
           "bgcolor": "#506784",
           "borderwidth": 0
          },
          "xaxis": {
           "automargin": true,
           "gridcolor": "#283442",
           "linecolor": "#506784",
           "ticks": "",
           "title": {
            "standoff": 15
           },
           "zerolinecolor": "#283442",
           "zerolinewidth": 2
          },
          "yaxis": {
           "automargin": true,
           "gridcolor": "#283442",
           "linecolor": "#506784",
           "ticks": "",
           "title": {
            "standoff": 15
           },
           "zerolinecolor": "#283442",
           "zerolinewidth": 2
          }
         }
        },
        "xaxis": {
         "anchor": "y",
         "domain": [
          0,
          1
         ],
         "title": {
          "text": "timestamp"
         }
        },
        "yaxis": {
         "anchor": "x",
         "domain": [
          0,
          1
         ],
         "title": {
          "text": "videoDuration"
         }
        }
       }
      }
     },
     "metadata": {},
     "output_type": "display_data"
    }
   ],
   "source": [
    "# Creating DataFrame\n",
    "df = merged_df[[\"timestamp\", \"type\", \"videoDuration\"]]\n",
    "df['timestamp'] = pd.to_datetime(df['timestamp'])\n",
    "df = df[df['timestamp'] >= '2023-10-07']\n",
    "\n",
    "\n",
    "# Sorting dataframes by timestamp\n",
    "df = df.sort_values(by='timestamp')\n",
    "\n",
    "# Grouping by 'type' and counting the number of publications for each type for both periods\n",
    "df['period'] = df['timestamp'].apply(lambda x: 'Before 2023-11-24' if x < pd.Timestamp('2023-11-24') else 'After 2023-11-24')\n",
    "type_counts = df.groupby(['type', 'period']).size().reset_index(name='count')\n",
    "\n",
    "# Creating a color map for video durations\n",
    "video_colors = px.colors.sequential.Viridis\n",
    "\n",
    "# Plotting with Plotly Express\n",
    "fig = px.bar(type_counts, x='type', y='count', color='type', facet_col='period',\n",
    "             labels={'count': 'Number of Publications', 'type': 'Type'},\n",
    "             category_orders={'type': ['Video', 'Sidecar', 'Image']},\n",
    "             color_discrete_map={'Video': [video_colors[int(i * (len(video_colors) - 1))] for i in \n",
    "                                          df[df['type'] == 'Video']['videoDuration'].rank(pct=True)]}\n",
    "            )\n",
    "fig.update_traces(marker_line_color='black', marker_line_width=1, opacity=0.7)\n",
    "fig.update_layout(\n",
    "    template='plotly_dark',\n",
    "    plot_bgcolor='rgba(0, 0, 0, 0.7)',  # Adjust the background color's transparency\n",
    "    paper_bgcolor='rgba(0, 0, 0, 0.5)',  # Adjust the plot area's background color's transparency\n",
    "    font=dict(color='white')  # Change font color to white for better contrast\n",
    ")\n",
    "#pio.write_image(fig, \"bar_plot.jpeg\")\n",
    "\n",
    "\n",
    "line_fig = px.line(df.dropna(subset=['videoDuration']), x='timestamp', y='videoDuration')\n",
    "line_fig.update_traces(marker_line_color='black', marker_line_width=1, opacity=0.7, line=dict(color = '#dda15e'))\n",
    "line_fig.update_layout(\n",
    "    template='plotly_dark',\n",
    "    plot_bgcolor='rgba(0, 0, 0, 0.7)',  # Adjust the background color's transparency\n",
    "    paper_bgcolor='rgba(0, 0, 0, 0.5)',  # Adjust the plot area's background color's transparency\n",
    "    font=dict(color='white', size = 18)  # Change font color to white for better contrast\n",
    ")\n",
    "pio.write_image(line_fig, \"line_plot.jpeg\", width= 800, height=300)\n",
    "\n",
    "\n",
    "# Show plot\n",
    "fig.show()\n",
    "line_fig.show(height = 100, width = 50)\n"
   ]
  },
  {
   "cell_type": "markdown",
   "metadata": {},
   "source": [
    "#### The distribution of the average view per click"
   ]
  },
  {
   "cell_type": "code",
   "execution_count": 51,
   "metadata": {},
   "outputs": [],
   "source": [
    "### The calculation of the averages before, after and in the Truce, and the total average for the view per click\n",
    "bar_list = []\n",
    "for  idx, df in enumerate(dfs_hit): \n",
    "    avg_before = dfs_hit[idx][dfs_hit[idx]['date'] < '2023-11-24']['mean'].mean(skipna = True)\n",
    "    avg_between = dfs_hit[idx][(dfs_hit[idx]['date'] >= '2023-11-24') & (dfs_hit[idx]['date'] <= '2023-11-30')]['mean'].mean(skipna = True)\n",
    "    avg_after = dfs_hit[idx][dfs_hit[idx]['date'] > '2023-11-30']['mean'].mean(skipna = True)\n",
    "    avg_before, avg_between, avg_after = (0 if np.isnan(v) else v for v in (avg_before, avg_between, avg_after))\n",
    "    bar_list.append([avg_before, avg_between, avg_after])"
   ]
  },
  {
   "cell_type": "code",
   "execution_count": 58,
   "metadata": {},
   "outputs": [
    {
     "data": {
      "application/vnd.plotly.v1+json": {
       "config": {
        "plotlyServerURL": "https://plot.ly"
       },
       "data": [
        {
         "marker": {
          "color": "#606c38"
         },
         "name": "Saleh",
         "type": "bar",
         "x": [
          "Before Truce",
          "During Truce",
          "After Truce"
         ],
         "y": [
          0.3079632054886576,
          0,
          0.2644150978365432
         ]
        },
        {
         "marker": {
          "color": "#283618"
         },
         "name": "Moataz",
         "type": "bar",
         "x": [
          "Before Truce",
          "During Truce",
          "After Truce"
         ],
         "y": [
          0.31025516094302125,
          0.26610027907334566,
          0.2777586549045211
         ]
        },
        {
         "marker": {
          "color": "#fefae0"
         },
         "name": "Ahmed",
         "type": "bar",
         "x": [
          "Before Truce",
          "During Truce",
          "After Truce"
         ],
         "y": [
          0.30088714230545294,
          0.28523407660483735,
          0.28945393802334707
         ]
        },
        {
         "marker": {
          "color": "#dda15e"
         },
         "name": "Bysan",
         "type": "bar",
         "x": [
          "Before Truce",
          "During Truce",
          "After Truce"
         ],
         "y": [
          0.3071230457058698,
          0.27470770440162035,
          0.2851440436804368
         ]
        },
        {
         "marker": {
          "color": "#bc6c25"
         },
         "name": "Total",
         "type": "bar",
         "x": [
          "Before Truce",
          "During Truce",
          "After Truce"
         ],
         "y": [
          0.3005882710546695,
          0.27864953209884724,
          0.28128262196177706
         ]
        }
       ],
       "layout": {
        "barmode": "group",
        "font": {
         "color": "white",
         "size": 18
        },
        "paper_bgcolor": "rgba(0, 0, 0, 0.5)",
        "plot_bgcolor": "rgba(0, 0, 0, 0.7)",
        "template": {
         "data": {
          "bar": [
           {
            "error_x": {
             "color": "#f2f5fa"
            },
            "error_y": {
             "color": "#f2f5fa"
            },
            "marker": {
             "line": {
              "color": "rgb(17,17,17)",
              "width": 0.5
             },
             "pattern": {
              "fillmode": "overlay",
              "size": 10,
              "solidity": 0.2
             }
            },
            "type": "bar"
           }
          ],
          "barpolar": [
           {
            "marker": {
             "line": {
              "color": "rgb(17,17,17)",
              "width": 0.5
             },
             "pattern": {
              "fillmode": "overlay",
              "size": 10,
              "solidity": 0.2
             }
            },
            "type": "barpolar"
           }
          ],
          "carpet": [
           {
            "aaxis": {
             "endlinecolor": "#A2B1C6",
             "gridcolor": "#506784",
             "linecolor": "#506784",
             "minorgridcolor": "#506784",
             "startlinecolor": "#A2B1C6"
            },
            "baxis": {
             "endlinecolor": "#A2B1C6",
             "gridcolor": "#506784",
             "linecolor": "#506784",
             "minorgridcolor": "#506784",
             "startlinecolor": "#A2B1C6"
            },
            "type": "carpet"
           }
          ],
          "choropleth": [
           {
            "colorbar": {
             "outlinewidth": 0,
             "ticks": ""
            },
            "type": "choropleth"
           }
          ],
          "contour": [
           {
            "colorbar": {
             "outlinewidth": 0,
             "ticks": ""
            },
            "colorscale": [
             [
              0,
              "#0d0887"
             ],
             [
              0.1111111111111111,
              "#46039f"
             ],
             [
              0.2222222222222222,
              "#7201a8"
             ],
             [
              0.3333333333333333,
              "#9c179e"
             ],
             [
              0.4444444444444444,
              "#bd3786"
             ],
             [
              0.5555555555555556,
              "#d8576b"
             ],
             [
              0.6666666666666666,
              "#ed7953"
             ],
             [
              0.7777777777777778,
              "#fb9f3a"
             ],
             [
              0.8888888888888888,
              "#fdca26"
             ],
             [
              1,
              "#f0f921"
             ]
            ],
            "type": "contour"
           }
          ],
          "contourcarpet": [
           {
            "colorbar": {
             "outlinewidth": 0,
             "ticks": ""
            },
            "type": "contourcarpet"
           }
          ],
          "heatmap": [
           {
            "colorbar": {
             "outlinewidth": 0,
             "ticks": ""
            },
            "colorscale": [
             [
              0,
              "#0d0887"
             ],
             [
              0.1111111111111111,
              "#46039f"
             ],
             [
              0.2222222222222222,
              "#7201a8"
             ],
             [
              0.3333333333333333,
              "#9c179e"
             ],
             [
              0.4444444444444444,
              "#bd3786"
             ],
             [
              0.5555555555555556,
              "#d8576b"
             ],
             [
              0.6666666666666666,
              "#ed7953"
             ],
             [
              0.7777777777777778,
              "#fb9f3a"
             ],
             [
              0.8888888888888888,
              "#fdca26"
             ],
             [
              1,
              "#f0f921"
             ]
            ],
            "type": "heatmap"
           }
          ],
          "heatmapgl": [
           {
            "colorbar": {
             "outlinewidth": 0,
             "ticks": ""
            },
            "colorscale": [
             [
              0,
              "#0d0887"
             ],
             [
              0.1111111111111111,
              "#46039f"
             ],
             [
              0.2222222222222222,
              "#7201a8"
             ],
             [
              0.3333333333333333,
              "#9c179e"
             ],
             [
              0.4444444444444444,
              "#bd3786"
             ],
             [
              0.5555555555555556,
              "#d8576b"
             ],
             [
              0.6666666666666666,
              "#ed7953"
             ],
             [
              0.7777777777777778,
              "#fb9f3a"
             ],
             [
              0.8888888888888888,
              "#fdca26"
             ],
             [
              1,
              "#f0f921"
             ]
            ],
            "type": "heatmapgl"
           }
          ],
          "histogram": [
           {
            "marker": {
             "pattern": {
              "fillmode": "overlay",
              "size": 10,
              "solidity": 0.2
             }
            },
            "type": "histogram"
           }
          ],
          "histogram2d": [
           {
            "colorbar": {
             "outlinewidth": 0,
             "ticks": ""
            },
            "colorscale": [
             [
              0,
              "#0d0887"
             ],
             [
              0.1111111111111111,
              "#46039f"
             ],
             [
              0.2222222222222222,
              "#7201a8"
             ],
             [
              0.3333333333333333,
              "#9c179e"
             ],
             [
              0.4444444444444444,
              "#bd3786"
             ],
             [
              0.5555555555555556,
              "#d8576b"
             ],
             [
              0.6666666666666666,
              "#ed7953"
             ],
             [
              0.7777777777777778,
              "#fb9f3a"
             ],
             [
              0.8888888888888888,
              "#fdca26"
             ],
             [
              1,
              "#f0f921"
             ]
            ],
            "type": "histogram2d"
           }
          ],
          "histogram2dcontour": [
           {
            "colorbar": {
             "outlinewidth": 0,
             "ticks": ""
            },
            "colorscale": [
             [
              0,
              "#0d0887"
             ],
             [
              0.1111111111111111,
              "#46039f"
             ],
             [
              0.2222222222222222,
              "#7201a8"
             ],
             [
              0.3333333333333333,
              "#9c179e"
             ],
             [
              0.4444444444444444,
              "#bd3786"
             ],
             [
              0.5555555555555556,
              "#d8576b"
             ],
             [
              0.6666666666666666,
              "#ed7953"
             ],
             [
              0.7777777777777778,
              "#fb9f3a"
             ],
             [
              0.8888888888888888,
              "#fdca26"
             ],
             [
              1,
              "#f0f921"
             ]
            ],
            "type": "histogram2dcontour"
           }
          ],
          "mesh3d": [
           {
            "colorbar": {
             "outlinewidth": 0,
             "ticks": ""
            },
            "type": "mesh3d"
           }
          ],
          "parcoords": [
           {
            "line": {
             "colorbar": {
              "outlinewidth": 0,
              "ticks": ""
             }
            },
            "type": "parcoords"
           }
          ],
          "pie": [
           {
            "automargin": true,
            "type": "pie"
           }
          ],
          "scatter": [
           {
            "marker": {
             "line": {
              "color": "#283442"
             }
            },
            "type": "scatter"
           }
          ],
          "scatter3d": [
           {
            "line": {
             "colorbar": {
              "outlinewidth": 0,
              "ticks": ""
             }
            },
            "marker": {
             "colorbar": {
              "outlinewidth": 0,
              "ticks": ""
             }
            },
            "type": "scatter3d"
           }
          ],
          "scattercarpet": [
           {
            "marker": {
             "colorbar": {
              "outlinewidth": 0,
              "ticks": ""
             }
            },
            "type": "scattercarpet"
           }
          ],
          "scattergeo": [
           {
            "marker": {
             "colorbar": {
              "outlinewidth": 0,
              "ticks": ""
             }
            },
            "type": "scattergeo"
           }
          ],
          "scattergl": [
           {
            "marker": {
             "line": {
              "color": "#283442"
             }
            },
            "type": "scattergl"
           }
          ],
          "scattermapbox": [
           {
            "marker": {
             "colorbar": {
              "outlinewidth": 0,
              "ticks": ""
             }
            },
            "type": "scattermapbox"
           }
          ],
          "scatterpolar": [
           {
            "marker": {
             "colorbar": {
              "outlinewidth": 0,
              "ticks": ""
             }
            },
            "type": "scatterpolar"
           }
          ],
          "scatterpolargl": [
           {
            "marker": {
             "colorbar": {
              "outlinewidth": 0,
              "ticks": ""
             }
            },
            "type": "scatterpolargl"
           }
          ],
          "scatterternary": [
           {
            "marker": {
             "colorbar": {
              "outlinewidth": 0,
              "ticks": ""
             }
            },
            "type": "scatterternary"
           }
          ],
          "surface": [
           {
            "colorbar": {
             "outlinewidth": 0,
             "ticks": ""
            },
            "colorscale": [
             [
              0,
              "#0d0887"
             ],
             [
              0.1111111111111111,
              "#46039f"
             ],
             [
              0.2222222222222222,
              "#7201a8"
             ],
             [
              0.3333333333333333,
              "#9c179e"
             ],
             [
              0.4444444444444444,
              "#bd3786"
             ],
             [
              0.5555555555555556,
              "#d8576b"
             ],
             [
              0.6666666666666666,
              "#ed7953"
             ],
             [
              0.7777777777777778,
              "#fb9f3a"
             ],
             [
              0.8888888888888888,
              "#fdca26"
             ],
             [
              1,
              "#f0f921"
             ]
            ],
            "type": "surface"
           }
          ],
          "table": [
           {
            "cells": {
             "fill": {
              "color": "#506784"
             },
             "line": {
              "color": "rgb(17,17,17)"
             }
            },
            "header": {
             "fill": {
              "color": "#2a3f5f"
             },
             "line": {
              "color": "rgb(17,17,17)"
             }
            },
            "type": "table"
           }
          ]
         },
         "layout": {
          "annotationdefaults": {
           "arrowcolor": "#f2f5fa",
           "arrowhead": 0,
           "arrowwidth": 1
          },
          "autotypenumbers": "strict",
          "coloraxis": {
           "colorbar": {
            "outlinewidth": 0,
            "ticks": ""
           }
          },
          "colorscale": {
           "diverging": [
            [
             0,
             "#8e0152"
            ],
            [
             0.1,
             "#c51b7d"
            ],
            [
             0.2,
             "#de77ae"
            ],
            [
             0.3,
             "#f1b6da"
            ],
            [
             0.4,
             "#fde0ef"
            ],
            [
             0.5,
             "#f7f7f7"
            ],
            [
             0.6,
             "#e6f5d0"
            ],
            [
             0.7,
             "#b8e186"
            ],
            [
             0.8,
             "#7fbc41"
            ],
            [
             0.9,
             "#4d9221"
            ],
            [
             1,
             "#276419"
            ]
           ],
           "sequential": [
            [
             0,
             "#0d0887"
            ],
            [
             0.1111111111111111,
             "#46039f"
            ],
            [
             0.2222222222222222,
             "#7201a8"
            ],
            [
             0.3333333333333333,
             "#9c179e"
            ],
            [
             0.4444444444444444,
             "#bd3786"
            ],
            [
             0.5555555555555556,
             "#d8576b"
            ],
            [
             0.6666666666666666,
             "#ed7953"
            ],
            [
             0.7777777777777778,
             "#fb9f3a"
            ],
            [
             0.8888888888888888,
             "#fdca26"
            ],
            [
             1,
             "#f0f921"
            ]
           ],
           "sequentialminus": [
            [
             0,
             "#0d0887"
            ],
            [
             0.1111111111111111,
             "#46039f"
            ],
            [
             0.2222222222222222,
             "#7201a8"
            ],
            [
             0.3333333333333333,
             "#9c179e"
            ],
            [
             0.4444444444444444,
             "#bd3786"
            ],
            [
             0.5555555555555556,
             "#d8576b"
            ],
            [
             0.6666666666666666,
             "#ed7953"
            ],
            [
             0.7777777777777778,
             "#fb9f3a"
            ],
            [
             0.8888888888888888,
             "#fdca26"
            ],
            [
             1,
             "#f0f921"
            ]
           ]
          },
          "colorway": [
           "#636efa",
           "#EF553B",
           "#00cc96",
           "#ab63fa",
           "#FFA15A",
           "#19d3f3",
           "#FF6692",
           "#B6E880",
           "#FF97FF",
           "#FECB52"
          ],
          "font": {
           "color": "#f2f5fa"
          },
          "geo": {
           "bgcolor": "rgb(17,17,17)",
           "lakecolor": "rgb(17,17,17)",
           "landcolor": "rgb(17,17,17)",
           "showlakes": true,
           "showland": true,
           "subunitcolor": "#506784"
          },
          "hoverlabel": {
           "align": "left"
          },
          "hovermode": "closest",
          "mapbox": {
           "style": "dark"
          },
          "paper_bgcolor": "rgb(17,17,17)",
          "plot_bgcolor": "rgb(17,17,17)",
          "polar": {
           "angularaxis": {
            "gridcolor": "#506784",
            "linecolor": "#506784",
            "ticks": ""
           },
           "bgcolor": "rgb(17,17,17)",
           "radialaxis": {
            "gridcolor": "#506784",
            "linecolor": "#506784",
            "ticks": ""
           }
          },
          "scene": {
           "xaxis": {
            "backgroundcolor": "rgb(17,17,17)",
            "gridcolor": "#506784",
            "gridwidth": 2,
            "linecolor": "#506784",
            "showbackground": true,
            "ticks": "",
            "zerolinecolor": "#C8D4E3"
           },
           "yaxis": {
            "backgroundcolor": "rgb(17,17,17)",
            "gridcolor": "#506784",
            "gridwidth": 2,
            "linecolor": "#506784",
            "showbackground": true,
            "ticks": "",
            "zerolinecolor": "#C8D4E3"
           },
           "zaxis": {
            "backgroundcolor": "rgb(17,17,17)",
            "gridcolor": "#506784",
            "gridwidth": 2,
            "linecolor": "#506784",
            "showbackground": true,
            "ticks": "",
            "zerolinecolor": "#C8D4E3"
           }
          },
          "shapedefaults": {
           "line": {
            "color": "#f2f5fa"
           }
          },
          "sliderdefaults": {
           "bgcolor": "#C8D4E3",
           "bordercolor": "rgb(17,17,17)",
           "borderwidth": 1,
           "tickwidth": 0
          },
          "ternary": {
           "aaxis": {
            "gridcolor": "#506784",
            "linecolor": "#506784",
            "ticks": ""
           },
           "baxis": {
            "gridcolor": "#506784",
            "linecolor": "#506784",
            "ticks": ""
           },
           "bgcolor": "rgb(17,17,17)",
           "caxis": {
            "gridcolor": "#506784",
            "linecolor": "#506784",
            "ticks": ""
           }
          },
          "title": {
           "x": 0.05
          },
          "updatemenudefaults": {
           "bgcolor": "#506784",
           "borderwidth": 0
          },
          "xaxis": {
           "automargin": true,
           "gridcolor": "#283442",
           "linecolor": "#506784",
           "ticks": "",
           "title": {
            "standoff": 15
           },
           "zerolinecolor": "#283442",
           "zerolinewidth": 2
          },
          "yaxis": {
           "automargin": true,
           "gridcolor": "#283442",
           "linecolor": "#506784",
           "ticks": "",
           "title": {
            "standoff": 15
           },
           "zerolinecolor": "#283442",
           "zerolinewidth": 2
          }
         }
        },
        "xaxis": {
         "showgrid": false,
         "tickangle": -25,
         "title": {
          "text": "Date"
         }
        },
        "yaxis": {
         "title": {
          "text": "Watching Video Per Play (%)"
         }
        }
       }
      }
     },
     "metadata": {},
     "output_type": "display_data"
    }
   ],
   "source": [
    "\n",
    "periods = ['Before Truce', 'During Truce', 'After Truce']\n",
    "names_bar = ['Saleh', 'Moataz', 'Ahmed', 'Bysan', 'Total']\n",
    "colors = ['#606c38', '#283618', '#fefae0', '#dda15e', '#bc6c25']\n",
    "\n",
    "fig = go.Figure()\n",
    "\n",
    "for i, bars in enumerate(bar_list):\n",
    "    fig.add_trace(go.Bar(name=names_bar[i], x=periods, y=bars, marker=dict(color=colors[i])))\n",
    "\n",
    "fig.update_layout(barmode='group',\n",
    "                  xaxis=dict(title='Date', showgrid=False, tickangle=-25),  # Incline dates\n",
    "                  yaxis=dict(title='Watching Video Per Play (%)'),\n",
    "                  template='plotly_dark',\n",
    "                  plot_bgcolor='rgba(0, 0, 0, 0.7)',  # Adjust the background color's transparency\n",
    "                  paper_bgcolor='rgba(0, 0, 0, 0.5)',  # Adjust the plot area's background color's transparency\n",
    "                  font=dict(color='white', size = 18))  # Change font color to white for better contrast)\n",
    "fig.show()\n"
   ]
  },
  {
   "cell_type": "markdown",
   "metadata": {},
   "source": [
    "#### A line plot for the number of interactions (likes and comments) for the post on instagram"
   ]
  },
  {
   "cell_type": "code",
   "execution_count": 62,
   "metadata": {},
   "outputs": [
    {
     "data": {
      "application/vnd.plotly.v1+json": {
       "config": {
        "plotlyServerURL": "https://plot.ly"
       },
       "data": [
        {
         "line": {
          "color": "#606c38"
         },
         "mode": "lines",
         "name": "hero saleh",
         "type": "scatter",
         "visible": false,
         "x": [
          "2023-10-07T00:00:00",
          "2023-10-08T00:00:00",
          "2023-10-09T00:00:00",
          "2023-10-10T00:00:00",
          "2023-10-11T00:00:00",
          "2023-10-12T00:00:00",
          "2023-10-13T00:00:00",
          "2023-10-14T00:00:00",
          "2023-10-15T00:00:00",
          "2023-10-16T00:00:00",
          "2023-10-17T00:00:00",
          "2023-10-18T00:00:00",
          "2023-10-19T00:00:00",
          "2023-10-20T00:00:00",
          "2023-10-22T00:00:00",
          "2023-10-23T00:00:00",
          "2023-10-24T00:00:00",
          "2023-10-25T00:00:00",
          "2023-10-29T00:00:00",
          "2023-11-01T00:00:00",
          "2023-11-02T00:00:00",
          "2023-11-03T00:00:00",
          "2023-11-07T00:00:00",
          "2023-11-08T00:00:00",
          "2023-11-09T00:00:00",
          "2023-11-10T00:00:00",
          "2023-11-13T00:00:00",
          "2023-11-14T00:00:00",
          "2023-11-15T00:00:00",
          "2023-11-16T00:00:00",
          "2023-11-20T00:00:00",
          "2023-11-21T00:00:00",
          "2023-11-22T00:00:00",
          "2023-12-01T00:00:00",
          "2023-12-02T00:00:00",
          "2023-12-03T00:00:00",
          "2023-12-04T00:00:00",
          "2023-12-05T00:00:00",
          "2023-12-06T00:00:00",
          "2023-12-07T00:00:00",
          "2023-12-08T00:00:00",
          "2023-12-09T00:00:00",
          "2023-12-10T00:00:00",
          "2023-12-11T00:00:00",
          "2023-12-12T00:00:00",
          "2023-12-15T00:00:00",
          "2023-12-16T00:00:00",
          "2023-12-17T00:00:00",
          "2023-12-18T00:00:00",
          "2023-12-21T00:00:00",
          "2023-12-23T00:00:00",
          "2023-12-24T00:00:00"
         ],
         "y": [
          252622,
          114522,
          77654,
          454335,
          498415,
          534768,
          1113312,
          594512,
          366148,
          275064,
          872729,
          1317528,
          219612,
          635328,
          866904,
          325116,
          250702,
          845546,
          1619674,
          399070,
          271170,
          1518119,
          379952,
          1170222,
          819965,
          1773052,
          1127714,
          416388,
          873544,
          497091,
          609705,
          661570,
          1971975,
          951348,
          476830,
          1530792,
          889671,
          1004431,
          292444,
          763455,
          596663,
          1481063,
          969139,
          387772,
          581979,
          642578,
          1269195,
          1103543,
          1462241,
          246745,
          381007,
          118879
         ]
        },
        {
         "line": {
          "color": "#283618"
         },
         "mode": "lines",
         "name": "hero moataz",
         "type": "scatter",
         "visible": false,
         "x": [
          "2023-10-07T00:00:00",
          "2023-10-08T00:00:00",
          "2023-10-09T00:00:00",
          "2023-10-10T00:00:00",
          "2023-10-11T00:00:00",
          "2023-10-12T00:00:00",
          "2023-10-13T00:00:00",
          "2023-10-14T00:00:00",
          "2023-10-15T00:00:00",
          "2023-10-16T00:00:00",
          "2023-10-17T00:00:00",
          "2023-10-18T00:00:00",
          "2023-10-19T00:00:00",
          "2023-10-20T00:00:00",
          "2023-10-22T00:00:00",
          "2023-10-23T00:00:00",
          "2023-10-25T00:00:00",
          "2023-10-26T00:00:00",
          "2023-10-27T00:00:00",
          "2023-10-29T00:00:00",
          "2023-10-30T00:00:00",
          "2023-10-31T00:00:00",
          "2023-11-02T00:00:00",
          "2023-11-06T00:00:00",
          "2023-11-07T00:00:00",
          "2023-11-08T00:00:00",
          "2023-11-10T00:00:00",
          "2023-11-11T00:00:00",
          "2023-11-12T00:00:00",
          "2023-11-14T00:00:00",
          "2023-11-15T00:00:00",
          "2023-11-18T00:00:00",
          "2023-11-19T00:00:00",
          "2023-11-20T00:00:00",
          "2023-11-21T00:00:00",
          "2023-11-23T00:00:00",
          "2023-11-27T00:00:00",
          "2023-11-29T00:00:00",
          "2023-11-30T00:00:00",
          "2023-12-03T00:00:00",
          "2023-12-04T00:00:00",
          "2023-12-05T00:00:00",
          "2023-12-06T00:00:00",
          "2023-12-09T00:00:00",
          "2023-12-17T00:00:00",
          "2023-12-19T00:00:00",
          "2023-12-20T00:00:00",
          "2023-12-22T00:00:00",
          "2023-12-24T00:00:00"
         ],
         "y": [
          693221,
          628025,
          974523,
          4197257,
          1672582,
          1221865,
          1943442,
          3149493,
          3174454,
          570163,
          717787,
          1272269,
          2165190,
          2430563,
          5292516,
          5153579,
          4235900,
          2737862,
          6340072,
          4307998,
          2497947,
          1141278,
          923413,
          5025632,
          3904646,
          2929657,
          3865222,
          3567676,
          1320328,
          1336381,
          949867,
          5044644,
          1773985,
          641117,
          698068,
          1571806,
          1120846,
          1175069,
          2028086,
          1164743,
          1764785,
          3557265,
          1557695,
          6242428,
          3295096,
          1907928,
          3600745,
          1056496,
          692688
         ]
        },
        {
         "line": {
          "color": "#fefae0"
         },
         "mode": "lines",
         "name": "hero ahmed",
         "type": "scatter",
         "visible": false,
         "x": [
          "2023-10-07T00:00:00",
          "2023-10-08T00:00:00",
          "2023-10-10T00:00:00",
          "2023-10-11T00:00:00",
          "2023-10-12T00:00:00",
          "2023-10-13T00:00:00",
          "2023-10-14T00:00:00",
          "2023-10-15T00:00:00",
          "2023-10-16T00:00:00",
          "2023-10-17T00:00:00",
          "2023-10-18T00:00:00",
          "2023-10-20T00:00:00",
          "2023-10-22T00:00:00",
          "2023-10-23T00:00:00",
          "2023-10-24T00:00:00",
          "2023-10-25T00:00:00",
          "2023-10-26T00:00:00",
          "2023-10-27T00:00:00",
          "2023-10-28T00:00:00",
          "2023-10-30T00:00:00",
          "2023-11-01T00:00:00",
          "2023-11-02T00:00:00",
          "2023-11-03T00:00:00",
          "2023-11-06T00:00:00",
          "2023-11-07T00:00:00",
          "2023-11-09T00:00:00",
          "2023-11-10T00:00:00",
          "2023-11-15T00:00:00",
          "2023-11-16T00:00:00",
          "2023-11-17T00:00:00",
          "2023-11-18T00:00:00",
          "2023-11-19T00:00:00",
          "2023-11-20T00:00:00",
          "2023-11-22T00:00:00",
          "2023-11-24T00:00:00",
          "2023-11-30T00:00:00",
          "2023-12-01T00:00:00",
          "2023-12-02T00:00:00",
          "2023-12-03T00:00:00",
          "2023-12-04T00:00:00",
          "2023-12-12T00:00:00",
          "2023-12-13T00:00:00",
          "2023-12-15T00:00:00",
          "2023-12-20T00:00:00",
          "2023-12-21T00:00:00",
          "2023-12-22T00:00:00",
          "2023-12-23T00:00:00"
         ],
         "y": [
          181085,
          62501,
          641100,
          632829,
          797392,
          771919,
          135660,
          224828,
          819527,
          1697865,
          1406639,
          345181,
          249586,
          137364,
          84447,
          414687,
          574231,
          284739,
          865950,
          172567,
          238325,
          431276,
          518324,
          75606,
          206622,
          566762,
          1125110,
          824585,
          223311,
          193032,
          365313,
          176933,
          275382,
          212121,
          791637,
          82665,
          153862,
          409513,
          1109593,
          418856,
          633882,
          612183,
          176120,
          74542,
          137670,
          141387,
          25979
         ]
        },
        {
         "line": {
          "color": "#dda15e"
         },
         "mode": "lines",
         "name": "hero bysan",
         "type": "scatter",
         "visible": false,
         "x": [
          "2023-10-07T00:00:00",
          "2023-10-08T00:00:00",
          "2023-10-09T00:00:00",
          "2023-10-10T00:00:00",
          "2023-10-11T00:00:00",
          "2023-10-12T00:00:00",
          "2023-10-13T00:00:00",
          "2023-10-14T00:00:00",
          "2023-10-15T00:00:00",
          "2023-10-16T00:00:00",
          "2023-10-17T00:00:00",
          "2023-10-18T00:00:00",
          "2023-10-19T00:00:00",
          "2023-10-20T00:00:00",
          "2023-10-21T00:00:00",
          "2023-10-23T00:00:00",
          "2023-10-24T00:00:00",
          "2023-10-25T00:00:00",
          "2023-10-26T00:00:00",
          "2023-10-27T00:00:00",
          "2023-10-29T00:00:00",
          "2023-10-30T00:00:00",
          "2023-10-31T00:00:00",
          "2023-11-01T00:00:00",
          "2023-11-02T00:00:00",
          "2023-11-03T00:00:00",
          "2023-11-04T00:00:00",
          "2023-11-05T00:00:00",
          "2023-11-06T00:00:00",
          "2023-11-07T00:00:00",
          "2023-11-08T00:00:00",
          "2023-11-09T00:00:00",
          "2023-11-10T00:00:00",
          "2023-11-11T00:00:00",
          "2023-11-12T00:00:00",
          "2023-11-13T00:00:00",
          "2023-11-14T00:00:00",
          "2023-11-15T00:00:00",
          "2023-11-16T00:00:00",
          "2023-11-17T00:00:00",
          "2023-11-18T00:00:00",
          "2023-11-19T00:00:00",
          "2023-11-20T00:00:00",
          "2023-11-21T00:00:00",
          "2023-11-22T00:00:00",
          "2023-11-23T00:00:00",
          "2023-11-24T00:00:00",
          "2023-11-25T00:00:00",
          "2023-11-26T00:00:00",
          "2023-11-27T00:00:00",
          "2023-11-28T00:00:00",
          "2023-11-29T00:00:00",
          "2023-11-30T00:00:00",
          "2023-12-01T00:00:00",
          "2023-12-02T00:00:00",
          "2023-12-03T00:00:00",
          "2023-12-04T00:00:00",
          "2023-12-05T00:00:00",
          "2023-12-06T00:00:00",
          "2023-12-07T00:00:00",
          "2023-12-08T00:00:00",
          "2023-12-09T00:00:00",
          "2023-12-10T00:00:00",
          "2023-12-11T00:00:00",
          "2023-12-13T00:00:00",
          "2023-12-14T00:00:00",
          "2023-12-15T00:00:00",
          "2023-12-16T00:00:00",
          "2023-12-17T00:00:00",
          "2023-12-18T00:00:00",
          "2023-12-19T00:00:00",
          "2023-12-20T00:00:00",
          "2023-12-21T00:00:00",
          "2023-12-22T00:00:00",
          "2023-12-23T00:00:00",
          "2023-12-24T00:00:00"
         ],
         "y": [
          12535,
          57677,
          22076,
          266712,
          58091,
          1263000,
          558098,
          496793,
          429506,
          346389,
          290944,
          591279,
          194649,
          1073469,
          461020,
          688760,
          472456,
          881966,
          500622,
          412470,
          549476,
          435491,
          850479,
          195737,
          971934,
          1468696,
          376291,
          1776933,
          518137,
          434901,
          1253384,
          133047,
          1065260,
          1141003,
          1148989,
          1020259,
          1289605,
          461252,
          1325823,
          986768,
          614432,
          1865944,
          410761,
          315718,
          729795,
          379437,
          735465,
          760226,
          775061,
          388302,
          155819,
          587866,
          326516,
          1055300,
          3295314,
          2418937,
          1149464,
          547819,
          390380,
          622297,
          2043867,
          636354,
          2784839,
          1368927,
          1296351,
          563369,
          1643592,
          1411400,
          474436,
          515066,
          837622,
          1155697,
          624015,
          397819,
          546583,
          50162
         ]
        }
       ],
       "layout": {
        "font": {
         "color": "white",
         "family": "Arial",
         "size": 18
        },
        "paper_bgcolor": "rgba(0, 0, 0, 0.5)",
        "plot_bgcolor": "rgba(0, 0, 0, 0.7)",
        "shapes": [
         {
          "fillcolor": "rgba(173, 216, 230, 0.3)",
          "layer": "below",
          "line": {
           "width": 0
          },
          "type": "rect",
          "x0": "2023-11-24",
          "x1": "2023-11-29",
          "xref": "x",
          "y0": 0,
          "y1": 1,
          "yref": "y domain"
         }
        ],
        "template": {
         "data": {
          "bar": [
           {
            "error_x": {
             "color": "#f2f5fa"
            },
            "error_y": {
             "color": "#f2f5fa"
            },
            "marker": {
             "line": {
              "color": "rgb(17,17,17)",
              "width": 0.5
             },
             "pattern": {
              "fillmode": "overlay",
              "size": 10,
              "solidity": 0.2
             }
            },
            "type": "bar"
           }
          ],
          "barpolar": [
           {
            "marker": {
             "line": {
              "color": "rgb(17,17,17)",
              "width": 0.5
             },
             "pattern": {
              "fillmode": "overlay",
              "size": 10,
              "solidity": 0.2
             }
            },
            "type": "barpolar"
           }
          ],
          "carpet": [
           {
            "aaxis": {
             "endlinecolor": "#A2B1C6",
             "gridcolor": "#506784",
             "linecolor": "#506784",
             "minorgridcolor": "#506784",
             "startlinecolor": "#A2B1C6"
            },
            "baxis": {
             "endlinecolor": "#A2B1C6",
             "gridcolor": "#506784",
             "linecolor": "#506784",
             "minorgridcolor": "#506784",
             "startlinecolor": "#A2B1C6"
            },
            "type": "carpet"
           }
          ],
          "choropleth": [
           {
            "colorbar": {
             "outlinewidth": 0,
             "ticks": ""
            },
            "type": "choropleth"
           }
          ],
          "contour": [
           {
            "colorbar": {
             "outlinewidth": 0,
             "ticks": ""
            },
            "colorscale": [
             [
              0,
              "#0d0887"
             ],
             [
              0.1111111111111111,
              "#46039f"
             ],
             [
              0.2222222222222222,
              "#7201a8"
             ],
             [
              0.3333333333333333,
              "#9c179e"
             ],
             [
              0.4444444444444444,
              "#bd3786"
             ],
             [
              0.5555555555555556,
              "#d8576b"
             ],
             [
              0.6666666666666666,
              "#ed7953"
             ],
             [
              0.7777777777777778,
              "#fb9f3a"
             ],
             [
              0.8888888888888888,
              "#fdca26"
             ],
             [
              1,
              "#f0f921"
             ]
            ],
            "type": "contour"
           }
          ],
          "contourcarpet": [
           {
            "colorbar": {
             "outlinewidth": 0,
             "ticks": ""
            },
            "type": "contourcarpet"
           }
          ],
          "heatmap": [
           {
            "colorbar": {
             "outlinewidth": 0,
             "ticks": ""
            },
            "colorscale": [
             [
              0,
              "#0d0887"
             ],
             [
              0.1111111111111111,
              "#46039f"
             ],
             [
              0.2222222222222222,
              "#7201a8"
             ],
             [
              0.3333333333333333,
              "#9c179e"
             ],
             [
              0.4444444444444444,
              "#bd3786"
             ],
             [
              0.5555555555555556,
              "#d8576b"
             ],
             [
              0.6666666666666666,
              "#ed7953"
             ],
             [
              0.7777777777777778,
              "#fb9f3a"
             ],
             [
              0.8888888888888888,
              "#fdca26"
             ],
             [
              1,
              "#f0f921"
             ]
            ],
            "type": "heatmap"
           }
          ],
          "heatmapgl": [
           {
            "colorbar": {
             "outlinewidth": 0,
             "ticks": ""
            },
            "colorscale": [
             [
              0,
              "#0d0887"
             ],
             [
              0.1111111111111111,
              "#46039f"
             ],
             [
              0.2222222222222222,
              "#7201a8"
             ],
             [
              0.3333333333333333,
              "#9c179e"
             ],
             [
              0.4444444444444444,
              "#bd3786"
             ],
             [
              0.5555555555555556,
              "#d8576b"
             ],
             [
              0.6666666666666666,
              "#ed7953"
             ],
             [
              0.7777777777777778,
              "#fb9f3a"
             ],
             [
              0.8888888888888888,
              "#fdca26"
             ],
             [
              1,
              "#f0f921"
             ]
            ],
            "type": "heatmapgl"
           }
          ],
          "histogram": [
           {
            "marker": {
             "pattern": {
              "fillmode": "overlay",
              "size": 10,
              "solidity": 0.2
             }
            },
            "type": "histogram"
           }
          ],
          "histogram2d": [
           {
            "colorbar": {
             "outlinewidth": 0,
             "ticks": ""
            },
            "colorscale": [
             [
              0,
              "#0d0887"
             ],
             [
              0.1111111111111111,
              "#46039f"
             ],
             [
              0.2222222222222222,
              "#7201a8"
             ],
             [
              0.3333333333333333,
              "#9c179e"
             ],
             [
              0.4444444444444444,
              "#bd3786"
             ],
             [
              0.5555555555555556,
              "#d8576b"
             ],
             [
              0.6666666666666666,
              "#ed7953"
             ],
             [
              0.7777777777777778,
              "#fb9f3a"
             ],
             [
              0.8888888888888888,
              "#fdca26"
             ],
             [
              1,
              "#f0f921"
             ]
            ],
            "type": "histogram2d"
           }
          ],
          "histogram2dcontour": [
           {
            "colorbar": {
             "outlinewidth": 0,
             "ticks": ""
            },
            "colorscale": [
             [
              0,
              "#0d0887"
             ],
             [
              0.1111111111111111,
              "#46039f"
             ],
             [
              0.2222222222222222,
              "#7201a8"
             ],
             [
              0.3333333333333333,
              "#9c179e"
             ],
             [
              0.4444444444444444,
              "#bd3786"
             ],
             [
              0.5555555555555556,
              "#d8576b"
             ],
             [
              0.6666666666666666,
              "#ed7953"
             ],
             [
              0.7777777777777778,
              "#fb9f3a"
             ],
             [
              0.8888888888888888,
              "#fdca26"
             ],
             [
              1,
              "#f0f921"
             ]
            ],
            "type": "histogram2dcontour"
           }
          ],
          "mesh3d": [
           {
            "colorbar": {
             "outlinewidth": 0,
             "ticks": ""
            },
            "type": "mesh3d"
           }
          ],
          "parcoords": [
           {
            "line": {
             "colorbar": {
              "outlinewidth": 0,
              "ticks": ""
             }
            },
            "type": "parcoords"
           }
          ],
          "pie": [
           {
            "automargin": true,
            "type": "pie"
           }
          ],
          "scatter": [
           {
            "marker": {
             "line": {
              "color": "#283442"
             }
            },
            "type": "scatter"
           }
          ],
          "scatter3d": [
           {
            "line": {
             "colorbar": {
              "outlinewidth": 0,
              "ticks": ""
             }
            },
            "marker": {
             "colorbar": {
              "outlinewidth": 0,
              "ticks": ""
             }
            },
            "type": "scatter3d"
           }
          ],
          "scattercarpet": [
           {
            "marker": {
             "colorbar": {
              "outlinewidth": 0,
              "ticks": ""
             }
            },
            "type": "scattercarpet"
           }
          ],
          "scattergeo": [
           {
            "marker": {
             "colorbar": {
              "outlinewidth": 0,
              "ticks": ""
             }
            },
            "type": "scattergeo"
           }
          ],
          "scattergl": [
           {
            "marker": {
             "line": {
              "color": "#283442"
             }
            },
            "type": "scattergl"
           }
          ],
          "scattermapbox": [
           {
            "marker": {
             "colorbar": {
              "outlinewidth": 0,
              "ticks": ""
             }
            },
            "type": "scattermapbox"
           }
          ],
          "scatterpolar": [
           {
            "marker": {
             "colorbar": {
              "outlinewidth": 0,
              "ticks": ""
             }
            },
            "type": "scatterpolar"
           }
          ],
          "scatterpolargl": [
           {
            "marker": {
             "colorbar": {
              "outlinewidth": 0,
              "ticks": ""
             }
            },
            "type": "scatterpolargl"
           }
          ],
          "scatterternary": [
           {
            "marker": {
             "colorbar": {
              "outlinewidth": 0,
              "ticks": ""
             }
            },
            "type": "scatterternary"
           }
          ],
          "surface": [
           {
            "colorbar": {
             "outlinewidth": 0,
             "ticks": ""
            },
            "colorscale": [
             [
              0,
              "#0d0887"
             ],
             [
              0.1111111111111111,
              "#46039f"
             ],
             [
              0.2222222222222222,
              "#7201a8"
             ],
             [
              0.3333333333333333,
              "#9c179e"
             ],
             [
              0.4444444444444444,
              "#bd3786"
             ],
             [
              0.5555555555555556,
              "#d8576b"
             ],
             [
              0.6666666666666666,
              "#ed7953"
             ],
             [
              0.7777777777777778,
              "#fb9f3a"
             ],
             [
              0.8888888888888888,
              "#fdca26"
             ],
             [
              1,
              "#f0f921"
             ]
            ],
            "type": "surface"
           }
          ],
          "table": [
           {
            "cells": {
             "fill": {
              "color": "#506784"
             },
             "line": {
              "color": "rgb(17,17,17)"
             }
            },
            "header": {
             "fill": {
              "color": "#2a3f5f"
             },
             "line": {
              "color": "rgb(17,17,17)"
             }
            },
            "type": "table"
           }
          ]
         },
         "layout": {
          "annotationdefaults": {
           "arrowcolor": "#f2f5fa",
           "arrowhead": 0,
           "arrowwidth": 1
          },
          "autotypenumbers": "strict",
          "coloraxis": {
           "colorbar": {
            "outlinewidth": 0,
            "ticks": ""
           }
          },
          "colorscale": {
           "diverging": [
            [
             0,
             "#8e0152"
            ],
            [
             0.1,
             "#c51b7d"
            ],
            [
             0.2,
             "#de77ae"
            ],
            [
             0.3,
             "#f1b6da"
            ],
            [
             0.4,
             "#fde0ef"
            ],
            [
             0.5,
             "#f7f7f7"
            ],
            [
             0.6,
             "#e6f5d0"
            ],
            [
             0.7,
             "#b8e186"
            ],
            [
             0.8,
             "#7fbc41"
            ],
            [
             0.9,
             "#4d9221"
            ],
            [
             1,
             "#276419"
            ]
           ],
           "sequential": [
            [
             0,
             "#0d0887"
            ],
            [
             0.1111111111111111,
             "#46039f"
            ],
            [
             0.2222222222222222,
             "#7201a8"
            ],
            [
             0.3333333333333333,
             "#9c179e"
            ],
            [
             0.4444444444444444,
             "#bd3786"
            ],
            [
             0.5555555555555556,
             "#d8576b"
            ],
            [
             0.6666666666666666,
             "#ed7953"
            ],
            [
             0.7777777777777778,
             "#fb9f3a"
            ],
            [
             0.8888888888888888,
             "#fdca26"
            ],
            [
             1,
             "#f0f921"
            ]
           ],
           "sequentialminus": [
            [
             0,
             "#0d0887"
            ],
            [
             0.1111111111111111,
             "#46039f"
            ],
            [
             0.2222222222222222,
             "#7201a8"
            ],
            [
             0.3333333333333333,
             "#9c179e"
            ],
            [
             0.4444444444444444,
             "#bd3786"
            ],
            [
             0.5555555555555556,
             "#d8576b"
            ],
            [
             0.6666666666666666,
             "#ed7953"
            ],
            [
             0.7777777777777778,
             "#fb9f3a"
            ],
            [
             0.8888888888888888,
             "#fdca26"
            ],
            [
             1,
             "#f0f921"
            ]
           ]
          },
          "colorway": [
           "#636efa",
           "#EF553B",
           "#00cc96",
           "#ab63fa",
           "#FFA15A",
           "#19d3f3",
           "#FF6692",
           "#B6E880",
           "#FF97FF",
           "#FECB52"
          ],
          "font": {
           "color": "#f2f5fa"
          },
          "geo": {
           "bgcolor": "rgb(17,17,17)",
           "lakecolor": "rgb(17,17,17)",
           "landcolor": "rgb(17,17,17)",
           "showlakes": true,
           "showland": true,
           "subunitcolor": "#506784"
          },
          "hoverlabel": {
           "align": "left"
          },
          "hovermode": "closest",
          "mapbox": {
           "style": "dark"
          },
          "paper_bgcolor": "rgb(17,17,17)",
          "plot_bgcolor": "rgb(17,17,17)",
          "polar": {
           "angularaxis": {
            "gridcolor": "#506784",
            "linecolor": "#506784",
            "ticks": ""
           },
           "bgcolor": "rgb(17,17,17)",
           "radialaxis": {
            "gridcolor": "#506784",
            "linecolor": "#506784",
            "ticks": ""
           }
          },
          "scene": {
           "xaxis": {
            "backgroundcolor": "rgb(17,17,17)",
            "gridcolor": "#506784",
            "gridwidth": 2,
            "linecolor": "#506784",
            "showbackground": true,
            "ticks": "",
            "zerolinecolor": "#C8D4E3"
           },
           "yaxis": {
            "backgroundcolor": "rgb(17,17,17)",
            "gridcolor": "#506784",
            "gridwidth": 2,
            "linecolor": "#506784",
            "showbackground": true,
            "ticks": "",
            "zerolinecolor": "#C8D4E3"
           },
           "zaxis": {
            "backgroundcolor": "rgb(17,17,17)",
            "gridcolor": "#506784",
            "gridwidth": 2,
            "linecolor": "#506784",
            "showbackground": true,
            "ticks": "",
            "zerolinecolor": "#C8D4E3"
           }
          },
          "shapedefaults": {
           "line": {
            "color": "#f2f5fa"
           }
          },
          "sliderdefaults": {
           "bgcolor": "#C8D4E3",
           "bordercolor": "rgb(17,17,17)",
           "borderwidth": 1,
           "tickwidth": 0
          },
          "ternary": {
           "aaxis": {
            "gridcolor": "#506784",
            "linecolor": "#506784",
            "ticks": ""
           },
           "baxis": {
            "gridcolor": "#506784",
            "linecolor": "#506784",
            "ticks": ""
           },
           "bgcolor": "rgb(17,17,17)",
           "caxis": {
            "gridcolor": "#506784",
            "linecolor": "#506784",
            "ticks": ""
           }
          },
          "title": {
           "x": 0.05
          },
          "updatemenudefaults": {
           "bgcolor": "#506784",
           "borderwidth": 0
          },
          "xaxis": {
           "automargin": true,
           "gridcolor": "#283442",
           "linecolor": "#506784",
           "ticks": "",
           "title": {
            "standoff": 15
           },
           "zerolinecolor": "#283442",
           "zerolinewidth": 2
          },
          "yaxis": {
           "automargin": true,
           "gridcolor": "#283442",
           "linecolor": "#506784",
           "ticks": "",
           "title": {
            "standoff": 15
           },
           "zerolinecolor": "#283442",
           "zerolinewidth": 2
          }
         }
        },
        "title": {
         "text": "Social Media interactions during war in Gaza"
        },
        "updatemenus": [
         {
          "buttons": [
           {
            "args": [
             {
              "visible": [
               true,
               false,
               false,
               false
              ]
             }
            ],
            "label": "Hero saleh",
            "method": "update"
           },
           {
            "args": [
             {
              "visible": [
               false,
               true,
               false,
               false
              ]
             }
            ],
            "label": "Hero moataz",
            "method": "update"
           },
           {
            "args": [
             {
              "visible": [
               false,
               false,
               true,
               false
              ]
             }
            ],
            "label": "Hero ahmed",
            "method": "update"
           },
           {
            "args": [
             {
              "visible": [
               false,
               false,
               false,
               true
              ]
             }
            ],
            "label": "Hero bysan",
            "method": "update"
           },
           {
            "args": [
             {
              "annotations": [
               {
                "arrowcolor": "black",
                "arrowhead": 1,
                "arrowwidth": 2,
                "font": {
                 "size": 8
                },
                "name": "Periodic ceasefire",
                "showarrow": true,
                "text": "Periodic ceasefire",
                "x": "2023-11-24T00:00:00",
                "xshift": 5,
                "y": 791637,
                "yshift": 5
               }
              ],
              "visible": [
               true,
               true,
               true,
               true
              ]
             }
            ],
            "label": "All Heroes",
            "method": "update"
           }
          ],
          "direction": "down",
          "pad": {
           "r": 10,
           "t": 10
          },
          "showactive": true,
          "x": 1.1,
          "xanchor": "right",
          "y": 1.15,
          "yanchor": "top"
         }
        ],
        "xaxis": {
         "showgrid": false,
         "tickangle": -35,
         "tickfont": {
          "family": "Arial",
          "size": 12
         },
         "tickformat": "%Y-%m-%d",
         "title": {
          "text": "Date"
         }
        },
        "yaxis": {
         "tickfont": {
          "family": "Arial",
          "size": 12
         },
         "title": {
          "text": "Total interaction (in thousands)"
         }
        }
       }
      }
     },
     "metadata": {},
     "output_type": "display_data"
    }
   ],
   "source": [
    "fig = go.Figure()\n",
    "traces = []\n",
    "annotations = []\n",
    "\n",
    "## add temporary truce to the figure\n",
    "crisis_periods = [(pd.to_datetime('2023-11-24'), \"Periodic ceasefire\")]\n",
    "for date, comment in crisis_periods:\n",
    "    for df in dfs:\n",
    "        if date in df['date'].values:\n",
    "            y_value = df.loc[df['date'] == date, 'sum'].values[0]\n",
    "            annotation = dict(x=date, y=y_value,\n",
    "                              text=comment, showarrow=True, arrowhead=1, arrowwidth=2, arrowcolor='black',\n",
    "                              xshift=5, yshift=5, font=dict(size=8), name=comment)\n",
    "            annotations.append(annotation)\n",
    "            break\n",
    "\n",
    "\n",
    "colors = ['#606c38', '#283618', '#fefae0', '#dda15e', '#bc6c25']\n",
    "\n",
    "for idx, df in enumerate(dfs):\n",
    "    trace = go.Scatter(x=df['date'], y=df['sum'], mode='lines', name=f'hero {hero_names[idx]}', visible=False, line=dict(color=colors[idx]))\n",
    "    traces.append(trace)\n",
    "    fig.add_trace(trace)\n",
    "\n",
    "fig.add_vrect(\n",
    "    x0=\"2023-11-24\", x1=\"2023-11-29\",\n",
    "    fillcolor=\"rgba(173, 216, 230, 0.3)\",  \n",
    "    layer=\"below\", line_width=0,\n",
    ")\n",
    "\n",
    "# Update layout\n",
    "fig.update_layout(\n",
    "    title='Social Media interactions during war in Gaza',\n",
    "    xaxis=dict(title='Date', showgrid=False, tickangle=-35, tickformat=\"%Y-%m-%d\", tickfont=dict(size=12, family='Arial')),\n",
    "    yaxis=dict(title='Total interaction (in thousands)', tickfont=dict(size=12, family='Arial')),  \n",
    "    font=dict(family='Arial', size=18, color='white'),  \n",
    "    #xaxis=dict(title='Date', showgrid=False, tickangle=-35, tickformat=\"%Y-%m-%d\"),  # Incline dates\n",
    "    #yaxis=dict(title='Total interaction (in thousands)'),\n",
    "    #font_family=\"Outfit\",\n",
    "    #font_size = 13,\n",
    "    template  = \"plotly_dark\",\n",
    "    plot_bgcolor='rgba(0, 0, 0, 0.7)',  \n",
    "    paper_bgcolor='rgba(0, 0, 0, 0.5)',  \n",
    "    #font=dict(color='white'), \n",
    "    #plot_bgcolor='rgb(253,241,230)',\n",
    "    updatemenus=[\n",
    "        dict(\n",
    "            buttons=[\n",
    "                dict(\n",
    "                    args=[{\"visible\": [True if i == idx else False for i in range(len(traces))]}],\n",
    "                         # {\"annotations\": [a if i == idx else {} for i, a in enumerate(annotations)]}],\n",
    "                    label=f'Hero {hero_names[idx]}',\n",
    "                    method=\"update\"\n",
    "                ) for idx in range(len(traces))  # Add options for each individual stock\n",
    "            ] + [\n",
    "                dict(\n",
    "                    args=[{\"visible\": [True] * len(traces),\n",
    "                           \"annotations\": annotations}],\n",
    "                    label=\"All Heroes\",\n",
    "                    method=\"update\"\n",
    "                )\n",
    "            ],\n",
    "            direction=\"down\",\n",
    "            pad={\"r\": 10, \"t\": 10},\n",
    "            showactive=True,\n",
    "            x=1.1,  # Move buttons to the right\n",
    "            xanchor=\"right\",\n",
    "            y=1.15,\n",
    "            yanchor=\"top\"\n",
    "        ),\n",
    "    ]\n",
    ")\n",
    "\n",
    "\n",
    "fig.show()"
   ]
  },
  {
   "cell_type": "markdown",
   "metadata": {},
   "source": [
    "#### A line plot for the percentage of video watching per click "
   ]
  },
  {
   "cell_type": "code",
   "execution_count": 30,
   "metadata": {},
   "outputs": [
    {
     "data": {
      "application/vnd.plotly.v1+json": {
       "config": {
        "plotlyServerURL": "https://plot.ly"
       },
       "data": [
        {
         "line": {
          "color": "#00BFFF"
         },
         "mode": "lines",
         "name": "hero saleh",
         "type": "scatter",
         "visible": false,
         "x": [
          "2023-10-07T00:00:00",
          "2023-10-08T00:00:00",
          "2023-10-09T00:00:00",
          "2023-10-10T00:00:00",
          "2023-10-11T00:00:00",
          "2023-10-12T00:00:00",
          "2023-10-13T00:00:00",
          "2023-10-14T00:00:00",
          "2023-10-15T00:00:00",
          "2023-10-16T00:00:00",
          "2023-10-17T00:00:00",
          "2023-10-18T00:00:00",
          "2023-10-19T00:00:00",
          "2023-10-20T00:00:00",
          "2023-10-22T00:00:00",
          "2023-10-23T00:00:00",
          "2023-10-24T00:00:00",
          "2023-10-25T00:00:00",
          "2023-10-29T00:00:00",
          "2023-11-01T00:00:00",
          "2023-11-02T00:00:00",
          "2023-11-03T00:00:00",
          "2023-11-07T00:00:00",
          "2023-11-08T00:00:00",
          "2023-11-09T00:00:00",
          "2023-11-10T00:00:00",
          "2023-11-13T00:00:00",
          "2023-11-14T00:00:00",
          "2023-11-15T00:00:00",
          "2023-11-16T00:00:00",
          "2023-11-20T00:00:00",
          "2023-11-21T00:00:00",
          "2023-11-22T00:00:00",
          "2023-12-01T00:00:00",
          "2023-12-02T00:00:00",
          "2023-12-03T00:00:00",
          "2023-12-04T00:00:00",
          "2023-12-05T00:00:00",
          "2023-12-06T00:00:00",
          "2023-12-07T00:00:00",
          "2023-12-08T00:00:00",
          "2023-12-09T00:00:00",
          "2023-12-10T00:00:00",
          "2023-12-11T00:00:00",
          "2023-12-12T00:00:00",
          "2023-12-15T00:00:00",
          "2023-12-16T00:00:00",
          "2023-12-17T00:00:00",
          "2023-12-18T00:00:00",
          "2023-12-21T00:00:00",
          "2023-12-23T00:00:00",
          "2023-12-24T00:00:00"
         ],
         "y": [
          252622,
          114522,
          77654,
          454335,
          498415,
          534768,
          1113312,
          594512,
          366148,
          275064,
          872729,
          1317528,
          219612,
          635328,
          866904,
          325116,
          250702,
          845546,
          1619674,
          399070,
          271170,
          1518119,
          379952,
          1170222,
          819965,
          1773052,
          1127714,
          416388,
          873544,
          497091,
          609705,
          661570,
          1971975,
          951348,
          476830,
          1530792,
          889671,
          1004431,
          292444,
          763455,
          596663,
          1481063,
          969139,
          387772,
          581979,
          642578,
          1269195,
          1103543,
          1462241,
          246745,
          381007,
          118879
         ]
        },
        {
         "line": {
          "color": "#9B30FF"
         },
         "mode": "lines",
         "name": "hero moataz",
         "type": "scatter",
         "visible": false,
         "x": [
          "2023-10-07T00:00:00",
          "2023-10-08T00:00:00",
          "2023-10-09T00:00:00",
          "2023-10-10T00:00:00",
          "2023-10-11T00:00:00",
          "2023-10-12T00:00:00",
          "2023-10-13T00:00:00",
          "2023-10-14T00:00:00",
          "2023-10-15T00:00:00",
          "2023-10-16T00:00:00",
          "2023-10-17T00:00:00",
          "2023-10-18T00:00:00",
          "2023-10-19T00:00:00",
          "2023-10-20T00:00:00",
          "2023-10-22T00:00:00",
          "2023-10-23T00:00:00",
          "2023-10-25T00:00:00",
          "2023-10-26T00:00:00",
          "2023-10-27T00:00:00",
          "2023-10-29T00:00:00",
          "2023-10-30T00:00:00",
          "2023-10-31T00:00:00",
          "2023-11-02T00:00:00",
          "2023-11-06T00:00:00",
          "2023-11-07T00:00:00",
          "2023-11-08T00:00:00",
          "2023-11-10T00:00:00",
          "2023-11-11T00:00:00",
          "2023-11-12T00:00:00",
          "2023-11-14T00:00:00",
          "2023-11-15T00:00:00",
          "2023-11-18T00:00:00",
          "2023-11-19T00:00:00",
          "2023-11-20T00:00:00",
          "2023-11-21T00:00:00",
          "2023-11-23T00:00:00",
          "2023-11-27T00:00:00",
          "2023-11-29T00:00:00",
          "2023-11-30T00:00:00",
          "2023-12-03T00:00:00",
          "2023-12-04T00:00:00",
          "2023-12-05T00:00:00",
          "2023-12-06T00:00:00",
          "2023-12-09T00:00:00",
          "2023-12-17T00:00:00",
          "2023-12-19T00:00:00",
          "2023-12-20T00:00:00",
          "2023-12-22T00:00:00",
          "2023-12-24T00:00:00"
         ],
         "y": [
          693221,
          628025,
          974523,
          4197257,
          1672582,
          1221865,
          1943442,
          3149493,
          3174454,
          570163,
          717787,
          1272269,
          2165190,
          2430563,
          5292516,
          5153579,
          4235900,
          2737862,
          6340072,
          4307998,
          2497947,
          1141278,
          923413,
          5025632,
          3904646,
          2929657,
          3865222,
          3567676,
          1320328,
          1336381,
          949867,
          5044644,
          1773985,
          641117,
          698068,
          1571806,
          1120846,
          1175069,
          2028086,
          1164743,
          1764785,
          3557265,
          1557695,
          6242428,
          3295096,
          1907928,
          3600745,
          1056496,
          692688
         ]
        },
        {
         "line": {
          "color": "#00FF00"
         },
         "mode": "lines",
         "name": "hero ahmed",
         "type": "scatter",
         "visible": false,
         "x": [
          "2023-10-07T00:00:00",
          "2023-10-08T00:00:00",
          "2023-10-10T00:00:00",
          "2023-10-11T00:00:00",
          "2023-10-12T00:00:00",
          "2023-10-13T00:00:00",
          "2023-10-14T00:00:00",
          "2023-10-15T00:00:00",
          "2023-10-16T00:00:00",
          "2023-10-17T00:00:00",
          "2023-10-18T00:00:00",
          "2023-10-20T00:00:00",
          "2023-10-22T00:00:00",
          "2023-10-23T00:00:00",
          "2023-10-24T00:00:00",
          "2023-10-25T00:00:00",
          "2023-10-26T00:00:00",
          "2023-10-27T00:00:00",
          "2023-10-28T00:00:00",
          "2023-10-30T00:00:00",
          "2023-11-01T00:00:00",
          "2023-11-02T00:00:00",
          "2023-11-03T00:00:00",
          "2023-11-06T00:00:00",
          "2023-11-07T00:00:00",
          "2023-11-09T00:00:00",
          "2023-11-10T00:00:00",
          "2023-11-15T00:00:00",
          "2023-11-16T00:00:00",
          "2023-11-17T00:00:00",
          "2023-11-18T00:00:00",
          "2023-11-19T00:00:00",
          "2023-11-20T00:00:00",
          "2023-11-22T00:00:00",
          "2023-11-24T00:00:00",
          "2023-11-30T00:00:00",
          "2023-12-01T00:00:00",
          "2023-12-02T00:00:00",
          "2023-12-03T00:00:00",
          "2023-12-04T00:00:00",
          "2023-12-12T00:00:00",
          "2023-12-13T00:00:00",
          "2023-12-15T00:00:00",
          "2023-12-20T00:00:00",
          "2023-12-21T00:00:00",
          "2023-12-22T00:00:00",
          "2023-12-23T00:00:00"
         ],
         "y": [
          181085,
          62501,
          641100,
          632829,
          797392,
          771919,
          135660,
          224828,
          819527,
          1697865,
          1406639,
          345181,
          249586,
          137364,
          84447,
          414687,
          574231,
          284739,
          865950,
          172567,
          238325,
          431276,
          518324,
          75606,
          206622,
          566762,
          1125110,
          824585,
          223311,
          193032,
          365313,
          176933,
          275382,
          212121,
          791637,
          82665,
          153862,
          409513,
          1109593,
          418856,
          633882,
          612183,
          176120,
          74542,
          137670,
          141387,
          25979
         ]
        },
        {
         "line": {
          "color": "#006400"
         },
         "mode": "lines",
         "name": "hero bysan",
         "type": "scatter",
         "visible": false,
         "x": [
          "2023-10-07T00:00:00",
          "2023-10-08T00:00:00",
          "2023-10-09T00:00:00",
          "2023-10-10T00:00:00",
          "2023-10-11T00:00:00",
          "2023-10-12T00:00:00",
          "2023-10-13T00:00:00",
          "2023-10-14T00:00:00",
          "2023-10-15T00:00:00",
          "2023-10-16T00:00:00",
          "2023-10-17T00:00:00",
          "2023-10-18T00:00:00",
          "2023-10-19T00:00:00",
          "2023-10-20T00:00:00",
          "2023-10-21T00:00:00",
          "2023-10-23T00:00:00",
          "2023-10-24T00:00:00",
          "2023-10-25T00:00:00",
          "2023-10-26T00:00:00",
          "2023-10-27T00:00:00",
          "2023-10-29T00:00:00",
          "2023-10-30T00:00:00",
          "2023-10-31T00:00:00",
          "2023-11-01T00:00:00",
          "2023-11-02T00:00:00",
          "2023-11-03T00:00:00",
          "2023-11-04T00:00:00",
          "2023-11-05T00:00:00",
          "2023-11-06T00:00:00",
          "2023-11-07T00:00:00",
          "2023-11-08T00:00:00",
          "2023-11-09T00:00:00",
          "2023-11-10T00:00:00",
          "2023-11-11T00:00:00",
          "2023-11-12T00:00:00",
          "2023-11-13T00:00:00",
          "2023-11-14T00:00:00",
          "2023-11-15T00:00:00",
          "2023-11-16T00:00:00",
          "2023-11-17T00:00:00",
          "2023-11-18T00:00:00",
          "2023-11-19T00:00:00",
          "2023-11-20T00:00:00",
          "2023-11-21T00:00:00",
          "2023-11-22T00:00:00",
          "2023-11-23T00:00:00",
          "2023-11-24T00:00:00",
          "2023-11-25T00:00:00",
          "2023-11-26T00:00:00",
          "2023-11-27T00:00:00",
          "2023-11-28T00:00:00",
          "2023-11-29T00:00:00",
          "2023-11-30T00:00:00",
          "2023-12-01T00:00:00",
          "2023-12-02T00:00:00",
          "2023-12-03T00:00:00",
          "2023-12-04T00:00:00",
          "2023-12-05T00:00:00",
          "2023-12-06T00:00:00",
          "2023-12-07T00:00:00",
          "2023-12-08T00:00:00",
          "2023-12-09T00:00:00",
          "2023-12-10T00:00:00",
          "2023-12-11T00:00:00",
          "2023-12-13T00:00:00",
          "2023-12-14T00:00:00",
          "2023-12-15T00:00:00",
          "2023-12-16T00:00:00",
          "2023-12-17T00:00:00",
          "2023-12-18T00:00:00",
          "2023-12-19T00:00:00",
          "2023-12-20T00:00:00",
          "2023-12-21T00:00:00",
          "2023-12-22T00:00:00",
          "2023-12-23T00:00:00",
          "2023-12-24T00:00:00"
         ],
         "y": [
          12535,
          57677,
          22076,
          266712,
          58091,
          1263000,
          558098,
          496793,
          429506,
          346389,
          290944,
          591279,
          194649,
          1073469,
          461020,
          688760,
          472456,
          881966,
          500622,
          412470,
          549476,
          435491,
          850479,
          195737,
          971934,
          1468696,
          376291,
          1776933,
          518137,
          434901,
          1253384,
          133047,
          1065260,
          1141003,
          1148989,
          1020259,
          1289605,
          461252,
          1325823,
          986768,
          614432,
          1865944,
          410761,
          315718,
          729795,
          379437,
          735465,
          760226,
          775061,
          388302,
          155819,
          587866,
          326516,
          1055300,
          3295314,
          2418937,
          1149464,
          547819,
          390380,
          622297,
          2043867,
          636354,
          2784839,
          1368927,
          1296351,
          563369,
          1643592,
          1411400,
          474436,
          515066,
          837622,
          1155697,
          624015,
          397819,
          546583,
          50162
         ]
        }
       ],
       "layout": {
        "font": {
         "family": "Outfit",
         "size": 13
        },
        "shapes": [
         {
          "fillcolor": "rgba(173, 216, 230, 0.3)",
          "layer": "below",
          "line": {
           "width": 0
          },
          "type": "rect",
          "x0": "2023-11-24",
          "x1": "2023-11-29",
          "xref": "x",
          "y0": 0,
          "y1": 1,
          "yref": "y domain"
         }
        ],
        "template": {
         "data": {
          "bar": [
           {
            "error_x": {
             "color": "#f2f5fa"
            },
            "error_y": {
             "color": "#f2f5fa"
            },
            "marker": {
             "line": {
              "color": "rgb(17,17,17)",
              "width": 0.5
             },
             "pattern": {
              "fillmode": "overlay",
              "size": 10,
              "solidity": 0.2
             }
            },
            "type": "bar"
           }
          ],
          "barpolar": [
           {
            "marker": {
             "line": {
              "color": "rgb(17,17,17)",
              "width": 0.5
             },
             "pattern": {
              "fillmode": "overlay",
              "size": 10,
              "solidity": 0.2
             }
            },
            "type": "barpolar"
           }
          ],
          "carpet": [
           {
            "aaxis": {
             "endlinecolor": "#A2B1C6",
             "gridcolor": "#506784",
             "linecolor": "#506784",
             "minorgridcolor": "#506784",
             "startlinecolor": "#A2B1C6"
            },
            "baxis": {
             "endlinecolor": "#A2B1C6",
             "gridcolor": "#506784",
             "linecolor": "#506784",
             "minorgridcolor": "#506784",
             "startlinecolor": "#A2B1C6"
            },
            "type": "carpet"
           }
          ],
          "choropleth": [
           {
            "colorbar": {
             "outlinewidth": 0,
             "ticks": ""
            },
            "type": "choropleth"
           }
          ],
          "contour": [
           {
            "colorbar": {
             "outlinewidth": 0,
             "ticks": ""
            },
            "colorscale": [
             [
              0,
              "#0d0887"
             ],
             [
              0.1111111111111111,
              "#46039f"
             ],
             [
              0.2222222222222222,
              "#7201a8"
             ],
             [
              0.3333333333333333,
              "#9c179e"
             ],
             [
              0.4444444444444444,
              "#bd3786"
             ],
             [
              0.5555555555555556,
              "#d8576b"
             ],
             [
              0.6666666666666666,
              "#ed7953"
             ],
             [
              0.7777777777777778,
              "#fb9f3a"
             ],
             [
              0.8888888888888888,
              "#fdca26"
             ],
             [
              1,
              "#f0f921"
             ]
            ],
            "type": "contour"
           }
          ],
          "contourcarpet": [
           {
            "colorbar": {
             "outlinewidth": 0,
             "ticks": ""
            },
            "type": "contourcarpet"
           }
          ],
          "heatmap": [
           {
            "colorbar": {
             "outlinewidth": 0,
             "ticks": ""
            },
            "colorscale": [
             [
              0,
              "#0d0887"
             ],
             [
              0.1111111111111111,
              "#46039f"
             ],
             [
              0.2222222222222222,
              "#7201a8"
             ],
             [
              0.3333333333333333,
              "#9c179e"
             ],
             [
              0.4444444444444444,
              "#bd3786"
             ],
             [
              0.5555555555555556,
              "#d8576b"
             ],
             [
              0.6666666666666666,
              "#ed7953"
             ],
             [
              0.7777777777777778,
              "#fb9f3a"
             ],
             [
              0.8888888888888888,
              "#fdca26"
             ],
             [
              1,
              "#f0f921"
             ]
            ],
            "type": "heatmap"
           }
          ],
          "heatmapgl": [
           {
            "colorbar": {
             "outlinewidth": 0,
             "ticks": ""
            },
            "colorscale": [
             [
              0,
              "#0d0887"
             ],
             [
              0.1111111111111111,
              "#46039f"
             ],
             [
              0.2222222222222222,
              "#7201a8"
             ],
             [
              0.3333333333333333,
              "#9c179e"
             ],
             [
              0.4444444444444444,
              "#bd3786"
             ],
             [
              0.5555555555555556,
              "#d8576b"
             ],
             [
              0.6666666666666666,
              "#ed7953"
             ],
             [
              0.7777777777777778,
              "#fb9f3a"
             ],
             [
              0.8888888888888888,
              "#fdca26"
             ],
             [
              1,
              "#f0f921"
             ]
            ],
            "type": "heatmapgl"
           }
          ],
          "histogram": [
           {
            "marker": {
             "pattern": {
              "fillmode": "overlay",
              "size": 10,
              "solidity": 0.2
             }
            },
            "type": "histogram"
           }
          ],
          "histogram2d": [
           {
            "colorbar": {
             "outlinewidth": 0,
             "ticks": ""
            },
            "colorscale": [
             [
              0,
              "#0d0887"
             ],
             [
              0.1111111111111111,
              "#46039f"
             ],
             [
              0.2222222222222222,
              "#7201a8"
             ],
             [
              0.3333333333333333,
              "#9c179e"
             ],
             [
              0.4444444444444444,
              "#bd3786"
             ],
             [
              0.5555555555555556,
              "#d8576b"
             ],
             [
              0.6666666666666666,
              "#ed7953"
             ],
             [
              0.7777777777777778,
              "#fb9f3a"
             ],
             [
              0.8888888888888888,
              "#fdca26"
             ],
             [
              1,
              "#f0f921"
             ]
            ],
            "type": "histogram2d"
           }
          ],
          "histogram2dcontour": [
           {
            "colorbar": {
             "outlinewidth": 0,
             "ticks": ""
            },
            "colorscale": [
             [
              0,
              "#0d0887"
             ],
             [
              0.1111111111111111,
              "#46039f"
             ],
             [
              0.2222222222222222,
              "#7201a8"
             ],
             [
              0.3333333333333333,
              "#9c179e"
             ],
             [
              0.4444444444444444,
              "#bd3786"
             ],
             [
              0.5555555555555556,
              "#d8576b"
             ],
             [
              0.6666666666666666,
              "#ed7953"
             ],
             [
              0.7777777777777778,
              "#fb9f3a"
             ],
             [
              0.8888888888888888,
              "#fdca26"
             ],
             [
              1,
              "#f0f921"
             ]
            ],
            "type": "histogram2dcontour"
           }
          ],
          "mesh3d": [
           {
            "colorbar": {
             "outlinewidth": 0,
             "ticks": ""
            },
            "type": "mesh3d"
           }
          ],
          "parcoords": [
           {
            "line": {
             "colorbar": {
              "outlinewidth": 0,
              "ticks": ""
             }
            },
            "type": "parcoords"
           }
          ],
          "pie": [
           {
            "automargin": true,
            "type": "pie"
           }
          ],
          "scatter": [
           {
            "marker": {
             "line": {
              "color": "#283442"
             }
            },
            "type": "scatter"
           }
          ],
          "scatter3d": [
           {
            "line": {
             "colorbar": {
              "outlinewidth": 0,
              "ticks": ""
             }
            },
            "marker": {
             "colorbar": {
              "outlinewidth": 0,
              "ticks": ""
             }
            },
            "type": "scatter3d"
           }
          ],
          "scattercarpet": [
           {
            "marker": {
             "colorbar": {
              "outlinewidth": 0,
              "ticks": ""
             }
            },
            "type": "scattercarpet"
           }
          ],
          "scattergeo": [
           {
            "marker": {
             "colorbar": {
              "outlinewidth": 0,
              "ticks": ""
             }
            },
            "type": "scattergeo"
           }
          ],
          "scattergl": [
           {
            "marker": {
             "line": {
              "color": "#283442"
             }
            },
            "type": "scattergl"
           }
          ],
          "scattermapbox": [
           {
            "marker": {
             "colorbar": {
              "outlinewidth": 0,
              "ticks": ""
             }
            },
            "type": "scattermapbox"
           }
          ],
          "scatterpolar": [
           {
            "marker": {
             "colorbar": {
              "outlinewidth": 0,
              "ticks": ""
             }
            },
            "type": "scatterpolar"
           }
          ],
          "scatterpolargl": [
           {
            "marker": {
             "colorbar": {
              "outlinewidth": 0,
              "ticks": ""
             }
            },
            "type": "scatterpolargl"
           }
          ],
          "scatterternary": [
           {
            "marker": {
             "colorbar": {
              "outlinewidth": 0,
              "ticks": ""
             }
            },
            "type": "scatterternary"
           }
          ],
          "surface": [
           {
            "colorbar": {
             "outlinewidth": 0,
             "ticks": ""
            },
            "colorscale": [
             [
              0,
              "#0d0887"
             ],
             [
              0.1111111111111111,
              "#46039f"
             ],
             [
              0.2222222222222222,
              "#7201a8"
             ],
             [
              0.3333333333333333,
              "#9c179e"
             ],
             [
              0.4444444444444444,
              "#bd3786"
             ],
             [
              0.5555555555555556,
              "#d8576b"
             ],
             [
              0.6666666666666666,
              "#ed7953"
             ],
             [
              0.7777777777777778,
              "#fb9f3a"
             ],
             [
              0.8888888888888888,
              "#fdca26"
             ],
             [
              1,
              "#f0f921"
             ]
            ],
            "type": "surface"
           }
          ],
          "table": [
           {
            "cells": {
             "fill": {
              "color": "#506784"
             },
             "line": {
              "color": "rgb(17,17,17)"
             }
            },
            "header": {
             "fill": {
              "color": "#2a3f5f"
             },
             "line": {
              "color": "rgb(17,17,17)"
             }
            },
            "type": "table"
           }
          ]
         },
         "layout": {
          "annotationdefaults": {
           "arrowcolor": "#f2f5fa",
           "arrowhead": 0,
           "arrowwidth": 1
          },
          "autotypenumbers": "strict",
          "coloraxis": {
           "colorbar": {
            "outlinewidth": 0,
            "ticks": ""
           }
          },
          "colorscale": {
           "diverging": [
            [
             0,
             "#8e0152"
            ],
            [
             0.1,
             "#c51b7d"
            ],
            [
             0.2,
             "#de77ae"
            ],
            [
             0.3,
             "#f1b6da"
            ],
            [
             0.4,
             "#fde0ef"
            ],
            [
             0.5,
             "#f7f7f7"
            ],
            [
             0.6,
             "#e6f5d0"
            ],
            [
             0.7,
             "#b8e186"
            ],
            [
             0.8,
             "#7fbc41"
            ],
            [
             0.9,
             "#4d9221"
            ],
            [
             1,
             "#276419"
            ]
           ],
           "sequential": [
            [
             0,
             "#0d0887"
            ],
            [
             0.1111111111111111,
             "#46039f"
            ],
            [
             0.2222222222222222,
             "#7201a8"
            ],
            [
             0.3333333333333333,
             "#9c179e"
            ],
            [
             0.4444444444444444,
             "#bd3786"
            ],
            [
             0.5555555555555556,
             "#d8576b"
            ],
            [
             0.6666666666666666,
             "#ed7953"
            ],
            [
             0.7777777777777778,
             "#fb9f3a"
            ],
            [
             0.8888888888888888,
             "#fdca26"
            ],
            [
             1,
             "#f0f921"
            ]
           ],
           "sequentialminus": [
            [
             0,
             "#0d0887"
            ],
            [
             0.1111111111111111,
             "#46039f"
            ],
            [
             0.2222222222222222,
             "#7201a8"
            ],
            [
             0.3333333333333333,
             "#9c179e"
            ],
            [
             0.4444444444444444,
             "#bd3786"
            ],
            [
             0.5555555555555556,
             "#d8576b"
            ],
            [
             0.6666666666666666,
             "#ed7953"
            ],
            [
             0.7777777777777778,
             "#fb9f3a"
            ],
            [
             0.8888888888888888,
             "#fdca26"
            ],
            [
             1,
             "#f0f921"
            ]
           ]
          },
          "colorway": [
           "#636efa",
           "#EF553B",
           "#00cc96",
           "#ab63fa",
           "#FFA15A",
           "#19d3f3",
           "#FF6692",
           "#B6E880",
           "#FF97FF",
           "#FECB52"
          ],
          "font": {
           "color": "#f2f5fa"
          },
          "geo": {
           "bgcolor": "rgb(17,17,17)",
           "lakecolor": "rgb(17,17,17)",
           "landcolor": "rgb(17,17,17)",
           "showlakes": true,
           "showland": true,
           "subunitcolor": "#506784"
          },
          "hoverlabel": {
           "align": "left"
          },
          "hovermode": "closest",
          "mapbox": {
           "style": "dark"
          },
          "paper_bgcolor": "rgb(17,17,17)",
          "plot_bgcolor": "rgb(17,17,17)",
          "polar": {
           "angularaxis": {
            "gridcolor": "#506784",
            "linecolor": "#506784",
            "ticks": ""
           },
           "bgcolor": "rgb(17,17,17)",
           "radialaxis": {
            "gridcolor": "#506784",
            "linecolor": "#506784",
            "ticks": ""
           }
          },
          "scene": {
           "xaxis": {
            "backgroundcolor": "rgb(17,17,17)",
            "gridcolor": "#506784",
            "gridwidth": 2,
            "linecolor": "#506784",
            "showbackground": true,
            "ticks": "",
            "zerolinecolor": "#C8D4E3"
           },
           "yaxis": {
            "backgroundcolor": "rgb(17,17,17)",
            "gridcolor": "#506784",
            "gridwidth": 2,
            "linecolor": "#506784",
            "showbackground": true,
            "ticks": "",
            "zerolinecolor": "#C8D4E3"
           },
           "zaxis": {
            "backgroundcolor": "rgb(17,17,17)",
            "gridcolor": "#506784",
            "gridwidth": 2,
            "linecolor": "#506784",
            "showbackground": true,
            "ticks": "",
            "zerolinecolor": "#C8D4E3"
           }
          },
          "shapedefaults": {
           "line": {
            "color": "#f2f5fa"
           }
          },
          "sliderdefaults": {
           "bgcolor": "#C8D4E3",
           "bordercolor": "rgb(17,17,17)",
           "borderwidth": 1,
           "tickwidth": 0
          },
          "ternary": {
           "aaxis": {
            "gridcolor": "#506784",
            "linecolor": "#506784",
            "ticks": ""
           },
           "baxis": {
            "gridcolor": "#506784",
            "linecolor": "#506784",
            "ticks": ""
           },
           "bgcolor": "rgb(17,17,17)",
           "caxis": {
            "gridcolor": "#506784",
            "linecolor": "#506784",
            "ticks": ""
           }
          },
          "title": {
           "x": 0.05
          },
          "updatemenudefaults": {
           "bgcolor": "#506784",
           "borderwidth": 0
          },
          "xaxis": {
           "automargin": true,
           "gridcolor": "#283442",
           "linecolor": "#506784",
           "ticks": "",
           "title": {
            "standoff": 15
           },
           "zerolinecolor": "#283442",
           "zerolinewidth": 2
          },
          "yaxis": {
           "automargin": true,
           "gridcolor": "#283442",
           "linecolor": "#506784",
           "ticks": "",
           "title": {
            "standoff": 15
           },
           "zerolinecolor": "#283442",
           "zerolinewidth": 2
          }
         }
        },
        "title": {
         "text": "Social Media interactions during war in Gaza"
        },
        "updatemenus": [
         {
          "buttons": [
           {
            "args": [
             {
              "annotations": [
               {
                "arrowcolor": "black",
                "arrowhead": 1,
                "arrowwidth": 2,
                "font": {
                 "size": 8
                },
                "name": "Periodic ceasefire",
                "showarrow": true,
                "text": "Periodic ceasefire",
                "x": "2023-11-24T00:00:00",
                "xshift": 5,
                "y": 791637,
                "yshift": 5
               }
              ],
              "visible": [
               true,
               true,
               true,
               true
              ]
             }
            ],
            "label": "All Heroes",
            "method": "update"
           }
          ],
          "direction": "down",
          "pad": {
           "r": 10,
           "t": 10
          },
          "showactive": true,
          "x": 1.1,
          "xanchor": "right",
          "y": 1.15,
          "yanchor": "top"
         }
        ],
        "xaxis": {
         "showgrid": false,
         "tickangle": -35,
         "tickformat": "%Y-%m-%d",
         "title": {
          "text": "Date"
         }
        },
        "yaxis": {
         "title": {
          "text": "Total interaction (in thousands)"
         }
        }
       }
      }
     },
     "metadata": {},
     "output_type": "display_data"
    }
   ],
   "source": [
    "fig = go.Figure()\n",
    "traces = []\n",
    "annotations = []\n",
    "\n",
    "## add temporary truce to the figure\n",
    "crisis_periods = [(pd.to_datetime('2023-11-24'), \"Periodic ceasefire\")]\n",
    "for date, comment in crisis_periods:\n",
    "    for df in dfs:\n",
    "        if date in df['date'].values:\n",
    "            y_value = df.loc[df['date'] == date, 'sum'].values[0]\n",
    "            annotation = dict(x=date, y=y_value,\n",
    "                              text=comment, showarrow=True, arrowhead=1, arrowwidth=2, arrowcolor='black',\n",
    "                              xshift=5, yshift=5, font=dict(size=8), name=comment)\n",
    "            annotations.append(annotation)\n",
    "            break  # Add annotation once for each crisis date\n",
    "\n",
    "# Plot lines and store them with annotations\n",
    "colors = ['#00BFFF', '#9B30FF', '#00FF00', '#006400']\n",
    "for idx, df in enumerate(dfs):\n",
    "    trace = go.Scatter(x=df['date'], y=df['sum'], mode='lines', name=f'hero {hero_names[idx]}', visible=False, line=dict(color=colors[idx]))\n",
    "    traces.append(trace)\n",
    "    fig.add_trace(trace)\n",
    "\n",
    "fig.add_vrect(\n",
    "    x0=\"2023-11-24\", x1=\"2023-11-29\",\n",
    "    fillcolor=\"rgba(173, 216, 230, 0.3)\",  \n",
    "    layer=\"below\", line_width=0,\n",
    ")\n",
    "\n",
    "# Update layout and other configurations\n",
    "fig.update_layout(\n",
    "    title='Social Media interactions during war in Gaza',\n",
    "    xaxis=dict(title='Date', showgrid=False, tickangle=-35, tickformat=\"%Y-%m-%d\"),\n",
    "    yaxis=dict(title='Total interaction (in thousands)'),\n",
    "    font_family=\"Outfit\",\n",
    "    font_size=13,\n",
    "    template=\"plotly_dark\",\n",
    "    updatemenus=[\n",
    "        dict(\n",
    "            buttons=[\n",
    "                # Keep the visibility True for \"All Heroes\"\n",
    "                dict(\n",
    "                    args=[{\"visible\": [True] * len(traces),\n",
    "                           \"annotations\": annotations}],\n",
    "                    label=\"All Heroes\",\n",
    "                    method=\"update\"\n",
    "                )\n",
    "            ],\n",
    "            direction=\"down\",\n",
    "            pad={\"r\": 10, \"t\": 10},\n",
    "            showactive=True,\n",
    "            x=1.1,\n",
    "            xanchor=\"right\",\n",
    "            y=1.15,\n",
    "            yanchor=\"top\"\n",
    "        ),\n",
    "    ]\n",
    ")\n",
    "\n",
    "fig.show()\n"
   ]
  },
  {
   "cell_type": "code",
   "execution_count": 31,
   "metadata": {},
   "outputs": [],
   "source": [
    "pio.write_image(fig, 'plot.jpg', format='jpeg')"
   ]
  },
  {
   "cell_type": "code",
   "execution_count": 60,
   "metadata": {},
   "outputs": [
    {
     "data": {
      "application/vnd.plotly.v1+json": {
       "config": {
        "plotlyServerURL": "https://plot.ly"
       },
       "data": [
        {
         "line": {
          "color": "#606c38"
         },
         "mode": "lines",
         "name": "hero saleh",
         "type": "scatter",
         "visible": false,
         "x": [
          "2023-10-07T00:00:00",
          "2023-10-08T00:00:00",
          "2023-10-09T00:00:00",
          "2023-10-10T00:00:00",
          "2023-10-11T00:00:00",
          "2023-10-12T00:00:00",
          "2023-10-13T00:00:00",
          "2023-10-14T00:00:00",
          "2023-10-15T00:00:00",
          "2023-10-16T00:00:00",
          "2023-10-17T00:00:00",
          "2023-10-18T00:00:00",
          "2023-10-19T00:00:00",
          "2023-10-20T00:00:00",
          "2023-10-22T00:00:00",
          "2023-10-23T00:00:00",
          "2023-10-24T00:00:00",
          "2023-10-25T00:00:00",
          "2023-10-29T00:00:00",
          "2023-11-01T00:00:00",
          "2023-11-02T00:00:00",
          "2023-11-03T00:00:00",
          "2023-11-07T00:00:00",
          "2023-11-08T00:00:00",
          "2023-11-09T00:00:00",
          "2023-11-10T00:00:00",
          "2023-11-13T00:00:00",
          "2023-11-14T00:00:00",
          "2023-11-15T00:00:00",
          "2023-11-16T00:00:00",
          "2023-11-20T00:00:00",
          "2023-11-21T00:00:00",
          "2023-11-22T00:00:00",
          "2023-12-01T00:00:00",
          "2023-12-02T00:00:00",
          "2023-12-03T00:00:00",
          "2023-12-04T00:00:00",
          "2023-12-05T00:00:00",
          "2023-12-06T00:00:00",
          "2023-12-07T00:00:00",
          "2023-12-08T00:00:00",
          "2023-12-09T00:00:00",
          "2023-12-10T00:00:00",
          "2023-12-11T00:00:00",
          "2023-12-12T00:00:00",
          "2023-12-15T00:00:00",
          "2023-12-16T00:00:00",
          "2023-12-17T00:00:00",
          "2023-12-18T00:00:00",
          "2023-12-21T00:00:00",
          "2023-12-23T00:00:00",
          "2023-12-24T00:00:00"
         ],
         "y": [
          0.424667803217086,
          0.41674096376688174,
          0.3328450774818528,
          0.33872283514957324,
          0.3074653604808932,
          0.31507645076731483,
          0.3211787855645359,
          0.2599981032733516,
          0.3414467466406862,
          0.31147829829848267,
          0.28457953393457275,
          0.2936142209584515,
          0.29121582414002556,
          0.2748499291845551,
          0.3055621565519234,
          0.34602002531446774,
          0.33801690926527866,
          0.29778134122060046,
          0.3122314679895642,
          0.2691984398903993,
          0.2919090190423996,
          0.23472375260648912,
          0.36212617408338943,
          0.2765350561378912,
          0.3032625776595529,
          0.33113753382453104,
          null,
          0.24065514002872923,
          0.2538042425209939,
          null,
          0.30253717119708595,
          0.3147948601437514,
          0.25268356981307466,
          0.23105596101839992,
          0.26941680079324376,
          0.2326000078212056,
          0.21286613022932233,
          0.26200016666585696,
          0.3514621964803804,
          0.2990243588290177,
          0.35402572406491534,
          null,
          0.2603151895919812,
          0.23658942980272485,
          0.2804230094863657,
          0.25068379122159534,
          0.21207897971920148,
          0.2434998363804171,
          null,
          0.2487228617196636,
          0.2858771215604,
          null
         ]
        },
        {
         "line": {
          "color": "#283618"
         },
         "mode": "lines",
         "name": "hero moataz",
         "type": "scatter",
         "visible": false,
         "x": [
          "2023-10-07T00:00:00",
          "2023-10-08T00:00:00",
          "2023-10-09T00:00:00",
          "2023-10-10T00:00:00",
          "2023-10-11T00:00:00",
          "2023-10-12T00:00:00",
          "2023-10-13T00:00:00",
          "2023-10-14T00:00:00",
          "2023-10-15T00:00:00",
          "2023-10-16T00:00:00",
          "2023-10-17T00:00:00",
          "2023-10-18T00:00:00",
          "2023-10-19T00:00:00",
          "2023-10-20T00:00:00",
          "2023-10-22T00:00:00",
          "2023-10-23T00:00:00",
          "2023-10-25T00:00:00",
          "2023-10-26T00:00:00",
          "2023-10-27T00:00:00",
          "2023-10-29T00:00:00",
          "2023-10-30T00:00:00",
          "2023-10-31T00:00:00",
          "2023-11-02T00:00:00",
          "2023-11-06T00:00:00",
          "2023-11-07T00:00:00",
          "2023-11-08T00:00:00",
          "2023-11-10T00:00:00",
          "2023-11-11T00:00:00",
          "2023-11-12T00:00:00",
          "2023-11-14T00:00:00",
          "2023-11-15T00:00:00",
          "2023-11-18T00:00:00",
          "2023-11-19T00:00:00",
          "2023-11-20T00:00:00",
          "2023-11-21T00:00:00",
          "2023-11-23T00:00:00",
          "2023-11-27T00:00:00",
          "2023-11-29T00:00:00",
          "2023-11-30T00:00:00",
          "2023-12-03T00:00:00",
          "2023-12-04T00:00:00",
          "2023-12-05T00:00:00",
          "2023-12-06T00:00:00",
          "2023-12-09T00:00:00",
          "2023-12-17T00:00:00",
          "2023-12-19T00:00:00",
          "2023-12-20T00:00:00",
          "2023-12-22T00:00:00",
          "2023-12-24T00:00:00"
         ],
         "y": [
          0.37035532490641687,
          0.3305140203579262,
          0.3550555005693501,
          0.35970761458351297,
          0.27165582410798716,
          0.37005427484957654,
          0.3210978452925266,
          0.3148907686611751,
          0.291186481849118,
          null,
          null,
          0.29273780804416,
          null,
          0.33950918969352467,
          0.3135831909374274,
          0.30215554210047585,
          0.3273823814405295,
          null,
          0.31452067369357045,
          null,
          0.2548157181040294,
          null,
          null,
          0.25863389792062,
          0.3198535034790402,
          null,
          0.2826469920116168,
          null,
          null,
          null,
          null,
          0.2387496191767463,
          null,
          null,
          0.2862522080241162,
          null,
          null,
          null,
          0.26610027907334566,
          null,
          0.3091073879187868,
          0.22058803211534067,
          null,
          null,
          0.28664766844618617,
          null,
          0.2529751605130066,
          0.3194750255292853,
          null
         ]
        },
        {
         "line": {
          "color": "#fefae0"
         },
         "mode": "lines",
         "name": "hero ahmed",
         "type": "scatter",
         "visible": false,
         "x": [
          "2023-10-07T00:00:00",
          "2023-10-08T00:00:00",
          "2023-10-10T00:00:00",
          "2023-10-11T00:00:00",
          "2023-10-12T00:00:00",
          "2023-10-13T00:00:00",
          "2023-10-14T00:00:00",
          "2023-10-15T00:00:00",
          "2023-10-16T00:00:00",
          "2023-10-17T00:00:00",
          "2023-10-18T00:00:00",
          "2023-10-20T00:00:00",
          "2023-10-22T00:00:00",
          "2023-10-23T00:00:00",
          "2023-10-24T00:00:00",
          "2023-10-25T00:00:00",
          "2023-10-26T00:00:00",
          "2023-10-27T00:00:00",
          "2023-10-28T00:00:00",
          "2023-10-30T00:00:00",
          "2023-11-01T00:00:00",
          "2023-11-02T00:00:00",
          "2023-11-03T00:00:00",
          "2023-11-06T00:00:00",
          "2023-11-07T00:00:00",
          "2023-11-09T00:00:00",
          "2023-11-10T00:00:00",
          "2023-11-15T00:00:00",
          "2023-11-16T00:00:00",
          "2023-11-17T00:00:00",
          "2023-11-18T00:00:00",
          "2023-11-19T00:00:00",
          "2023-11-20T00:00:00",
          "2023-11-22T00:00:00",
          "2023-11-24T00:00:00",
          "2023-11-30T00:00:00",
          "2023-12-01T00:00:00",
          "2023-12-02T00:00:00",
          "2023-12-03T00:00:00",
          "2023-12-04T00:00:00",
          "2023-12-12T00:00:00",
          "2023-12-13T00:00:00",
          "2023-12-15T00:00:00",
          "2023-12-20T00:00:00",
          "2023-12-21T00:00:00",
          "2023-12-22T00:00:00",
          "2023-12-23T00:00:00"
         ],
         "y": [
          0.364931522823551,
          0.36033223046316143,
          0.34998374270617627,
          0.279332845183966,
          0.3073744521053828,
          0.29710962460886015,
          0.3412526982349497,
          0.3121013286917093,
          0.29425292883115883,
          0.28970476153447,
          0.4420275185148765,
          0.3196814444842269,
          0.32879610436890283,
          0.2989009462618952,
          0.2517159481795987,
          0.28206314627282847,
          0.3016508701732133,
          0.2068720941487216,
          0.2951213965619359,
          0.3195666735132501,
          0.30371151740501967,
          0.22920367960284244,
          0.27743993869251266,
          0.21894265998298576,
          0.33823398911645847,
          0.2620678163939986,
          0.2811855641070266,
          0.28420006970732203,
          0.25443726034234737,
          null,
          0.2816666570021913,
          0.26378600232593685,
          null,
          0.39074112143301626,
          0.32315921662258595,
          0.24730893658708877,
          0.3140035937508954,
          0.23859486782185302,
          0.2247445505129847,
          0.3251345410229739,
          0.40958756989343614,
          0.32659798132570766,
          0.23355989715834846,
          0.3044102247901728,
          null,
          0.25456455464604527,
          0.2633415993110532
         ]
        },
        {
         "line": {
          "color": "#dda15e"
         },
         "mode": "lines",
         "name": "hero bysan",
         "type": "scatter",
         "visible": false,
         "x": [
          "2023-10-07T00:00:00",
          "2023-10-08T00:00:00",
          "2023-10-09T00:00:00",
          "2023-10-10T00:00:00",
          "2023-10-11T00:00:00",
          "2023-10-12T00:00:00",
          "2023-10-13T00:00:00",
          "2023-10-14T00:00:00",
          "2023-10-15T00:00:00",
          "2023-10-16T00:00:00",
          "2023-10-17T00:00:00",
          "2023-10-18T00:00:00",
          "2023-10-19T00:00:00",
          "2023-10-20T00:00:00",
          "2023-10-21T00:00:00",
          "2023-10-23T00:00:00",
          "2023-10-24T00:00:00",
          "2023-10-25T00:00:00",
          "2023-10-26T00:00:00",
          "2023-10-27T00:00:00",
          "2023-10-29T00:00:00",
          "2023-10-30T00:00:00",
          "2023-10-31T00:00:00",
          "2023-11-01T00:00:00",
          "2023-11-02T00:00:00",
          "2023-11-03T00:00:00",
          "2023-11-04T00:00:00",
          "2023-11-05T00:00:00",
          "2023-11-06T00:00:00",
          "2023-11-07T00:00:00",
          "2023-11-08T00:00:00",
          "2023-11-09T00:00:00",
          "2023-11-10T00:00:00",
          "2023-11-11T00:00:00",
          "2023-11-12T00:00:00",
          "2023-11-13T00:00:00",
          "2023-11-14T00:00:00",
          "2023-11-15T00:00:00",
          "2023-11-16T00:00:00",
          "2023-11-17T00:00:00",
          "2023-11-18T00:00:00",
          "2023-11-19T00:00:00",
          "2023-11-20T00:00:00",
          "2023-11-21T00:00:00",
          "2023-11-22T00:00:00",
          "2023-11-23T00:00:00",
          "2023-11-24T00:00:00",
          "2023-11-25T00:00:00",
          "2023-11-26T00:00:00",
          "2023-11-27T00:00:00",
          "2023-11-28T00:00:00",
          "2023-11-29T00:00:00",
          "2023-11-30T00:00:00",
          "2023-12-01T00:00:00",
          "2023-12-02T00:00:00",
          "2023-12-03T00:00:00",
          "2023-12-04T00:00:00",
          "2023-12-05T00:00:00",
          "2023-12-06T00:00:00",
          "2023-12-07T00:00:00",
          "2023-12-08T00:00:00",
          "2023-12-09T00:00:00",
          "2023-12-10T00:00:00",
          "2023-12-11T00:00:00",
          "2023-12-13T00:00:00",
          "2023-12-14T00:00:00",
          "2023-12-15T00:00:00",
          "2023-12-16T00:00:00",
          "2023-12-17T00:00:00",
          "2023-12-18T00:00:00",
          "2023-12-19T00:00:00",
          "2023-12-20T00:00:00",
          "2023-12-21T00:00:00",
          "2023-12-22T00:00:00",
          "2023-12-23T00:00:00",
          "2023-12-24T00:00:00"
         ],
         "y": [
          null,
          0.31163879877995027,
          0.31319424117842787,
          0.36291284938198787,
          0.3676948782450708,
          0.4222988303927125,
          0.3113502187261172,
          0.3437573037965691,
          0.38664139912162304,
          0.2766068786382407,
          0.3210913461298722,
          0.34001227376779264,
          0.29263820662752216,
          0.34600075484688375,
          0.3082548526227,
          0.3216026548674756,
          0.30253103222912076,
          0.3157934228134385,
          0.38066526691622893,
          0.2681606764666983,
          0.2618712194027374,
          0.31079626205785416,
          0.29497093768355587,
          0.30070338687707443,
          0.286040513159515,
          0.31985336680356835,
          0.24393161285621137,
          0.21603382078877212,
          0.3469891036277677,
          0.2958701908508736,
          0.38321892692917586,
          0.33635852794859694,
          0.21577488726623995,
          0.2484929149320889,
          0.2781318671654728,
          0.3095257411266818,
          0.30245111124262003,
          0.2906334217215328,
          0.30637677210524666,
          0.301325173893067,
          0.2554383997911501,
          0.30598046282257774,
          0.2665343608085548,
          0.24310435286817123,
          0.2919247594348991,
          0.31535907705170274,
          null,
          0.2528875953166109,
          0.2912399708053987,
          0.26173382023010944,
          0.27511310639505815,
          0.2792790483217616,
          0.2879926853407835,
          0.25795477338681616,
          0.26866940670962886,
          0.34919904579207983,
          0.3163461250772514,
          0.2945136702004598,
          0.28008490718531176,
          0.274541433307594,
          0.2686944378365703,
          null,
          0.246515540418321,
          0.3171247594822434,
          0.38142983446876344,
          0.39148420138370144,
          0.24114982430728263,
          0.3027916167039924,
          0.26050896145743063,
          0.2590833826940416,
          0.2528807880409014,
          0.2962904793018229,
          null,
          0.24525115834186312,
          0.23732088518315766,
          0.24618968600994012
         ]
        },
        {
         "line": {
          "color": "#bc6c25"
         },
         "mode": "lines",
         "name": "hero Total",
         "type": "scatter",
         "visible": false,
         "x": [
          "2023-10-07T00:00:00",
          "2023-10-08T00:00:00",
          "2023-10-09T00:00:00",
          "2023-10-10T00:00:00",
          "2023-10-11T00:00:00",
          "2023-10-12T00:00:00",
          "2023-10-13T00:00:00",
          "2023-10-14T00:00:00",
          "2023-10-15T00:00:00",
          "2023-10-16T00:00:00",
          "2023-10-17T00:00:00",
          "2023-10-18T00:00:00",
          "2023-10-19T00:00:00",
          "2023-10-20T00:00:00",
          "2023-10-21T00:00:00",
          "2023-10-22T00:00:00",
          "2023-10-23T00:00:00",
          "2023-10-24T00:00:00",
          "2023-10-25T00:00:00",
          "2023-10-26T00:00:00",
          "2023-10-27T00:00:00",
          "2023-10-28T00:00:00",
          "2023-10-29T00:00:00",
          "2023-10-30T00:00:00",
          "2023-10-31T00:00:00",
          "2023-11-01T00:00:00",
          "2023-11-02T00:00:00",
          "2023-11-03T00:00:00",
          "2023-11-04T00:00:00",
          "2023-11-05T00:00:00",
          "2023-11-06T00:00:00",
          "2023-11-07T00:00:00",
          "2023-11-08T00:00:00",
          "2023-11-09T00:00:00",
          "2023-11-10T00:00:00",
          "2023-11-11T00:00:00",
          "2023-11-12T00:00:00",
          "2023-11-13T00:00:00",
          "2023-11-14T00:00:00",
          "2023-11-15T00:00:00",
          "2023-11-16T00:00:00",
          "2023-11-17T00:00:00",
          "2023-11-18T00:00:00",
          "2023-11-19T00:00:00",
          "2023-11-20T00:00:00",
          "2023-11-21T00:00:00",
          "2023-11-22T00:00:00",
          "2023-11-23T00:00:00",
          "2023-11-24T00:00:00",
          "2023-11-25T00:00:00",
          "2023-11-26T00:00:00",
          "2023-11-27T00:00:00",
          "2023-11-28T00:00:00",
          "2023-11-29T00:00:00",
          "2023-11-30T00:00:00",
          "2023-12-01T00:00:00",
          "2023-12-02T00:00:00",
          "2023-12-03T00:00:00",
          "2023-12-04T00:00:00",
          "2023-12-05T00:00:00",
          "2023-12-06T00:00:00",
          "2023-12-07T00:00:00",
          "2023-12-08T00:00:00",
          "2023-12-09T00:00:00",
          "2023-12-10T00:00:00",
          "2023-12-11T00:00:00",
          "2023-12-12T00:00:00",
          "2023-12-13T00:00:00",
          "2023-12-14T00:00:00",
          "2023-12-15T00:00:00",
          "2023-12-16T00:00:00",
          "2023-12-17T00:00:00",
          "2023-12-18T00:00:00",
          "2023-12-19T00:00:00",
          "2023-12-20T00:00:00",
          "2023-12-21T00:00:00",
          "2023-12-22T00:00:00",
          "2023-12-23T00:00:00",
          "2023-12-24T00:00:00"
         ],
         "y": [
          0.38665155031568466,
          0.3548065033419799,
          0.3336982730765436,
          0.3528317604553126,
          0.30653722700447933,
          0.35370100202874666,
          0.3126841185480099,
          0.3149747184915114,
          0.33284398907578416,
          0.29411270192262745,
          0.2984585471996383,
          0.34209795532132015,
          0.29192701538377386,
          0.3200103295522976,
          0.3082548526227,
          0.31598048395275125,
          0.3171697921360786,
          0.29742129655799937,
          0.3057550729368492,
          0.3411580685447211,
          0.2631844814363301,
          0.2951213965619359,
          0.2870513436961508,
          0.2950595512250445,
          0.29497093768355587,
          0.29120444805749784,
          0.2690510706015857,
          0.27733901936752337,
          0.24393161285621137,
          0.21603382078877212,
          0.2748552205104578,
          0.32902096438244044,
          0.32987699153353356,
          0.30056297400071613,
          0.2776862443023536,
          0.2484929149320889,
          0.2781318671654728,
          0.3095257411266818,
          0.27155312563567463,
          0.2762125779832829,
          0.28040701622379705,
          0.301325173893067,
          0.2586182253233626,
          0.2848832325742573,
          0.2845357660028204,
          0.281383807012013,
          0.3117831502269967,
          0.31535907705170274,
          0.32315921662258595,
          0.2528875953166109,
          0.2912399708053987,
          0.26173382023010944,
          0.27511310639505815,
          0.2792790483217616,
          0.267133967000406,
          0.26767144271870386,
          0.25889369177490856,
          0.26884786804209004,
          0.2908635460620836,
          0.25903395632721915,
          0.31577355183284606,
          0.28678289606830587,
          0.31136008095074286,
          null,
          0.2534153650051511,
          0.2768570946424841,
          0.34500528968990096,
          0.3540139078972355,
          0.39148420138370144,
          0.2417978375624088,
          0.25743529821159694,
          0.2635521554280113,
          0.2590833826940416,
          0.2528807880409014,
          0.2845586215350007,
          0.2487228617196636,
          0.27309691283906457,
          0.26217986868487025,
          0.24618968600994012
         ]
        }
       ],
       "layout": {
        "font": {
         "color": "white",
         "family": "Arial",
         "size": 26
        },
        "paper_bgcolor": "rgba(0, 0, 0, 0.5)",
        "plot_bgcolor": "rgba(0, 0, 0, 0.7)",
        "shapes": [
         {
          "fillcolor": "rgba(173, 216, 230, 0.3)",
          "layer": "below",
          "line": {
           "width": 0
          },
          "type": "rect",
          "x0": "2023-11-24",
          "x1": "2023-11-29",
          "xref": "x",
          "y0": 0,
          "y1": 1,
          "yref": "y domain"
         }
        ],
        "template": {
         "data": {
          "bar": [
           {
            "error_x": {
             "color": "#f2f5fa"
            },
            "error_y": {
             "color": "#f2f5fa"
            },
            "marker": {
             "line": {
              "color": "rgb(17,17,17)",
              "width": 0.5
             },
             "pattern": {
              "fillmode": "overlay",
              "size": 10,
              "solidity": 0.2
             }
            },
            "type": "bar"
           }
          ],
          "barpolar": [
           {
            "marker": {
             "line": {
              "color": "rgb(17,17,17)",
              "width": 0.5
             },
             "pattern": {
              "fillmode": "overlay",
              "size": 10,
              "solidity": 0.2
             }
            },
            "type": "barpolar"
           }
          ],
          "carpet": [
           {
            "aaxis": {
             "endlinecolor": "#A2B1C6",
             "gridcolor": "#506784",
             "linecolor": "#506784",
             "minorgridcolor": "#506784",
             "startlinecolor": "#A2B1C6"
            },
            "baxis": {
             "endlinecolor": "#A2B1C6",
             "gridcolor": "#506784",
             "linecolor": "#506784",
             "minorgridcolor": "#506784",
             "startlinecolor": "#A2B1C6"
            },
            "type": "carpet"
           }
          ],
          "choropleth": [
           {
            "colorbar": {
             "outlinewidth": 0,
             "ticks": ""
            },
            "type": "choropleth"
           }
          ],
          "contour": [
           {
            "colorbar": {
             "outlinewidth": 0,
             "ticks": ""
            },
            "colorscale": [
             [
              0,
              "#0d0887"
             ],
             [
              0.1111111111111111,
              "#46039f"
             ],
             [
              0.2222222222222222,
              "#7201a8"
             ],
             [
              0.3333333333333333,
              "#9c179e"
             ],
             [
              0.4444444444444444,
              "#bd3786"
             ],
             [
              0.5555555555555556,
              "#d8576b"
             ],
             [
              0.6666666666666666,
              "#ed7953"
             ],
             [
              0.7777777777777778,
              "#fb9f3a"
             ],
             [
              0.8888888888888888,
              "#fdca26"
             ],
             [
              1,
              "#f0f921"
             ]
            ],
            "type": "contour"
           }
          ],
          "contourcarpet": [
           {
            "colorbar": {
             "outlinewidth": 0,
             "ticks": ""
            },
            "type": "contourcarpet"
           }
          ],
          "heatmap": [
           {
            "colorbar": {
             "outlinewidth": 0,
             "ticks": ""
            },
            "colorscale": [
             [
              0,
              "#0d0887"
             ],
             [
              0.1111111111111111,
              "#46039f"
             ],
             [
              0.2222222222222222,
              "#7201a8"
             ],
             [
              0.3333333333333333,
              "#9c179e"
             ],
             [
              0.4444444444444444,
              "#bd3786"
             ],
             [
              0.5555555555555556,
              "#d8576b"
             ],
             [
              0.6666666666666666,
              "#ed7953"
             ],
             [
              0.7777777777777778,
              "#fb9f3a"
             ],
             [
              0.8888888888888888,
              "#fdca26"
             ],
             [
              1,
              "#f0f921"
             ]
            ],
            "type": "heatmap"
           }
          ],
          "heatmapgl": [
           {
            "colorbar": {
             "outlinewidth": 0,
             "ticks": ""
            },
            "colorscale": [
             [
              0,
              "#0d0887"
             ],
             [
              0.1111111111111111,
              "#46039f"
             ],
             [
              0.2222222222222222,
              "#7201a8"
             ],
             [
              0.3333333333333333,
              "#9c179e"
             ],
             [
              0.4444444444444444,
              "#bd3786"
             ],
             [
              0.5555555555555556,
              "#d8576b"
             ],
             [
              0.6666666666666666,
              "#ed7953"
             ],
             [
              0.7777777777777778,
              "#fb9f3a"
             ],
             [
              0.8888888888888888,
              "#fdca26"
             ],
             [
              1,
              "#f0f921"
             ]
            ],
            "type": "heatmapgl"
           }
          ],
          "histogram": [
           {
            "marker": {
             "pattern": {
              "fillmode": "overlay",
              "size": 10,
              "solidity": 0.2
             }
            },
            "type": "histogram"
           }
          ],
          "histogram2d": [
           {
            "colorbar": {
             "outlinewidth": 0,
             "ticks": ""
            },
            "colorscale": [
             [
              0,
              "#0d0887"
             ],
             [
              0.1111111111111111,
              "#46039f"
             ],
             [
              0.2222222222222222,
              "#7201a8"
             ],
             [
              0.3333333333333333,
              "#9c179e"
             ],
             [
              0.4444444444444444,
              "#bd3786"
             ],
             [
              0.5555555555555556,
              "#d8576b"
             ],
             [
              0.6666666666666666,
              "#ed7953"
             ],
             [
              0.7777777777777778,
              "#fb9f3a"
             ],
             [
              0.8888888888888888,
              "#fdca26"
             ],
             [
              1,
              "#f0f921"
             ]
            ],
            "type": "histogram2d"
           }
          ],
          "histogram2dcontour": [
           {
            "colorbar": {
             "outlinewidth": 0,
             "ticks": ""
            },
            "colorscale": [
             [
              0,
              "#0d0887"
             ],
             [
              0.1111111111111111,
              "#46039f"
             ],
             [
              0.2222222222222222,
              "#7201a8"
             ],
             [
              0.3333333333333333,
              "#9c179e"
             ],
             [
              0.4444444444444444,
              "#bd3786"
             ],
             [
              0.5555555555555556,
              "#d8576b"
             ],
             [
              0.6666666666666666,
              "#ed7953"
             ],
             [
              0.7777777777777778,
              "#fb9f3a"
             ],
             [
              0.8888888888888888,
              "#fdca26"
             ],
             [
              1,
              "#f0f921"
             ]
            ],
            "type": "histogram2dcontour"
           }
          ],
          "mesh3d": [
           {
            "colorbar": {
             "outlinewidth": 0,
             "ticks": ""
            },
            "type": "mesh3d"
           }
          ],
          "parcoords": [
           {
            "line": {
             "colorbar": {
              "outlinewidth": 0,
              "ticks": ""
             }
            },
            "type": "parcoords"
           }
          ],
          "pie": [
           {
            "automargin": true,
            "type": "pie"
           }
          ],
          "scatter": [
           {
            "marker": {
             "line": {
              "color": "#283442"
             }
            },
            "type": "scatter"
           }
          ],
          "scatter3d": [
           {
            "line": {
             "colorbar": {
              "outlinewidth": 0,
              "ticks": ""
             }
            },
            "marker": {
             "colorbar": {
              "outlinewidth": 0,
              "ticks": ""
             }
            },
            "type": "scatter3d"
           }
          ],
          "scattercarpet": [
           {
            "marker": {
             "colorbar": {
              "outlinewidth": 0,
              "ticks": ""
             }
            },
            "type": "scattercarpet"
           }
          ],
          "scattergeo": [
           {
            "marker": {
             "colorbar": {
              "outlinewidth": 0,
              "ticks": ""
             }
            },
            "type": "scattergeo"
           }
          ],
          "scattergl": [
           {
            "marker": {
             "line": {
              "color": "#283442"
             }
            },
            "type": "scattergl"
           }
          ],
          "scattermapbox": [
           {
            "marker": {
             "colorbar": {
              "outlinewidth": 0,
              "ticks": ""
             }
            },
            "type": "scattermapbox"
           }
          ],
          "scatterpolar": [
           {
            "marker": {
             "colorbar": {
              "outlinewidth": 0,
              "ticks": ""
             }
            },
            "type": "scatterpolar"
           }
          ],
          "scatterpolargl": [
           {
            "marker": {
             "colorbar": {
              "outlinewidth": 0,
              "ticks": ""
             }
            },
            "type": "scatterpolargl"
           }
          ],
          "scatterternary": [
           {
            "marker": {
             "colorbar": {
              "outlinewidth": 0,
              "ticks": ""
             }
            },
            "type": "scatterternary"
           }
          ],
          "surface": [
           {
            "colorbar": {
             "outlinewidth": 0,
             "ticks": ""
            },
            "colorscale": [
             [
              0,
              "#0d0887"
             ],
             [
              0.1111111111111111,
              "#46039f"
             ],
             [
              0.2222222222222222,
              "#7201a8"
             ],
             [
              0.3333333333333333,
              "#9c179e"
             ],
             [
              0.4444444444444444,
              "#bd3786"
             ],
             [
              0.5555555555555556,
              "#d8576b"
             ],
             [
              0.6666666666666666,
              "#ed7953"
             ],
             [
              0.7777777777777778,
              "#fb9f3a"
             ],
             [
              0.8888888888888888,
              "#fdca26"
             ],
             [
              1,
              "#f0f921"
             ]
            ],
            "type": "surface"
           }
          ],
          "table": [
           {
            "cells": {
             "fill": {
              "color": "#506784"
             },
             "line": {
              "color": "rgb(17,17,17)"
             }
            },
            "header": {
             "fill": {
              "color": "#2a3f5f"
             },
             "line": {
              "color": "rgb(17,17,17)"
             }
            },
            "type": "table"
           }
          ]
         },
         "layout": {
          "annotationdefaults": {
           "arrowcolor": "#f2f5fa",
           "arrowhead": 0,
           "arrowwidth": 1
          },
          "autotypenumbers": "strict",
          "coloraxis": {
           "colorbar": {
            "outlinewidth": 0,
            "ticks": ""
           }
          },
          "colorscale": {
           "diverging": [
            [
             0,
             "#8e0152"
            ],
            [
             0.1,
             "#c51b7d"
            ],
            [
             0.2,
             "#de77ae"
            ],
            [
             0.3,
             "#f1b6da"
            ],
            [
             0.4,
             "#fde0ef"
            ],
            [
             0.5,
             "#f7f7f7"
            ],
            [
             0.6,
             "#e6f5d0"
            ],
            [
             0.7,
             "#b8e186"
            ],
            [
             0.8,
             "#7fbc41"
            ],
            [
             0.9,
             "#4d9221"
            ],
            [
             1,
             "#276419"
            ]
           ],
           "sequential": [
            [
             0,
             "#0d0887"
            ],
            [
             0.1111111111111111,
             "#46039f"
            ],
            [
             0.2222222222222222,
             "#7201a8"
            ],
            [
             0.3333333333333333,
             "#9c179e"
            ],
            [
             0.4444444444444444,
             "#bd3786"
            ],
            [
             0.5555555555555556,
             "#d8576b"
            ],
            [
             0.6666666666666666,
             "#ed7953"
            ],
            [
             0.7777777777777778,
             "#fb9f3a"
            ],
            [
             0.8888888888888888,
             "#fdca26"
            ],
            [
             1,
             "#f0f921"
            ]
           ],
           "sequentialminus": [
            [
             0,
             "#0d0887"
            ],
            [
             0.1111111111111111,
             "#46039f"
            ],
            [
             0.2222222222222222,
             "#7201a8"
            ],
            [
             0.3333333333333333,
             "#9c179e"
            ],
            [
             0.4444444444444444,
             "#bd3786"
            ],
            [
             0.5555555555555556,
             "#d8576b"
            ],
            [
             0.6666666666666666,
             "#ed7953"
            ],
            [
             0.7777777777777778,
             "#fb9f3a"
            ],
            [
             0.8888888888888888,
             "#fdca26"
            ],
            [
             1,
             "#f0f921"
            ]
           ]
          },
          "colorway": [
           "#636efa",
           "#EF553B",
           "#00cc96",
           "#ab63fa",
           "#FFA15A",
           "#19d3f3",
           "#FF6692",
           "#B6E880",
           "#FF97FF",
           "#FECB52"
          ],
          "font": {
           "color": "#f2f5fa"
          },
          "geo": {
           "bgcolor": "rgb(17,17,17)",
           "lakecolor": "rgb(17,17,17)",
           "landcolor": "rgb(17,17,17)",
           "showlakes": true,
           "showland": true,
           "subunitcolor": "#506784"
          },
          "hoverlabel": {
           "align": "left"
          },
          "hovermode": "closest",
          "mapbox": {
           "style": "dark"
          },
          "paper_bgcolor": "rgb(17,17,17)",
          "plot_bgcolor": "rgb(17,17,17)",
          "polar": {
           "angularaxis": {
            "gridcolor": "#506784",
            "linecolor": "#506784",
            "ticks": ""
           },
           "bgcolor": "rgb(17,17,17)",
           "radialaxis": {
            "gridcolor": "#506784",
            "linecolor": "#506784",
            "ticks": ""
           }
          },
          "scene": {
           "xaxis": {
            "backgroundcolor": "rgb(17,17,17)",
            "gridcolor": "#506784",
            "gridwidth": 2,
            "linecolor": "#506784",
            "showbackground": true,
            "ticks": "",
            "zerolinecolor": "#C8D4E3"
           },
           "yaxis": {
            "backgroundcolor": "rgb(17,17,17)",
            "gridcolor": "#506784",
            "gridwidth": 2,
            "linecolor": "#506784",
            "showbackground": true,
            "ticks": "",
            "zerolinecolor": "#C8D4E3"
           },
           "zaxis": {
            "backgroundcolor": "rgb(17,17,17)",
            "gridcolor": "#506784",
            "gridwidth": 2,
            "linecolor": "#506784",
            "showbackground": true,
            "ticks": "",
            "zerolinecolor": "#C8D4E3"
           }
          },
          "shapedefaults": {
           "line": {
            "color": "#f2f5fa"
           }
          },
          "sliderdefaults": {
           "bgcolor": "#C8D4E3",
           "bordercolor": "rgb(17,17,17)",
           "borderwidth": 1,
           "tickwidth": 0
          },
          "ternary": {
           "aaxis": {
            "gridcolor": "#506784",
            "linecolor": "#506784",
            "ticks": ""
           },
           "baxis": {
            "gridcolor": "#506784",
            "linecolor": "#506784",
            "ticks": ""
           },
           "bgcolor": "rgb(17,17,17)",
           "caxis": {
            "gridcolor": "#506784",
            "linecolor": "#506784",
            "ticks": ""
           }
          },
          "title": {
           "x": 0.05
          },
          "updatemenudefaults": {
           "bgcolor": "#506784",
           "borderwidth": 0
          },
          "xaxis": {
           "automargin": true,
           "gridcolor": "#283442",
           "linecolor": "#506784",
           "ticks": "",
           "title": {
            "standoff": 15
           },
           "zerolinecolor": "#283442",
           "zerolinewidth": 2
          },
          "yaxis": {
           "automargin": true,
           "gridcolor": "#283442",
           "linecolor": "#506784",
           "ticks": "",
           "title": {
            "standoff": 15
           },
           "zerolinecolor": "#283442",
           "zerolinewidth": 2
          }
         }
        },
        "title": {
         "text": "Social Media interactions during war in Gaza"
        },
        "updatemenus": [
         {
          "buttons": [
           {
            "args": [
             {
              "visible": [
               true,
               false,
               false,
               false,
               false
              ]
             }
            ],
            "label": "Hero saleh",
            "method": "update"
           },
           {
            "args": [
             {
              "visible": [
               false,
               true,
               false,
               false,
               false
              ]
             }
            ],
            "label": "Hero moataz",
            "method": "update"
           },
           {
            "args": [
             {
              "visible": [
               false,
               false,
               true,
               false,
               false
              ]
             }
            ],
            "label": "Hero ahmed",
            "method": "update"
           },
           {
            "args": [
             {
              "visible": [
               false,
               false,
               false,
               true,
               false
              ]
             }
            ],
            "label": "Hero bysan",
            "method": "update"
           },
           {
            "args": [
             {
              "visible": [
               false,
               false,
               false,
               false,
               true
              ]
             }
            ],
            "label": "Hero Total",
            "method": "update"
           },
           {
            "args": [
             {
              "annotations": [
               {
                "arrowcolor": "black",
                "arrowhead": 1,
                "arrowwidth": 2,
                "font": {
                 "size": 8
                },
                "name": "Periodic ceasefire",
                "showarrow": true,
                "text": "Periodic ceasefire",
                "x": "2023-11-24T00:00:00",
                "xshift": 5,
                "y": 0.32315921662258595,
                "yshift": 5
               }
              ],
              "visible": [
               true,
               true,
               true,
               true,
               true
              ]
             }
            ],
            "label": "All Heroes",
            "method": "update"
           }
          ],
          "direction": "down",
          "pad": {
           "r": 10,
           "t": 10
          },
          "showactive": true,
          "x": 1.1,
          "xanchor": "right",
          "y": 1.15,
          "yanchor": "top"
         }
        ],
        "xaxis": {
         "showgrid": false,
         "tickangle": -35,
         "tickfont": {
          "family": "Arial",
          "size": 10
         },
         "tickformat": "%Y-%m-%d",
         "title": {
          "text": "Date"
         }
        },
        "yaxis": {
         "tickfont": {
          "family": "Arial",
          "size": 10
         },
         "title": {
          "text": "Total interaction (percentage)"
         }
        }
       }
      }
     },
     "metadata": {},
     "output_type": "display_data"
    }
   ],
   "source": [
    "\n",
    "fig = go.Figure()\n",
    "\n",
    "traces = []\n",
    "annotations = []\n",
    "\n",
    "## add temporary truce to the figure\n",
    "crisis_periods = [(pd.to_datetime('2023-11-24'), \"Periodic ceasefire\")]\n",
    "for date, comment in crisis_periods:\n",
    "    for df in dfs_hit:\n",
    "        if date in df['date'].values:\n",
    "            y_value = df.loc[df['date'] == date, 'mean'].values[0]\n",
    "            annotation = dict(x=date, y=y_value,\n",
    "                              text=comment, showarrow=True, arrowhead=1, arrowwidth=2, arrowcolor='black',\n",
    "                              xshift=5, yshift=5, font=dict(size=8), name=comment)\n",
    "            annotations.append(annotation)\n",
    "            break\n",
    "\n",
    "# Plot lines and store them with annotations\n",
    "colors = ['#606c38', '#283618', '#fefae0', '#dda15e', '#bc6c25']\n",
    "for idx, df in enumerate(dfs_hit):\n",
    "    trace = go.Scatter(x=df['date'], y=df['mean'], mode='lines', name=f'hero {hero_names[idx]}', visible=False, line=dict(color=colors[idx]))\n",
    "    traces.append(trace)\n",
    "    fig.add_trace(trace)\n",
    "\n",
    "fig.add_vrect(\n",
    "    x0=\"2023-11-24\", x1=\"2023-11-29\",\n",
    "    fillcolor=\"rgba(173, 216, 230, 0.3)\", \n",
    "    layer=\"below\", line_width=0,\n",
    ")\n",
    "\n",
    "# Update layout\n",
    "fig.update_layout(\n",
    "    title='Social Media interactions during war in Gaza',\n",
    "    xaxis=dict(title='Date', showgrid=False, tickangle=-35, tickformat=\"%Y-%m-%d\", tickfont=dict(size=10, family='Arial')), \n",
    "    yaxis=dict(title='Total interaction (percentage)', tickfont=dict(size=10, family='Arial')),  \n",
    "    font=dict(family='Arial', size=26, color='white'), \n",
    "    #font_family=\"Outfit\",\n",
    "    #font_size = 13,\n",
    "    template  = \"plotly_dark\",\n",
    "    plot_bgcolor='rgba(0, 0, 0, 0.7)',  \n",
    "    paper_bgcolor='rgba(0, 0, 0, 0.5)', \n",
    "    #font=dict(color='white'),  # Change font color to white for better contrast\n",
    "    #plot_bgcolor='rgb(253,241,230)',\n",
    "    updatemenus=[\n",
    "        dict(\n",
    "            buttons=[\n",
    "                dict(\n",
    "                    args=[{\"visible\": [True if i == idx else False for i in range(len(traces))]}],\n",
    "                         # {\"annotations\": [a if i == idx else {} for i, a in enumerate(annotations)]}],\n",
    "                    label=f'Hero {hero_names[idx]}',\n",
    "                    method=\"update\"\n",
    "                ) for idx in range(len(traces))  # Add options for each individual stock\n",
    "            ] + [\n",
    "                dict(\n",
    "                    args=[{\"visible\": [True] * len(traces),\n",
    "                           \"annotations\": annotations}],\n",
    "                    label=\"All Heroes\",\n",
    "                    method=\"update\"\n",
    "                )\n",
    "            ],\n",
    "            direction=\"down\",\n",
    "            pad={\"r\": 10, \"t\": 10},\n",
    "            showactive=True,\n",
    "            x=1.1, \n",
    "            xanchor=\"right\",\n",
    "            y=1.15,\n",
    "            yanchor=\"top\"\n",
    "        ),\n",
    "    ]\n",
    ")\n",
    "\n",
    "\n",
    "fig.show()"
   ]
  },
  {
   "cell_type": "markdown",
   "metadata": {},
   "source": [
    "##### A Map plot with interactions for each contributors in pie plot"
   ]
  },
  {
   "cell_type": "code",
   "execution_count": 14,
   "metadata": {},
   "outputs": [],
   "source": [
    "# Load the shapefile data containing the geographical boundaries of Gaza Strip regions\n",
    "gaza_regions = gpd.read_file('GazaStrip_MunicipalBoundaries.shp')\n",
    "gaza_regions.NAME.unique()"
   ]
  },
  {
   "cell_type": "code",
   "execution_count": 12,
   "metadata": {},
   "outputs": [],
   "source": [
    "### Define a list of dataframes for the number of plots for each contributor\n",
    "dfs_count = [df_saleh_tr[[\"date\", \"count\"]], df_moataz_tr[[\"date\", \"count\"]], df_ahmed_tr[[\"date\", \"count\"]], df_bysan_tr[[\"date\", \"count\"]]]"
   ]
  },
  {
   "cell_type": "code",
   "execution_count": 16,
   "metadata": {},
   "outputs": [],
   "source": [
    "### Calculation of the contributors according to theri displacments\n",
    "\n",
    "north  = []\n",
    "south = []\n",
    "middle = []\n",
    "places_list = []\n",
    "for  idx, df in enumerate(dfs_count): \n",
    "    avg_north = dfs_count[idx][dfs_count[idx]['date'] <= '2023-11-10']['count'].sum(skipna = True)\n",
    "    north.append(avg_north)\n",
    "    if (idx  == 0):\n",
    "        avg_south_ands = dfs_count[idx][(dfs_count[idx]['date'] >= '2023-11-24') & (dfs_count[idx]['date'] <= '2023-12-1')]['count'].sum(skipna = True)\n",
    "        south.append(avg_south_ands)\n",
    "        avg_middle_ands2 = dfs_count[idx][(dfs_count[idx]['date'] > '2023-11-30')]['count'].sum(skipna = True)\n",
    "        avg_middle_ands1 = dfs_count[idx][(dfs_count[idx]['date'] > '2023-11-10') & (dfs_count[idx]['date'] < '2023-11-26')]['count'].sum(skipna = True)\n",
    "\n",
    "        avg_middle_mands = avg_middle_ands1 + avg_middle_ands2\n",
    "        middle.append(avg_middle_mands)\n",
    "    elif (idx  == 1):\n",
    "        avg_south_mand = dfs_count[idx][(dfs_count[idx]['date'] >= '2023-11-24') & (dfs_count[idx]['date'] <= '2023-12-1')]['count'].sum(skipna = True)\n",
    "        south.append(avg_south_mand)\n",
    "        avg_middle_mand2 = dfs_count[idx][(dfs_count[idx]['date'] > '2023-12-1')]['count'].sum(skipna = True)\n",
    "        avg_middle_mand1 = dfs_count[idx][(dfs_count[idx]['date'] > '2023-11-10') & (dfs_count[idx]['date'] < '2023-11-24')]['count'].sum(skipna = True)\n",
    "\n",
    "        avg_middle_mands = avg_middle_mand1 + avg_middle_mand2\n",
    "        middle.append(avg_middle_mands)\n",
    "    else: \n",
    "        avg_middle_aandb = dfs_count[idx][(dfs_count[idx]['date'] > '2023-11-10') & (dfs_count[idx]['date'] <= '2023-11-24')]['count'].sum(skipna = True)\n",
    "        middle.append(avg_middle_aandb)\n",
    "        avg_middle_aandb = dfs_count[idx][(dfs_count[idx]['date'] > '2023-11-24')]['count'].sum(skipna = True)\n",
    "        south.append(avg_middle_aandb)\n",
    "    #avg_before, avg_between, avg_after = (0 if np.isnan(v) else v for v in (avg_before, avg_between, avg_after))\n",
    "    #bar_list.append([avg_before, avg_between, avg_after])"
   ]
  },
  {
   "cell_type": "code",
   "execution_count": 17,
   "metadata": {},
   "outputs": [],
   "source": [
    "### Calculate the total posts and average posts per region\n",
    "places_list = [north, middle, south]\n",
    "total_posts = []\n",
    "for i in range(0, len(places_list)):\n",
    "    avg = sum(places_list[i])\n",
    "    total_posts.append(avg)"
   ]
  },
  {
   "cell_type": "code",
   "execution_count": 63,
   "metadata": {},
   "outputs": [
    {
     "name": "stderr",
     "output_type": "stream",
     "text": [
      "c:\\Users\\alitr\\AppData\\Local\\Programs\\Python\\Python311\\Lib\\site-packages\\geopandas\\plotting.py:656: UserWarning:\n",
      "\n",
      "Only specify one of 'column' or 'color'. Using 'color'.\n",
      "\n"
     ]
    },
    {
     "data": {
      "image/png": "[encoded data removed]",
      "text/plain": [
       "<Figure size 1000x1000 with 1 Axes>"
      ]
     },
     "metadata": {},
     "output_type": "display_data"
    }
   ],
   "source": [
    "colors = ['#606c38', '#283618', '#fefae0', '#dda15e', '#bc6c25']\n",
    "\n",
    "\n",
    "# Retrieve the geometries of the first three regions\n",
    "regions_subset = gaza_regions[(gaza_regions[\"NAME\"] == \"Jabalya\") | (gaza_regions[\"NAME\"] == \"Khan Yunis\") | (gaza_regions[\"NAME\"] == \"Rafah\")]\n",
    "# Define the desired order of names\n",
    "desired_order = ['Jabalya', 'Khan Yunis', 'Rafah']\n",
    "\n",
    "# Set the 'NAME' column as the index temporarily for reordering\n",
    "regions_subset.set_index('NAME', inplace=True)\n",
    "\n",
    "# Reorder the DataFrame according to the desired order\n",
    "regions_subset = regions_subset.loc[desired_order].reset_index()\n",
    "\n",
    "# Reset the index to default (0, 1, 2, ...)\n",
    "regions_subset.reset_index(drop=True, inplace=True)\n",
    "\n",
    "# Calculate the total global population\n",
    "total_global_population = sum(sum(region) for region in places_list)\n",
    "\n",
    "\n",
    "# Plotting the entire map with a fully black background\n",
    "plt.style.use('dark_background')\n",
    "\n",
    "fig, ax = plt.subplots(figsize=(10, 10))\n",
    "fig.patch.set_facecolor('black')  # Set the figure background to black\n",
    "\n",
    "gaza_regions.plot(column='NAME', legend=True, ax=ax, color='#969696', edgecolor='white')\n",
    "\n",
    "o = 0 \n",
    "# Plot pie charts for kids and adults\n",
    "for idx, row in regions_subset.iterrows():\n",
    "    total_pop = sum(places_list[o])  # Total population\n",
    "    sizes = [pop / total_pop for pop in places_list[o]]\n",
    "    x, y = row.geometry.centroid.x, row.geometry.centroid.y\n",
    "\n",
    "    # Calculate pie chart radius based on global population\n",
    "    radius = (total_pop / total_global_population) * 0.06  # Adjust 0.4 to control the overall pie chart size\n",
    "    \n",
    "    # Draw pie chart wedges\n",
    "    saleh_patch = mpatches.Wedge((x, y), radius, 0, sizes[0]*360, edgecolor='#606c38', facecolor='#606c38')\n",
    "    moataz_patch = mpatches.Wedge((x, y), radius, sizes[0]*360, (sizes[0] + sizes[1])*360, edgecolor='#283618', facecolor='#283618')\n",
    "    ahmed_patch = mpatches.Wedge((x, y), radius, (sizes[0] + sizes[1])*360, (sizes[0] + sizes[1] + sizes[2])*360, edgecolor='#fefae0', facecolor='#fefae0')\n",
    "    bysan_patch = mpatches.Wedge((x, y), radius, (sizes[0] + sizes[1] + sizes[2])*360, 360, edgecolor='#dda15e', facecolor='#dda15e') \n",
    "    \n",
    "    ax.add_patch(saleh_patch)\n",
    "    ax.add_patch(moataz_patch)\n",
    "    ax.add_patch(ahmed_patch)\n",
    "    ax.add_patch(bysan_patch)\n",
    "    o = o + 1\n",
    "\n",
    "# Create proxy artists for the bubble sizes in legend\n",
    "bubble_sizes = total_posts  \n",
    "bubble_handles = [ax.scatter([], [], s=(size / total_global_population) * 1000, color='white', edgecolor='black', label=f'Total posts: {size}') for size in bubble_sizes]\n",
    "legend1 = plt.legend(handles=bubble_handles, loc='upper left', title='Pie Size:')\n",
    "ax.add_artist(legend1)\n",
    "\n",
    "# Create legend handles for pie chart categories\n",
    "saleh_patch = mpatches.Patch(color='#606c38', label='Saleh')\n",
    "moataz_patch = mpatches.Patch(color='#283618', label='Moataz')\n",
    "ahmed_patch = mpatches.Patch(color='#fefae0', label='Ahmed')\n",
    "bysan_patch = mpatches.Patch(color='#dda15e', label='Bysan')\n",
    "\n",
    "plt.legend(handles=[saleh_patch, moataz_patch, ahmed_patch, bysan_patch], loc='lower right')\n",
    "\n",
    "plt.title('Posts According to the migration of the Influencers')\n",
    "ax.set_axis_off()\n",
    "\n",
    "plt.show()\n"
   ]
  },
  {
   "cell_type": "markdown",
   "metadata": {},
   "source": [
    "### Other trial plots using pie chart and bubbles for the Map of Gaza"
   ]
  },
  {
   "cell_type": "code",
   "execution_count": 111,
   "metadata": {},
   "outputs": [
    {
     "name": "stderr",
     "output_type": "stream",
     "text": [
      "c:\\Users\\alitr\\AppData\\Local\\Programs\\Python\\Python311\\Lib\\site-packages\\geopandas\\plotting.py:656: UserWarning:\n",
      "\n",
      "Only specify one of 'column' or 'color'. Using 'color'.\n",
      "\n"
     ]
    },
    {
     "data": {
      "image/png": "[encoded data removed]",
      "text/plain": [
       "<Figure size 1000x1000 with 1 Axes>"
      ]
     },
     "metadata": {},
     "output_type": "display_data"
    }
   ],
   "source": [
    "\n",
    "populations = [[20000, 20000, 10000], [8000, 10000, 2000], [10000, 10000, 10000]]\n",
    "regions_subset = gaza_regions.iloc[:3]\n",
    "\n",
    "total_global_population = sum(sum(region) for region in populations)\n",
    "\n",
    "plt.style.use('dark_background')\n",
    "\n",
    "fig, ax = plt.subplots(figsize=(10, 10))\n",
    "fig.patch.set_facecolor('black')\n",
    "\n",
    "gaza_regions.plot(column='NAME', legend=True, ax=ax, color='white', edgecolor='black')\n",
    "\n",
    "for idx, row in regions_subset.iterrows():\n",
    "    total_pop = sum(populations[idx])\n",
    "    sizes = [pop / total_pop for pop in populations[idx]]\n",
    "    x, y = row.geometry.centroid.x, row.geometry.centroid.y\n",
    "\n",
    "    radius = (total_pop / total_global_population) * 0.04\n",
    "    \n",
    "    # Draw pie chart wedges\n",
    "    kids_patch = mpatches.Wedge((x, y), radius, 0, sizes[0]*360, edgecolor='black', facecolor='blue')\n",
    "    adults_patch = mpatches.Wedge((x, y), radius, sizes[0]*360, (sizes[0] + sizes[1])*360, edgecolor='black', facecolor='red')\n",
    "    elderly_patch = mpatches.Wedge((x, y), radius, (sizes[0] + sizes[1])*360, 360, edgecolor='black', facecolor='green')\n",
    "    ax.add_patch(kids_patch)\n",
    "    ax.add_patch(adults_patch)\n",
    "    ax.add_patch(elderly_patch)\n",
    "\n",
    "bubble_sizes = [30000, 20000, 10000]\n",
    "bubble_handles = [ax.scatter([], [], s=(size / total_global_population) * 1000, color='white', edgecolor='black', label=f'Population: {size}') for size in bubble_sizes]\n",
    "legend1 = plt.legend(handles=bubble_handles, loc='upper left', title='Bubble Sizes')\n",
    "ax.add_artist(legend1)\n",
    "\n",
    "kids_patch = mpatches.Patch(color='blue', label='Kids')\n",
    "adults_patch = mpatches.Patch(color='red', label='Adults')\n",
    "elderly_patch = mpatches.Patch(color='green', label='Elderly')\n",
    "plt.legend(handles=[kids_patch, adults_patch, elderly_patch], loc='upper right')\n",
    "\n",
    "plt.title('Population Split in First Three Regions in Gaza Strip')\n",
    "ax.set_axis_off()\n",
    "\n",
    "plt.show()\n"
   ]
  },
  {
   "cell_type": "code",
   "execution_count": 41,
   "metadata": {},
   "outputs": [
    {
     "data": {
      "image/png": "[encoded data removed]",
      "text/plain": [
       "<Figure size 1000x600 with 1 Axes>"
      ]
     },
     "metadata": {},
     "output_type": "display_data"
    }
   ],
   "source": [
    "populations = [50000, 20000, 30000]\n",
    "populations.sort()\n",
    "\n",
    "regions_subset = gaza_regions.head(3)\n",
    "\n",
    "fig, ax = plt.subplots(figsize=(10, 6))\n",
    "gaza_regions.plot(column='NAME', legend=True, ax=ax, color='white', edgecolor='black')\n",
    "\n",
    "for idx, row in regions_subset.iterrows():\n",
    "    size = populations[idx] / 5\n",
    "    ax.scatter(row.geometry.centroid.x, row.geometry.centroid.y, s=size, alpha=0.5, color = '#4A90E2',label=f'Population: {populations[idx]}')\n",
    "\n",
    "plt.title('Population in First Three Regions in Gaza Strip')\n",
    "ax.legend()\n",
    "ax.set_axis_off()\n",
    "\n",
    "plt.show()\n"
   ]
  },
  {
   "cell_type": "markdown",
   "metadata": {},
   "source": [
    "#### Static Plots for the number of interactions"
   ]
  },
  {
   "cell_type": "code",
   "execution_count": null,
   "metadata": {},
   "outputs": [],
   "source": [
    "hero_names = [\"saleh\", \"moataz\", \"ahmed\", \"bysan\", \"Total\"]\n",
    "colors = ['#FF6F61', '#6B5B95', '#88B04B', '#F7CAC9', '#92A8D1']\n",
    "fig, ax = plt.subplots(figsize=(10, 6))\n",
    "ax.set_title('Click on legend entries to mute the corresponding lines')\n",
    "date_form = DateFormatter(\"%Y-%m-%d\")\n",
    "ax.xaxis.set_major_formatter(date_form)\n",
    "ax.xaxis.set_major_locator(AutoDateLocator())\n",
    "\n",
    "for df, name, color in zip(dfs, hero_names, colors):\n",
    "    df['date'] = pd.to_datetime(df['date'])\n",
    "    ax.plot(df['date'], df['sum'], label=name, color=color, linewidth=2, alpha=0.8)\n",
    "\n",
    "plt.xlabel('Date')\n",
    "plt.ylabel('Close Price')\n",
    "plt.legend(loc='upper left')\n",
    "plt.show()\n"
   ]
  },
  {
   "cell_type": "code",
   "execution_count": null,
   "metadata": {},
   "outputs": [],
   "source": [
    "fig = make_subplots(specs=[[{\"secondary_y\": True}]])\n",
    "for df, name, color in zip(dfs, hero_names, colors):\n",
    "    df['date'] = pd.to_datetime(df['date'])\n",
    "    fig.add_trace(go.Scatter(x=df['date'], y=df['sum'], mode='lines', name=name, line=dict(color=color)))\n",
    "\n",
    "fig.update_layout(title='Click on legend entries to mute the corresponding lines', showlegend=True)\n",
    "fig.show()"
   ]
  },
  {
   "cell_type": "markdown",
   "metadata": {},
   "source": [
    "#### Another plot for the interactions on social media with other background and colors"
   ]
  },
  {
   "cell_type": "code",
   "execution_count": null,
   "metadata": {},
   "outputs": [],
   "source": [
    "fig = go.Figure()\n",
    "traces = []\n",
    "annotations = []\n",
    "\n",
    "# Iterate through crisis periods\n",
    "crisis_periods = [(pd.to_datetime('2023-11-24'), \"Periodic ceasefire\"), (pd.to_datetime('2023-11-29'), \"Return of the War\")]\n",
    "for date, comment in crisis_periods:\n",
    "    for df in dfs:\n",
    "        if date in df['date'].values:\n",
    "            filtered_df = df[df['date'] >= '2023-10-07']  # Filtering data from October 7, 2023\n",
    "            if date in filtered_df['date'].values:\n",
    "                y_value = filtered_df.loc[filtered_df['date'] == date, 'sum'].values\n",
    "                if len(y_value) > 0:\n",
    "                    y_value = y_value[0]\n",
    "                    annotation = dict(x=date, y=y_value,\n",
    "                                      text=comment, showarrow=True, arrowhead=1, arrowwidth=2, arrowcolor='black',\n",
    "                                      xshift=5, yshift=5, font=dict(size=8), name=comment)\n",
    "                    annotations.append(annotation)\n",
    "                break \n",
    "\n",
    "# Plot lines and store them with annotations\n",
    "colors = ['blue', 'green', 'red', 'purple']\n",
    "for idx, df in enumerate(dfs):\n",
    "    filtered_df = df[df['date'] >= '2023-10-07']\n",
    "    trace = go.Scatter(x=filtered_df['date'], y=filtered_df['sum'], mode='lines', name=f'hero {stock_names[idx]}', visible=False, line=dict(color=colors[idx]))\n",
    "    traces.append(trace)\n",
    "    fig.add_trace(trace)\n",
    "\n",
    "# Update layout\n",
    "fig.update_layout(\n",
    "    title='Social Media interactions during war in Gaza',\n",
    "    xaxis=dict(title='Date', showgrid=False, tickangle=-45, tickformat=\"%Y-%m-%d\"),\n",
    "    yaxis=dict(title='Total interaction (in thousands)'),\n",
    "    paper_bgcolor='rgb(210,180,140)',\n",
    "    plot_bgcolor='rgba(255,255,255,0.95)',\n",
    "    updatemenus=[\n",
    "        dict(\n",
    "            buttons=[\n",
    "                dict(\n",
    "                    args=[{\"visible\": [True if i == idx else False for i in range(len(traces))]},\n",
    "                          {\"annotations\": [a if i == idx else {} for i, a in enumerate(annotations)]}],\n",
    "                    label=f'Hero {stock_names[idx]}',\n",
    "                    method=\"update\"\n",
    "                ) for idx in range(len(traces))\n",
    "            ] + [\n",
    "                dict(\n",
    "                    args=[{\"visible\": [True] * len(traces),\n",
    "                           \"annotations\": annotations}],\n",
    "                    label=\"All Heroes\",\n",
    "                    method=\"update\"\n",
    "                )\n",
    "            ],\n",
    "            direction=\"down\",\n",
    "            pad={\"r\": 10, \"t\": 10},\n",
    "            showactive=True,\n",
    "            x=1.1, \n",
    "            xanchor=\"right\",\n",
    "            y=1.15,\n",
    "            yanchor=\"top\"\n",
    "        ),\n",
    "    ]\n",
    ")\n",
    "\n",
    "# Add shaded area for the crisis period (2008)\n",
    "fig.add_shape(\n",
    "    type=\"rect\",\n",
    "    x0='2023-11-24', \n",
    "    x1='2023-11-29', \n",
    "    y0=0,\n",
    "    y1=dfs[0]['sum'].max() if len(dfs) > 0 else 0, \n",
    "    fillcolor=\"rgba(135,206,250,0.3)\", \n",
    "    line=dict(width=0),\n",
    "    layer=\"below\"\n",
    ")\n",
    "\n",
    "# Add annotation for the crisis period\n",
    "for annotation in annotations:\n",
    "    fig.add_annotation(**annotation)\n",
    "\n",
    "fig.show()\n"
   ]
  }
 ],
 "metadata": {
  "kernelspec": {
   "display_name": "Python 3",
   "language": "python",
   "name": "python3"
  },
  "language_info": {
   "codemirror_mode": {
    "name": "ipython",
    "version": 3
   },
   "file_extension": ".py",
   "mimetype": "text/x-python",
   "name": "python",
   "nbconvert_exporter": "python",
   "pygments_lexer": "ipython3",
   "version": "3.11.5"
  }
 },
 "nbformat": 4,
 "nbformat_minor": 2
}
